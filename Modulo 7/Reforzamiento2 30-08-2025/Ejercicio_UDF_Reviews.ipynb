{
 "cells": [
  {
   "cell_type": "markdown",
   "id": "63f65200",
   "metadata": {},
   "source": [
    "# Ejercicio: Contar palabras en reseñas con UDF en PySpark"
   ]
  },
  {
   "cell_type": "markdown",
   "id": "4ab30dca",
   "metadata": {},
   "source": [
    "\n",
    "Este notebook carga el archivo `ejercicio_reviews_simple.csv`, define una **UDF en PySpark** para contar\n",
    "las palabras de cada reseña y genera una nueva columna `num_palabras` con ese resultado.\n"
   ]
  },
  {
   "cell_type": "markdown",
   "id": "400afa1b",
   "metadata": {},
   "source": [
    "## 1) Configuración inicial"
   ]
  },
  {
   "cell_type": "code",
   "execution_count": 1,
   "id": "4a73b2c3",
   "metadata": {},
   "outputs": [
    {
     "data": {
      "text/html": [
       "\n",
       "            <div>\n",
       "                <p><b>SparkSession - in-memory</b></p>\n",
       "                \n",
       "        <div>\n",
       "            <p><b>SparkContext</b></p>\n",
       "\n",
       "            <p><a href=\"http://host.docker.internal:4043\">Spark UI</a></p>\n",
       "\n",
       "            <dl>\n",
       "              <dt>Version</dt>\n",
       "                <dd><code>v3.5.1</code></dd>\n",
       "              <dt>Master</dt>\n",
       "                <dd><code>local[*]</code></dd>\n",
       "              <dt>AppName</dt>\n",
       "                <dd><code>Ejercicio_UDF_Reviews</code></dd>\n",
       "            </dl>\n",
       "        </div>\n",
       "        \n",
       "            </div>\n",
       "        "
      ],
      "text/plain": [
       "<pyspark.sql.session.SparkSession at 0x17bb656d600>"
      ]
     },
     "execution_count": 1,
     "metadata": {},
     "output_type": "execute_result"
    }
   ],
   "source": [
    "\n",
    "import os, sys\n",
    "\n",
    "# Asegurar mismo Python para driver y workers (Windows)\n",
    "os.environ[\"PYSPARK_PYTHON\"] = sys.executable\n",
    "os.environ[\"PYSPARK_DRIVER_PYTHON\"] = sys.executable\n",
    "\n",
    "from pyspark.sql import SparkSession\n",
    "\n",
    "spark = (SparkSession.builder\n",
    "         .appName(\"Ejercicio_UDF_Reviews\")\n",
    "         .config(\"spark.python.use.daemon\", \"false\")\n",
    "         .config(\"spark.python.worker.reuse\", \"false\")\n",
    "         .config(\"spark.executorEnv.PYSPARK_PYTHON\", sys.executable)\n",
    "         .getOrCreate())\n",
    "\n",
    "spark\n"
   ]
  },
  {
   "cell_type": "markdown",
   "id": "be641325",
   "metadata": {},
   "source": [
    "## 2) Cargar el archivo CSV"
   ]
  },
  {
   "cell_type": "code",
   "execution_count": 2,
   "id": "cb2abcdf",
   "metadata": {},
   "outputs": [
    {
     "name": "stdout",
     "output_type": "stream",
     "text": [
      "+---+-----------------------------------------+\n",
      "|id |texto                                    |\n",
      "+---+-----------------------------------------+\n",
      "|1  |Muy buen servicio y atención rápida.     |\n",
      "|2  |Producto defectuoso, no funcionó.        |\n",
      "|3  |Excelente calidad, volvería a comprar.   |\n",
      "|4  |Entrega lenta, pero producto aceptable.  |\n",
      "|5  |El empaque llegó dañado.                 |\n",
      "|6  |Me encantó, lo recomiendo totalmente.    |\n",
      "|7  |No cumplió con mis expectativas.         |\n",
      "|8  |Buen diseño y fácil de usar.             |\n",
      "|9  |Precio demasiado alto para la calidad.   |\n",
      "|10 |Superó mis expectativas, cinco estrellas.|\n",
      "+---+-----------------------------------------+\n",
      "\n",
      "root\n",
      " |-- id: integer (nullable = true)\n",
      " |-- texto: string (nullable = true)\n",
      "\n"
     ]
    }
   ],
   "source": [
    "\n",
    "# Ajusta la ruta al archivo CSV si es necesario\n",
    "csv_path = \"ejercicio_reviews_simple.csv\"\n",
    "\n",
    "df = (spark.read\n",
    "      .option(\"header\", True)\n",
    "      .option(\"inferSchema\", True)\n",
    "      .csv(csv_path))\n",
    "\n",
    "df.show(truncate=False)\n",
    "df.printSchema()\n"
   ]
  },
  {
   "cell_type": "markdown",
   "id": "1a0111ec",
   "metadata": {},
   "source": [
    "## 3) Definir la UDF para contar palabras"
   ]
  },
  {
   "cell_type": "code",
   "execution_count": 3,
   "id": "3feee8b2",
   "metadata": {},
   "outputs": [],
   "source": [
    "\n",
    "from pyspark.sql.functions import udf, col\n",
    "from pyspark.sql.types import IntegerType\n",
    "\n",
    "def contar_palabras(s):\n",
    "    try:\n",
    "        if not s:\n",
    "            return 0\n",
    "        s = str(s)\n",
    "        return sum(1 for t in s.split() if t.strip())\n",
    "    except Exception:\n",
    "        return 0\n",
    "\n",
    "udf_contar_palabras = udf(contar_palabras, IntegerType())\n"
   ]
  },
  {
   "cell_type": "markdown",
   "id": "8d42458c",
   "metadata": {},
   "source": [
    "## 4) Crear columna `num_palabras` y mostrar resultado"
   ]
  },
  {
   "cell_type": "code",
   "execution_count": 4,
   "id": "35af7522",
   "metadata": {},
   "outputs": [
    {
     "name": "stdout",
     "output_type": "stream",
     "text": [
      "+---+-----------------------------------------+------------+\n",
      "|id |texto                                    |num_palabras|\n",
      "+---+-----------------------------------------+------------+\n",
      "|1  |Muy buen servicio y atención rápida.     |6           |\n",
      "|2  |Producto defectuoso, no funcionó.        |4           |\n",
      "|3  |Excelente calidad, volvería a comprar.   |5           |\n",
      "|4  |Entrega lenta, pero producto aceptable.  |5           |\n",
      "|5  |El empaque llegó dañado.                 |4           |\n",
      "|6  |Me encantó, lo recomiendo totalmente.    |5           |\n",
      "|7  |No cumplió con mis expectativas.         |5           |\n",
      "|8  |Buen diseño y fácil de usar.             |6           |\n",
      "|9  |Precio demasiado alto para la calidad.   |6           |\n",
      "|10 |Superó mis expectativas, cinco estrellas.|5           |\n",
      "+---+-----------------------------------------+------------+\n",
      "\n"
     ]
    }
   ],
   "source": [
    "\n",
    "df2 = df.withColumn(\"num_palabras\", udf_contar_palabras(col(\"texto\")))\n",
    "df2.show(truncate=False)\n"
   ]
  }
 ],
 "metadata": {
  "kernelspec": {
   "display_name": "Python 3",
   "language": "python",
   "name": "python3"
  },
  "language_info": {
   "codemirror_mode": {
    "name": "ipython",
    "version": 3
   },
   "file_extension": ".py",
   "mimetype": "text/x-python",
   "name": "python",
   "nbconvert_exporter": "python",
   "pygments_lexer": "ipython3",
   "version": "3.10.0"
  }
 },
 "nbformat": 4,
 "nbformat_minor": 5
}
