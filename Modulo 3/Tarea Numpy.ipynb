{
 "cells": [
  {
   "metadata": {},
   "cell_type": "markdown",
   "source": "# 1. Carga y estructuración de datos",
   "id": "2d8be01a2b5b075d"
  },
  {
   "cell_type": "code",
   "id": "initial_id",
   "metadata": {
    "collapsed": true,
    "ExecuteTime": {
     "end_time": "2025-06-28T15:31:28.126588Z",
     "start_time": "2025-06-28T15:31:28.115586Z"
    }
   },
   "source": [
    "# Importar la librería NumPy\n",
    "import numpy as np\n",
    "\n",
    "\n",
    "# Para que los resultados sean reproducibles, fijamos una semilla para el generador de números aleatorios.\n",
    "np.random.seed(42)\n",
    "\n",
    "# Creamos un array de NumPy con datos financieros simulados.\n",
    "# Generamos números aleatorios entre 100 y 200 para simular precios de acciones.\n",
    "# La función np.random.rand(5, 5) crea una matriz de 5x5 con valores entre 0 y 1.\n",
    "# La multiplicamos por 100 y le sumamos 100 para que los precios sean más realistas.\n",
    "precios_acciones = 100 + 100 * np.random.rand(5, 5)\n",
    "# Organizamos los datos en una matriz de 5x5.\n",
    "# Cada fila (axis=0) representa una acción.\n",
    "# Cada columna (axis=1) representa un día de cotización.\n",
    "\n",
    "print(\"1. Matriz de Precios de Acciones (5 Acciones x 5 Días)\")\n",
    "# Usamos np.round(2) para redondear los precios a dos decimales y facilitar la lectura.\n",
    "print(np.round(precios_acciones, 2))"
   ],
   "outputs": [
    {
     "name": "stdout",
     "output_type": "stream",
     "text": [
      "1. Matriz de Precios de Acciones (5 Acciones x 5 Días)\n",
      "[[137.45 195.07 173.2  159.87 115.6 ]\n",
      " [115.6  105.81 186.62 160.11 170.81]\n",
      " [102.06 196.99 183.24 121.23 118.18]\n",
      " [118.34 130.42 152.48 143.19 129.12]\n",
      " [161.19 113.95 129.21 136.64 145.61]]\n"
     ]
    }
   ],
   "execution_count": 5
  },
  {
   "metadata": {},
   "cell_type": "markdown",
   "source": "# 2. Análisis y transformación de datos",
   "id": "4692a9825ba2b80b"
  },
  {
   "metadata": {
    "ExecuteTime": {
     "end_time": "2025-06-28T15:36:33.382197Z",
     "start_time": "2025-06-28T15:36:33.361668Z"
    }
   },
   "cell_type": "code",
   "source": [
    "\n",
    "\n",
    "# a) Obtener el promedio, valor máximo y mínimo de cada acción a lo largo del tiempo.\n",
    "# Usamos el argumento axis=1 para realizar los cálculos a través de las columnas (días) para cada fila (acción).\n",
    "promedio_por_accion = np.mean(precios_acciones, axis=1)\n",
    "maximo_por_accion = np.max(precios_acciones, axis=1)\n",
    "minimo_por_accion = np.min(precios_acciones, axis=1)\n",
    "\n",
    "print(\"\\nPromedio de cada acción:\")\n",
    "print(np.round(promedio_por_accion, 2))\n",
    "\n",
    "print(\"\\nValor máximo de cada acción:\")\n",
    "print(np.round(maximo_por_accion, 2))\n",
    "\n",
    "print(\"\\nValor mínimo de cada acción:\")\n",
    "print(np.round(minimo_por_accion, 2))\n",
    "\n",
    "\n",
    "# b) Calcular la variación porcentual diaria de cada acción.\n",
    "# Fórmula: (precio_hoy - precio_ayer) / precio_ayer\n",
    "# Para evitar un bucle, usamos slicing de NumPy.\n",
    "precios_ayer = precios_acciones[:, :-1]  # Todas las filas, todas las columnas excepto la última.\n",
    "precios_hoy = precios_acciones[:, 1:]   # Todas las filas, todas las columnas excepto la primera.\n",
    "\n",
    "variacion_porcentual = (precios_hoy - precios_ayer) / precios_ayer * 100\n",
    "\n",
    "print(\"\\nVariación porcentual diaria (%):\")\n",
    "print(np.round(variacion_porcentual, 2))\n",
    "\n",
    "\n",
    "# c) Aplicar funciones matemáticas como logaritmo, exponencial o normalización.\n",
    "\n",
    "# Logaritmo natural de los precios\n",
    "log_precios = np.log(precios_acciones)\n",
    "print(\"\\nLogaritmo natural de los precios:\")\n",
    "print(np.round(log_precios, 2))\n",
    "\n",
    "# Normalización Min-Max: transforma los datos para que estén en el rango [0, 1].\n",
    "# Fórmula: (X - min(X)) / (max(X) - min(X))\n",
    "min_total = np.min(precios_acciones)\n",
    "max_total = np.max(precios_acciones)\n",
    "precios_normalizados = (precios_acciones - min_total) / (max_total - min_total)\n",
    "\n",
    "print(\"\\nPrecios normalizados (escala de 0 a 1):\")\n",
    "print(np.round(precios_normalizados, 2))"
   ],
   "id": "9617b10a04ae5166",
   "outputs": [
    {
     "name": "stdout",
     "output_type": "stream",
     "text": [
      "\n",
      "--- 2. Análisis y Transformación ---\n",
      "\n",
      "Promedio de cada acción:\n",
      "[156.24 147.79 144.34 134.71 137.32]\n",
      "\n",
      "Valor máximo de cada acción:\n",
      "[195.07 186.62 196.99 152.48 161.19]\n",
      "\n",
      "Valor mínimo de cada acción:\n",
      "[115.6  105.81 102.06 118.34 113.95]\n",
      "\n",
      "Variación porcentual diaria (%):\n",
      "[[ 41.92 -11.21  -7.7  -27.69]\n",
      " [ -8.47  76.37 -14.2    6.68]\n",
      " [ 93.02  -6.98 -33.84  -2.52]\n",
      " [ 10.21  16.91  -6.09  -9.83]\n",
      " [-29.31  13.4    5.74   6.57]]\n",
      "\n",
      "Logaritmo natural de los precios:\n",
      "[[4.92 5.27 5.15 5.07 4.75]\n",
      " [4.75 4.66 5.23 5.08 5.14]\n",
      " [4.63 5.28 5.21 4.8  4.77]\n",
      " [4.77 4.87 5.03 4.96 4.86]\n",
      " [5.08 4.74 4.86 4.92 4.98]]\n",
      "\n",
      "Precios normalizados (escala de 0 a 1):\n",
      "[[0.37 0.98 0.75 0.61 0.14]\n",
      " [0.14 0.04 0.89 0.61 0.72]\n",
      " [0.   1.   0.86 0.2  0.17]\n",
      " [0.17 0.3  0.53 0.43 0.29]\n",
      " [0.62 0.13 0.29 0.36 0.46]]\n"
     ]
    }
   ],
   "execution_count": 7
  },
  {
   "metadata": {},
   "cell_type": "markdown",
   "source": "# 3. Optimización y selección de datos",
   "id": "7becd1940260b8d5"
  },
  {
   "metadata": {
    "ExecuteTime": {
     "end_time": "2025-06-28T15:43:40.243205Z",
     "start_time": "2025-06-28T15:43:40.230426Z"
    }
   },
   "cell_type": "code",
   "source": [
    "# a) Utilizar indexación avanzada para extraer información específica.\n",
    "# Ejemplo: Extraer el precio de la acción 1 (índice 0) en el día 3 (índice 2)\n",
    "# y el precio de la acción 4 (índice 3) en el día 5 (índice 4).\n",
    "# Pasamos una lista de índices de fila y una lista de índices de columna.\n",
    "indices_filas = [0, 3]\n",
    "indices_columnas = [2, 4]\n",
    "precios_especificos = precios_acciones[indices_filas, indices_columnas]\n",
    "\n",
    "print(f\"\\nPrecio de la acción 1 en el día 3: {np.round(precios_acciones[0, 2], 2)}\")\n",
    "print(\"\\nUso de indexación avanzada:\")\n",
    "print(f\"Precios de las acciones {indices_filas} en los días {indices_columnas}, respectivamente:\")\n",
    "print(np.round(precios_especificos, 2))\n",
    "\n",
    "\n",
    "# b) Aplicar broadcasting para realizar operaciones sin necesidad de bucles.\n",
    "# Broadcasting permite operar con arrays de diferentes formas.\n",
    "# Ejemplo: Sumar una \"comisión\" fija de 0.5 a todas las transacciones.\n",
    "comision = 0.5\n",
    "precios_con_comision = precios_acciones + comision\n",
    "\n",
    "print(\"\\nAplicando Broadcasting para sumar una comisión de 0.5:\")\n",
    "# El escalar `comision` (0.5) se \"difunde\" (broadcasts) a cada elemento de la matriz.\n",
    "print(np.round(precios_con_comision, 2))\n",
    "\n",
    "# Ejemplo más avanzado: Restar el precio promedio de cada ACCIÓN a sus precios diarios.\n",
    "# `promedio_por_accion` es un array de (5,), `precios_acciones` es (5, 5).\n",
    "# NumPy no puede restar directamente (5,) de (5, 5). Debemos darle la forma correcta.\n",
    "# Usamos `reshape(5, 1)` para que `promedio_por_accion` sea (5, 1).\n",
    "# Ahora NumPy puede \"difundir\" este vector columna a través de las 5 columnas de la matriz de precios.\n",
    "diferencia_vs_promedio = precios_acciones - promedio_por_accion.reshape(5, 1)\n",
    "\n",
    "print(\"\\nDiferencia de cada precio diario respecto al promedio de su acción (Broadcasting avanzado):\")\n",
    "print(np.round(diferencia_vs_promedio, 2))"
   ],
   "id": "d52e03401ce7c8e7",
   "outputs": [
    {
     "name": "stdout",
     "output_type": "stream",
     "text": [
      "\n",
      "Precio de la acción 1 en el día 3: 173.2\n",
      "\n",
      "Uso de indexación avanzada:\n",
      "Precios de las acciones [0, 3] en los días [2, 4], respectivamente:\n",
      "[173.2  129.12]\n",
      "\n",
      "Aplicando Broadcasting para sumar una comisión de 0.5:\n",
      "[[137.95 195.57 173.7  160.37 116.1 ]\n",
      " [116.1  106.31 187.12 160.61 171.31]\n",
      " [102.56 197.49 183.74 121.73 118.68]\n",
      " [118.84 130.92 152.98 143.69 129.62]\n",
      " [161.69 114.45 129.71 137.14 146.11]]\n",
      "\n",
      "Diferencia de cada precio diario respecto al promedio de su acción (Broadcasting avanzado):\n",
      "[[-18.78  38.83  16.96   3.63 -40.64]\n",
      " [-32.19 -41.98  38.83  12.32  23.02]\n",
      " [-42.28  52.65  38.9  -23.11 -26.16]\n",
      " [-16.37  -4.29  17.76   8.48  -5.59]\n",
      " [ 23.87 -23.37  -8.1   -0.68   8.29]]\n"
     ]
    }
   ],
   "execution_count": 8
  },
  {
   "metadata": {},
   "cell_type": "markdown",
   "source": [
    "# 4. Comparación con otros métodos\n",
    "## Claridad del código:\n",
    "* Numpy: El código es conciso y expresivo. Operaciones como np.mean(axis=1) describen directamente la intención.\n",
    "* Codigo normal: Se necesitan bucles anidados que oscurecen la intención matemática de la operación\n",
    "## Rendimiento:\n",
    "-  Numpy: Realiza \"operaciones vectorizadas\", procesando bloques enteros de memoria a la vez en lugar de elemento por elemento.\n",
    "- Codigo normal: Cada iteración de un bucle for de Python tiene una sobrecarga significativa.\n",
    "## Memoria:\n",
    "- Numpy: Los arrays de NumPy almacenan elementos del mismo tipo de datos en un bloque contiguo de memoria\n",
    "- Codigo normal: Las listas de Python son flexibles y pueden contener objetos de diferentes tipos, lo que implica una mayor sobrecarga de memoria para cada elemento.\n",
    "\n",
    "## Conclusión:\n",
    "Para el análisis de datos numéricos, especialmente con grandes volúmenes de datos, NumPy no solo hace que el código sea más limpio y fácil de escribir, sino que es fundamentalmente más rápido y eficiente en términos de memoria que usar las estructuras de datos básicas de Python.\n"
   ],
   "id": "385859f8e0bd3bf8"
  },
  {
   "metadata": {},
   "cell_type": "code",
   "outputs": [],
   "execution_count": null,
   "source": "",
   "id": "a401b5f34609acab"
  }
 ],
 "metadata": {
  "kernelspec": {
   "display_name": "Python 3",
   "language": "python",
   "name": "python3"
  },
  "language_info": {
   "codemirror_mode": {
    "name": "ipython",
    "version": 2
   },
   "file_extension": ".py",
   "mimetype": "text/x-python",
   "name": "python",
   "nbconvert_exporter": "python",
   "pygments_lexer": "ipython2",
   "version": "2.7.6"
  }
 },
 "nbformat": 4,
 "nbformat_minor": 5
}
