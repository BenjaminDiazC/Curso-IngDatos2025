{
 "cells": [
  {
   "cell_type": "markdown",
   "id": "5edd3108",
   "metadata": {},
   "source": [
    "# Spark SQL — Consultas un poco más complejas + gráfico"
   ]
  },
  {
   "cell_type": "markdown",
   "id": "383a879e",
   "metadata": {},
   "source": [
    "\n",
    "Este notebook carga `ejercicio_reviews_simple.csv`, crea una vista temporal y ejecuta consultas **Spark SQL** con:\n",
    "- CTEs y funciones de texto\n",
    "- Funciones de ventana (window)\n",
    "- Agrupaciones con **rangos (CASE WHEN)**\n",
    "- Explode para tokenizar\n",
    "Al final, se genera un **gráfico** con Matplotlib (sin guardar archivos).\n"
   ]
  },
  {
   "cell_type": "markdown",
   "id": "d5edaf8d",
   "metadata": {},
   "source": [
    "## 1) Crear SparkSession"
   ]
  },
  {
   "cell_type": "code",
   "execution_count": 1,
   "id": "c6d06865",
   "metadata": {},
   "outputs": [
    {
     "data": {
      "text/html": [
       "\n",
       "            <div>\n",
       "                <p><b>SparkSession - in-memory</b></p>\n",
       "                \n",
       "        <div>\n",
       "            <p><b>SparkContext</b></p>\n",
       "\n",
       "            <p><a href=\"http://host.docker.internal:4045\">Spark UI</a></p>\n",
       "\n",
       "            <dl>\n",
       "              <dt>Version</dt>\n",
       "                <dd><code>v3.5.1</code></dd>\n",
       "              <dt>Master</dt>\n",
       "                <dd><code>local[*]</code></dd>\n",
       "              <dt>AppName</dt>\n",
       "                <dd><code>SparkSQL_Reviews_Analitica</code></dd>\n",
       "            </dl>\n",
       "        </div>\n",
       "        \n",
       "            </div>\n",
       "        "
      ],
      "text/plain": [
       "<pyspark.sql.session.SparkSession at 0x26314c41480>"
      ]
     },
     "execution_count": 1,
     "metadata": {},
     "output_type": "execute_result"
    }
   ],
   "source": [
    "\n",
    "import os, sys\n",
    "from pyspark.sql import SparkSession\n",
    "\n",
    "# Entorno recomendado (Windows/Colab): mismo Python para driver/worker\n",
    "os.environ[\"PYSPARK_PYTHON\"] = sys.executable\n",
    "os.environ[\"PYSPARK_DRIVER_PYTHON\"] = sys.executable\n",
    "\n",
    "spark = (SparkSession.builder\n",
    "         .appName(\"SparkSQL_Reviews_Analitica\")\n",
    "         .config(\"spark.python.use.daemon\",\"false\")\n",
    "         .config(\"spark.python.worker.reuse\",\"false\")\n",
    "         .getOrCreate())\n",
    "\n",
    "spark\n"
   ]
  },
  {
   "cell_type": "markdown",
   "id": "cca677aa",
   "metadata": {},
   "source": [
    "## 2) Cargar CSV y crear vista"
   ]
  },
  {
   "cell_type": "code",
   "execution_count": 2,
   "id": "0df60ad4",
   "metadata": {},
   "outputs": [
    {
     "name": "stdout",
     "output_type": "stream",
     "text": [
      "+---+-----------------------------------------+-----------------------------------------+------------+\n",
      "|id |texto_raw                                |texto_norm                               |num_palabras|\n",
      "+---+-----------------------------------------+-----------------------------------------+------------+\n",
      "|1  |Muy buen servicio y atención rápida.     |muy buen servicio y atención rápida.     |6           |\n",
      "|2  |Producto defectuoso, no funcionó.        |producto defectuoso, no funcionó.        |4           |\n",
      "|3  |Excelente calidad, volvería a comprar.   |excelente calidad, volvería a comprar.   |5           |\n",
      "|4  |Entrega lenta, pero producto aceptable.  |entrega lenta, pero producto aceptable.  |5           |\n",
      "|5  |El empaque llegó dañado.                 |el empaque llegó dañado.                 |4           |\n",
      "|6  |Me encantó, lo recomiendo totalmente.    |me encantó, lo recomiendo totalmente.    |5           |\n",
      "|7  |No cumplió con mis expectativas.         |no cumplió con mis expectativas.         |5           |\n",
      "|8  |Buen diseño y fácil de usar.             |buen diseño y fácil de usar.             |6           |\n",
      "|9  |Precio demasiado alto para la calidad.   |precio demasiado alto para la calidad.   |6           |\n",
      "|10 |Superó mis expectativas, cinco estrellas.|superó mis expectativas, cinco estrellas.|5           |\n",
      "+---+-----------------------------------------+-----------------------------------------+------------+\n",
      "\n"
     ]
    }
   ],
   "source": [
    "\n",
    "csv_path = \"ejercicio_reviews_simple.csv\"\n",
    "\n",
    "df = (spark.read\n",
    "      .option(\"header\", True)\n",
    "      .option(\"inferSchema\", True)\n",
    "      .csv(csv_path))\n",
    "\n",
    "df.createOrReplaceTempView(\"raw_reviews\")\n",
    "\n",
    "# Vista enriquecida: normaliza texto y cuenta palabras\n",
    "spark.sql('''\n",
    "CREATE OR REPLACE TEMP VIEW reviews AS\n",
    "WITH base AS (\n",
    "  SELECT\n",
    "    CAST(id AS INT)        AS id,\n",
    "    texto                  AS texto_raw,\n",
    "    lower(trim(texto))     AS texto_norm\n",
    "  FROM raw_reviews\n",
    "),\n",
    "with_len AS (\n",
    "  SELECT\n",
    "    id,\n",
    "    texto_raw,\n",
    "    texto_norm,\n",
    "    size(split(texto_norm, ' ')) AS num_palabras\n",
    "  FROM base\n",
    ")\n",
    "SELECT * FROM with_len\n",
    "''')\n",
    "\n",
    "spark.sql(\"SELECT * FROM reviews\").show(truncate=False)\n"
   ]
  },
  {
   "cell_type": "markdown",
   "id": "2347c1ba",
   "metadata": {},
   "source": [
    "## 3) Top 5 reseñas más largas (window function)"
   ]
  },
  {
   "cell_type": "code",
   "execution_count": 3,
   "id": "32cedbdf",
   "metadata": {},
   "outputs": [
    {
     "name": "stdout",
     "output_type": "stream",
     "text": [
      "+---+---------------------------------------+------------+\n",
      "|id |texto_raw                              |num_palabras|\n",
      "+---+---------------------------------------+------------+\n",
      "|1  |Muy buen servicio y atención rápida.   |6           |\n",
      "|8  |Buen diseño y fácil de usar.           |6           |\n",
      "|9  |Precio demasiado alto para la calidad. |6           |\n",
      "|3  |Excelente calidad, volvería a comprar. |5           |\n",
      "|4  |Entrega lenta, pero producto aceptable.|5           |\n",
      "+---+---------------------------------------+------------+\n",
      "\n"
     ]
    }
   ],
   "source": [
    "\n",
    "top_largas = spark.sql('''\n",
    "WITH ranked AS (\n",
    "  SELECT\n",
    "    id, texto_raw, num_palabras,\n",
    "    ROW_NUMBER() OVER (ORDER BY num_palabras DESC, id ASC) AS rn\n",
    "  FROM reviews\n",
    ")\n",
    "SELECT id, texto_raw, num_palabras\n",
    "FROM ranked\n",
    "WHERE rn <= 5\n",
    "ORDER BY num_palabras DESC, id ASC\n",
    "''')\n",
    "top_largas.show(truncate=False)\n"
   ]
  },
  {
   "cell_type": "markdown",
   "id": "a36078af",
   "metadata": {},
   "source": [
    "## 4) Distribución por rangos de longitud (CASE WHEN)"
   ]
  },
  {
   "cell_type": "code",
   "execution_count": 4,
   "id": "2573deff",
   "metadata": {},
   "outputs": [
    {
     "name": "stdout",
     "output_type": "stream",
     "text": [
      "+-----+-----+\n",
      "|rango|total|\n",
      "+-----+-----+\n",
      "|  4-6|   10|\n",
      "+-----+-----+\n",
      "\n"
     ]
    }
   ],
   "source": [
    "\n",
    "dist_rangos = spark.sql('''\n",
    "SELECT\n",
    "  CASE\n",
    "    WHEN num_palabras BETWEEN 0 AND 3 THEN '0-3'\n",
    "    WHEN num_palabras BETWEEN 4 AND 6 THEN '4-6'\n",
    "    WHEN num_palabras BETWEEN 7 AND 10 THEN '7-10'\n",
    "    ELSE '11+'\n",
    "  END AS rango,\n",
    "  COUNT(*) AS total\n",
    "FROM reviews\n",
    "GROUP BY 1\n",
    "ORDER BY\n",
    "  CASE rango WHEN '0-3' THEN 1 WHEN '4-6' THEN 2 WHEN '7-10' THEN 3 ELSE 4 END\n",
    "''')\n",
    "dist_rangos.show()\n"
   ]
  },
  {
   "cell_type": "markdown",
   "id": "2f2c0aea",
   "metadata": {},
   "source": [
    "## 5) Promedio de palabras por polaridad simple (keywords)"
   ]
  },
  {
   "cell_type": "code",
   "execution_count": 5,
   "id": "41a97104",
   "metadata": {},
   "outputs": [
    {
     "name": "stdout",
     "output_type": "stream",
     "text": [
      "+---------+-----------------+---+\n",
      "|polaridad|promedio_palabras|n  |\n",
      "+---------+-----------------+---+\n",
      "|neutro   |5.0              |6  |\n",
      "|positivo |5.666666666666667|3  |\n",
      "|negativo |4.0              |1  |\n",
      "+---------+-----------------+---+\n",
      "\n"
     ]
    }
   ],
   "source": [
    "\n",
    "prom_polaridad = spark.sql('''\n",
    "WITH flags AS (\n",
    "  SELECT\n",
    "    *,\n",
    "    CASE\n",
    "      WHEN texto_norm LIKE '%excelente%' OR texto_norm LIKE '%bueno%' OR texto_norm LIKE '%buen%' THEN 'positivo'\n",
    "      WHEN texto_norm LIKE '%malo%' OR texto_norm LIKE '%defectuoso%' OR texto_norm LIKE '%no funcion%' THEN 'negativo'\n",
    "      ELSE 'neutro'\n",
    "    END AS polaridad\n",
    "  FROM reviews\n",
    ")\n",
    "SELECT polaridad, AVG(num_palabras) AS promedio_palabras, COUNT(*) AS n\n",
    "FROM flags\n",
    "GROUP BY polaridad\n",
    "ORDER BY n DESC\n",
    "''')\n",
    "prom_polaridad.show(truncate=False)\n"
   ]
  },
  {
   "cell_type": "markdown",
   "id": "21236039",
   "metadata": {},
   "source": [
    "## 6) Top 10 palabras más frecuentes (filtrando stopwords)"
   ]
  },
  {
   "cell_type": "code",
   "execution_count": 6,
   "id": "49126b2e",
   "metadata": {},
   "outputs": [
    {
     "name": "stdout",
     "output_type": "stream",
     "text": [
      "+------------+----+\n",
      "|palabra     |freq|\n",
      "+------------+----+\n",
      "|buen        |2   |\n",
      "|calidad     |2   |\n",
      "|expectativas|2   |\n",
      "|mis         |2   |\n",
      "|producto    |2   |\n",
      "|aceptable   |1   |\n",
      "|alto        |1   |\n",
      "|atención    |1   |\n",
      "|cinco       |1   |\n",
      "|comprar     |1   |\n",
      "+------------+----+\n",
      "\n"
     ]
    }
   ],
   "source": [
    "\n",
    "stop = [\"y\",\"de\",\"la\",\"el\",\"en\",\"para\",\"lo\",\"las\",\"los\",\"un\",\"una\",\"muy\",\"no\",\"con\",\"por\",\"que\",\"mi\",\"se\"]\n",
    "stop_list = \"(\" + \",\".join([\"'\" + s + \"'\" for s in stop]) + \")\"\n",
    "\n",
    "query_top_tokens = f'''\n",
    "WITH toks AS (\n",
    "  SELECT\n",
    "    id,\n",
    "    explode(split(texto_norm, ' ')) AS token\n",
    "  FROM reviews\n",
    "),\n",
    "clean AS (\n",
    "  SELECT\n",
    "    id,\n",
    "    regexp_replace(token, '[^a-záéíóúñ0-9]', '') AS tok\n",
    "  FROM toks\n",
    "),\n",
    "filtered AS (\n",
    "  SELECT tok FROM clean\n",
    "  WHERE tok <> '' AND LENGTH(tok) >= 3 AND tok NOT IN {stop_list}\n",
    ")\n",
    "SELECT tok AS palabra, COUNT(*) AS freq\n",
    "FROM filtered\n",
    "GROUP BY tok\n",
    "ORDER BY freq DESC, palabra ASC\n",
    "LIMIT 10\n",
    "'''\n",
    "top_tokens = spark.sql(query_top_tokens)\n",
    "top_tokens.show(truncate=False)\n"
   ]
  },
  {
   "cell_type": "markdown",
   "id": "dfc579af",
   "metadata": {},
   "source": [
    "## 7) Gráfico: distribución por rangos de longitud"
   ]
  },
  {
   "cell_type": "code",
   "execution_count": 7,
   "id": "26e3a345",
   "metadata": {},
   "outputs": [
    {
     "data": {
      "image/png": "[encoded data removed]",
      "text/plain": [
       "<Figure size 640x480 with 1 Axes>"
      ]
     },
     "metadata": {},
     "output_type": "display_data"
    }
   ],
   "source": [
    "\n",
    "# Convertimos a Pandas y graficamos con Matplotlib (sin estilos ni colores específicos)\n",
    "import matplotlib.pyplot as plt\n",
    "\n",
    "pdf = dist_rangos.toPandas()\n",
    "\n",
    "plt.figure()\n",
    "plt.bar(pdf[\"rango\"], pdf[\"total\"])\n",
    "plt.title(\"Distribución de reseñas por rango de palabras\")\n",
    "plt.xlabel(\"Rango de palabras\")\n",
    "plt.ylabel(\"Cantidad de reseñas\")\n",
    "plt.show()\n"
   ]
  }
 ],
 "metadata": {
  "kernelspec": {
   "display_name": "Python 3",
   "language": "python",
   "name": "python3"
  },
  "language_info": {
   "codemirror_mode": {
    "name": "ipython",
    "version": 3
   },
   "file_extension": ".py",
   "mimetype": "text/x-python",
   "name": "python",
   "nbconvert_exporter": "python",
   "pygments_lexer": "ipython3",
   "version": "3.10.0"
  }
 },
 "nbformat": 4,
 "nbformat_minor": 5
}
