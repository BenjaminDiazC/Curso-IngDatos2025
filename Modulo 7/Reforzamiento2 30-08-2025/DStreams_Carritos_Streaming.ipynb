{
 "cells": [
  {
   "cell_type": "markdown",
   "id": "5e9f5ad8",
   "metadata": {},
   "source": [
    "# Spark Streaming (DStreams) — Carritos en tiempo real"
   ]
  },
  {
   "cell_type": "markdown",
   "id": "1a499039",
   "metadata": {},
   "source": [
    "\n",
    "Este notebook usa la API **DStreams** para leer eventos de carritos desde un **socket** y calcular métricas por lote y por ventana.\n",
    "\n",
    "Ejecuta en una terminal aparte el servidor continuo antes de correr el notebook:\n",
    "\n",
    "```bash\n",
    "python servidor_carritos_continuo.py\n",
    "# o ajusta el intervalo de envío:\n",
    "python servidor_carritos_continuo.py 0.25\n",
    "```\n"
   ]
  },
  {
   "cell_type": "code",
   "execution_count": 1,
   "id": "aa129a4d",
   "metadata": {},
   "outputs": [
    {
     "name": "stderr",
     "output_type": "stream",
     "text": [
      "c:\\Users\\patri\\AppData\\Local\\Programs\\Python\\Python310\\lib\\site-packages\\pyspark\\streaming\\context.py:72: FutureWarning: DStream is deprecated as of Spark 3.4.0. Migrate to Structured Streaming.\n",
      "  warnings.warn(\n"
     ]
    },
    {
     "name": "stdout",
     "output_type": "stream",
     "text": [
      "Conectado a servidor de carritos en 127.0.0.1:9999\n"
     ]
    },
    {
     "name": "stdout",
     "output_type": "stream",
     "text": [
      "-------------------------------------------\n",
      "Time: 2025-08-30 12:47:20\n",
      "-------------------------------------------\n",
      "\n"
     ]
    }
   ],
   "source": [
    "\n",
    "import os, sys\n",
    "os.environ[\"PYSPARK_PYTHON\"] = sys.executable\n",
    "os.environ[\"PYSPARK_DRIVER_PYTHON\"] = sys.executable\n",
    "\n",
    "from pyspark import SparkContext\n",
    "from pyspark.streaming import StreamingContext\n",
    "\n",
    "sc = SparkContext(master=\"local[2]\", appName=\"DStreams_Carritos\")\n",
    "sc.setLogLevel(\"WARN\")\n",
    "\n",
    "ssc = StreamingContext(sc, batchDuration=5)\n",
    "ssc.checkpoint(\"./chk_dstreams_carritos\")\n",
    "\n",
    "lines = ssc.socketTextStream(\"127.0.0.1\", 9999)\n",
    "print(\"Conectado a servidor de carritos en 127.0.0.1:9999\")\n"
   ]
  },
  {
   "cell_type": "code",
   "execution_count": 2,
   "id": "ba077d5d",
   "metadata": {},
   "outputs": [],
   "source": [
    "\n",
    "import re\n",
    "\n",
    "def parse_line(line: str):\n",
    "    try:\n",
    "        kv = dict(re.findall(r\"(\\w+)=([^\\s]+)\", line))\n",
    "        ev = kv.get(\"event\",\"unknown\")\n",
    "        user = kv.get(\"user\",\"\")\n",
    "        sku = kv.get(\"sku\",\"\")\n",
    "        val = float(kv.get(\"value\",\"0\") or 0.0)\n",
    "        items = int(kv.get(\"items\",\"0\") or 0)\n",
    "        return {\"event\": ev, \"user\": user, \"sku\": sku, \"value\": val, \"items\": items}\n",
    "    except Exception:\n",
    "        return {\"event\": \"malformed\", \"user\": \"\", \"sku\": \"\", \"value\": 0.0, \"items\": 0}\n",
    "\n",
    "events = lines.map(parse_line).cache()\n",
    "\n",
    "per_batch_counts = events.map(lambda e: (e[\"event\"], 1)).reduceByKey(lambda a,b: a+b)\n",
    "\n",
    "window_counts = (events\n",
    "                 .map(lambda e: (e[\"event\"], 1))\n",
    "                 .reduceByKeyAndWindow(lambda a,b: a+b, lambda a,b: a-b, 60, 10))\n",
    "\n",
    "def to_pairs(e):\n",
    "    if e[\"event\"] == \"cart_abandoned\":\n",
    "        return (\"abandoned\", 1)\n",
    "    elif e[\"event\"] == \"checkout_ok\":\n",
    "        return (\"checkout\", 1)\n",
    "    else:\n",
    "        return (\"other\", 0)\n",
    "\n",
    "pairs = events.map(to_pairs)\n",
    "win_pairs = pairs.reduceByKeyAndWindow(lambda a,b: a+b, lambda a,b: a-b, 60, 10)\n",
    "\n",
    "def compute_rate(rdd):\n",
    "    data = dict(rdd.collect())\n",
    "    abandoned = data.get(\"abandoned\", 0)\n",
    "    checkout  = data.get(\"checkout\", 0)\n",
    "    denom = abandoned + checkout\n",
    "    rate = (abandoned / denom) if denom else 0.0\n",
    "    print(f\"[window] abandono={abandoned} checkout={checkout} tasa_abandono={rate:.3f}\")\n",
    "\n",
    "per_batch_counts.pprint()\n",
    "window_counts.pprint()\n",
    "win_pairs.foreachRDD(compute_rate)\n"
   ]
  },
  {
   "cell_type": "code",
   "execution_count": null,
   "id": "44f87816",
   "metadata": {},
   "outputs": [],
   "source": [
    "\n",
    "ssc.start()\n",
    "ssc.awaitTerminationOrTimeout(60)\n",
    "ssc.stop(stopSparkContext=False, stopGraceFully=True)\n",
    "print(\"Streaming detenido.\")\n"
   ]
  }
 ],
 "metadata": {
  "kernelspec": {
   "display_name": "Python 3",
   "language": "python",
   "name": "python3"
  },
  "language_info": {
   "codemirror_mode": {
    "name": "ipython",
    "version": 3
   },
   "file_extension": ".py",
   "mimetype": "text/x-python",
   "name": "python",
   "nbconvert_exporter": "python",
   "pygments_lexer": "ipython3",
   "version": "3.10.0"
  }
 },
 "nbformat": 4,
 "nbformat_minor": 5
}
