{
 "cells": [
  {
   "cell_type": "markdown",
   "id": "03310321",
   "metadata": {},
   "source": [
    "### Actividad 1"
   ]
  },
  {
   "cell_type": "code",
   "execution_count": 2,
   "id": "2a3c80c5",
   "metadata": {},
   "outputs": [],
   "source": [
    "def resta(n1,n2):\n",
    "    total=n1-n2\n",
    "    return total\n",
    "def suma(n1,n2):\n",
    "    total=n1+n2\n",
    "    return total\n",
    "def multiplicacion(n1,n2):\n",
    "    total=n1*n2\n",
    "    return total\n",
    "def division(n1,n2):\n",
    "    total=n1/n2\n",
    "    return total\n",
    "\n",
    "\n",
    "def calculadora():\n",
    "    operaciones=[\"suma\",\"resta\",\"division\",\"multiplicacion\"]\n",
    "    operacion=input(\"Que operación desea hacer? (suma, multiplicacion, division, resta): \")\n",
    "    if operacion in operaciones:\n",
    "        n1=float(input(\"Ingrese el número 1: \"))\n",
    "        n2=float(input(\"Ingrese el número 2: \"))\n",
    "        if operacion==\"resta\":\n",
    "            total=resta(n1,n2)\n",
    "        elif operacion==\"suma\":\n",
    "            total=suma(n1,n2)\n",
    "        elif operacion==\"multiplicacion\":\n",
    "            total=multiplicacion(n1,n2)\n",
    "        elif operacion==\"division\":\n",
    "            if n2!=0:\n",
    "                total=division(n1,n2)\n",
    "            else:\n",
    "                total=print(\"No se puede dividir por 0\")\n",
    "    else:\n",
    "        total=print(\"Operación no valida\")\n",
    "    return total"
   ]
  },
  {
   "cell_type": "code",
   "execution_count": 50,
   "id": "794f1a15",
   "metadata": {},
   "outputs": [
    {
     "name": "stdout",
     "output_type": "stream",
     "text": [
      "Que operación desea hacer? (suma, multiplicacion, division, resta): aslkdjalksdjakldj\n",
      "Operación no valida\n"
     ]
    }
   ],
   "source": [
    "calculadora()"
   ]
  },
  {
   "cell_type": "markdown",
   "id": "baff52f9",
   "metadata": {},
   "source": [
    "### Actividad 2"
   ]
  },
  {
   "cell_type": "code",
   "id": "d1eb9fb9",
   "metadata": {
    "ExecuteTime": {
     "end_time": "2025-06-16T16:47:38.796833Z",
     "start_time": "2025-06-16T16:47:30.351548Z"
    }
   },
   "source": [
    "def es_mayor(edad):\n",
    "    if edad>=18:\n",
    "        True\n",
    "    else:\n",
    "        False\n",
    "\n",
    "nombre=input(\"Nombre de la persona: \")\n",
    "edad=input(\"Edad de la persona: \")\n",
    "while not edad.isnumeric():\n",
    "    edad=input(\"Ha ingresado mal la edad: \")\n",
    "if es_mayor(int(edad)):\n",
    "    print(\"Hola!\",nombre, \", tienes\",str(edad),\"años, por tanto, eres mayor de edad\")\n",
    "else:\n",
    "    print(\"Hola!\",nombre, \", tienes\",str(edad),\"años, por tanto, eres menor de edad\")\n"
   ],
   "outputs": [
    {
     "name": "stdout",
     "output_type": "stream",
     "text": [
      "Hola! asda , tienes 12 años, por tanto, eres menor de edad\n"
     ]
    }
   ],
   "execution_count": 2
  },
  {
   "cell_type": "code",
   "execution_count": null,
   "id": "feaf6e63",
   "metadata": {},
   "outputs": [],
   "source": []
  }
 ],
 "metadata": {
  "kernelspec": {
   "display_name": "Python 3",
   "language": "python",
   "name": "python3"
  },
  "language_info": {
   "codemirror_mode": {
    "name": "ipython",
    "version": 3
   },
   "file_extension": ".py",
   "mimetype": "text/x-python",
   "name": "python",
   "nbconvert_exporter": "python",
   "pygments_lexer": "ipython3",
   "version": "3.11.3"
  }
 },
 "nbformat": 4,
 "nbformat_minor": 5
}
