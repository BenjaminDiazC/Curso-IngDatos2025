{
 "cells": [
  {
   "cell_type": "code",
   "id": "initial_id",
   "metadata": {
    "collapsed": true,
    "ExecuteTime": {
     "end_time": "2025-08-14T01:56:15.744511Z",
     "start_time": "2025-08-14T01:56:13.748119Z"
    }
   },
   "source": [
    "import pandas as pd\n",
    "import pymongo as pm\n",
    "from pymongo import MongoClient as mongo\n",
    "import numpy as np\n",
    "from sklearn.metrics import (\n",
    " # Métricas de regresión\n",
    " mean_absolute_error,\n",
    " mean_squared_error,\n",
    " r2_score,\n",
    "\n",
    " # Métricas de clasificación\n",
    " confusion_matrix,\n",
    " accuracy_score,\n",
    " precision_score,\n",
    " recall_score\n",
    ")\n"
   ],
   "outputs": [],
   "execution_count": 7
  },
  {
   "metadata": {
    "ExecuteTime": {
     "end_time": "2025-08-14T02:00:06.217214Z",
     "start_time": "2025-08-14T02:00:06.162748Z"
    }
   },
   "cell_type": "code",
   "source": [
    "# Almacenar la conexión a MongoDB en una variable\n",
    "cliente = mongo(\"mongodb://localhost:27017/\")\n",
    "\n",
    "# Seleccionar la base de datos y la colección\n",
    "db = cliente['educacion_chile']\n",
    "coleccion = db['estudiantes_tecnicos']\n",
    "\n",
    "# Obtener todos los registros dentro de la tabla y guardarlos como una lista de diccionarios\n",
    "registros = list(coleccion.find())\n",
    "\n",
    "# Convertir todos los registros a un DataFrame para su tratamiento eliminado el atributo \"_id\"\n",
    "df = pd.DataFrame(registros)\n",
    "df.drop(columns=[\"_id\"], inplace=True)\n",
    "df.head()"
   ],
   "id": "21ef4f8579fe45bc",
   "outputs": [
    {
     "data": {
      "text/plain": [
       "             nombre genero  edad                region        comuna  \\\n",
       "0     Camila Torres      F    17  Región Metropolitana   Puente Alto   \n",
       "1   Ignacio Paredes      M    18  Región Metropolitana         Maipú   \n",
       "2   Valentina Rojas      F    17  Región Metropolitana    Las Condes   \n",
       "3    Matías Herrera      M    16  Región Metropolitana  San Bernardo   \n",
       "4  Daniela González      F    18  Región Metropolitana      Vitacura   \n",
       "\n",
       "   asistencia  promedio_notas tipo_establecimiento condicion_socioeconomica  \\\n",
       "0          62             4.8            municipal                     baja   \n",
       "1          68             5.1            municipal                     baja   \n",
       "2          91             6.4           particular                     alta   \n",
       "3          70             5.0            municipal                    media   \n",
       "4          95             6.6           particular                     alta   \n",
       "\n",
       "   riesgo_desercion  abandono_reportado  \n",
       "0              0.82                True  \n",
       "1              0.73               False  \n",
       "2              0.12               False  \n",
       "3              0.58               False  \n",
       "4              0.09               False  "
      ],
      "text/html": [
       "<div>\n",
       "<style scoped>\n",
       "    .dataframe tbody tr th:only-of-type {\n",
       "        vertical-align: middle;\n",
       "    }\n",
       "\n",
       "    .dataframe tbody tr th {\n",
       "        vertical-align: top;\n",
       "    }\n",
       "\n",
       "    .dataframe thead th {\n",
       "        text-align: right;\n",
       "    }\n",
       "</style>\n",
       "<table border=\"1\" class=\"dataframe\">\n",
       "  <thead>\n",
       "    <tr style=\"text-align: right;\">\n",
       "      <th></th>\n",
       "      <th>nombre</th>\n",
       "      <th>genero</th>\n",
       "      <th>edad</th>\n",
       "      <th>region</th>\n",
       "      <th>comuna</th>\n",
       "      <th>asistencia</th>\n",
       "      <th>promedio_notas</th>\n",
       "      <th>tipo_establecimiento</th>\n",
       "      <th>condicion_socioeconomica</th>\n",
       "      <th>riesgo_desercion</th>\n",
       "      <th>abandono_reportado</th>\n",
       "    </tr>\n",
       "  </thead>\n",
       "  <tbody>\n",
       "    <tr>\n",
       "      <th>0</th>\n",
       "      <td>Camila Torres</td>\n",
       "      <td>F</td>\n",
       "      <td>17</td>\n",
       "      <td>Región Metropolitana</td>\n",
       "      <td>Puente Alto</td>\n",
       "      <td>62</td>\n",
       "      <td>4.8</td>\n",
       "      <td>municipal</td>\n",
       "      <td>baja</td>\n",
       "      <td>0.82</td>\n",
       "      <td>True</td>\n",
       "    </tr>\n",
       "    <tr>\n",
       "      <th>1</th>\n",
       "      <td>Ignacio Paredes</td>\n",
       "      <td>M</td>\n",
       "      <td>18</td>\n",
       "      <td>Región Metropolitana</td>\n",
       "      <td>Maipú</td>\n",
       "      <td>68</td>\n",
       "      <td>5.1</td>\n",
       "      <td>municipal</td>\n",
       "      <td>baja</td>\n",
       "      <td>0.73</td>\n",
       "      <td>False</td>\n",
       "    </tr>\n",
       "    <tr>\n",
       "      <th>2</th>\n",
       "      <td>Valentina Rojas</td>\n",
       "      <td>F</td>\n",
       "      <td>17</td>\n",
       "      <td>Región Metropolitana</td>\n",
       "      <td>Las Condes</td>\n",
       "      <td>91</td>\n",
       "      <td>6.4</td>\n",
       "      <td>particular</td>\n",
       "      <td>alta</td>\n",
       "      <td>0.12</td>\n",
       "      <td>False</td>\n",
       "    </tr>\n",
       "    <tr>\n",
       "      <th>3</th>\n",
       "      <td>Matías Herrera</td>\n",
       "      <td>M</td>\n",
       "      <td>16</td>\n",
       "      <td>Región Metropolitana</td>\n",
       "      <td>San Bernardo</td>\n",
       "      <td>70</td>\n",
       "      <td>5.0</td>\n",
       "      <td>municipal</td>\n",
       "      <td>media</td>\n",
       "      <td>0.58</td>\n",
       "      <td>False</td>\n",
       "    </tr>\n",
       "    <tr>\n",
       "      <th>4</th>\n",
       "      <td>Daniela González</td>\n",
       "      <td>F</td>\n",
       "      <td>18</td>\n",
       "      <td>Región Metropolitana</td>\n",
       "      <td>Vitacura</td>\n",
       "      <td>95</td>\n",
       "      <td>6.6</td>\n",
       "      <td>particular</td>\n",
       "      <td>alta</td>\n",
       "      <td>0.09</td>\n",
       "      <td>False</td>\n",
       "    </tr>\n",
       "  </tbody>\n",
       "</table>\n",
       "</div>"
      ]
     },
     "execution_count": 9,
     "metadata": {},
     "output_type": "execute_result"
    }
   ],
   "execution_count": 9
  },
  {
   "metadata": {
    "ExecuteTime": {
     "end_time": "2025-08-14T02:08:41.466536Z",
     "start_time": "2025-08-14T02:08:41.454381Z"
    }
   },
   "cell_type": "code",
   "source": [
    "# Declarar contrato en las columnas\n",
    "# Separar la variable objetivo (y): postula_a_beca (Booleano)\n",
    "# Separar la variable independiente (X): campos numéricos y categóricos explícitos.\n",
    "\n",
    "# Campo objetivo = y\n",
    "target = \"abandono_reportado\"\n",
    "\n",
    "cols_numericas = [\"edad\", \"asistencia\", \"promedio_notas\"]\n",
    "cols_categoricas = [\"genero\", \"comuna\", \"region\",\"tipo_establecimiento\",\"condicion_socioeconomica\"]\n",
    "\n",
    "X = df[cols_numericas + cols_categoricas].copy()\n",
    "y = df[target].copy()"
   ],
   "id": "9dfb8d0e5e1f6a8",
   "outputs": [],
   "execution_count": 11
  },
  {
   "metadata": {
    "ExecuteTime": {
     "end_time": "2025-08-14T02:00:13.401642Z",
     "start_time": "2025-08-14T02:00:13.351942Z"
    }
   },
   "cell_type": "code",
   "source": [
    "from sklearn.model_selection import train_test_split\n",
    "\n",
    "# Variable dependiente (lo que queremos predecir)\n",
    "Y = pd.DataFrame(df['abandono_reportado'])\n",
    "\n",
    "# Variables independientes (las que usamos para predecir)\n",
    "X = df.drop(columns=['abandono_reportado'])\n",
    "\n",
    "# Separación en conjunto de entrenamiento (80%) y prueba (20%) y con una semilla seteada para reproducibilidad\n",
    "Xtrain, Xtest, Ytrain, Ytest = train_test_split(X, Y, test_size=0.2, random_state=200)\n",
    "\n",
    "print(\"Formas de los conjunto de entrenamiento de:\\n\"\n",
    "      \" X:\", Xtrain.shape,\"\\n\"\n",
    "      \" Y:\", Ytrain.shape,\"\\n\")\n",
    "print(\"Formas de los conjunto de prueba de:\\n\"\n",
    "      \" X:\", Xtest.shape,\"\\n\"\n",
    "      \" Y:\", Ytest.shape,\"\\n\")"
   ],
   "id": "26e433f587be16e3",
   "outputs": [
    {
     "name": "stdout",
     "output_type": "stream",
     "text": [
      "Formas de los conjunto de entrenamiento de:\n",
      " X: (67, 10) \n",
      " Y: (67, 1) \n",
      "\n",
      "Formas de los conjunto de prueba de:\n",
      " X: (17, 10) \n",
      " Y: (17, 1) \n",
      "\n"
     ]
    }
   ],
   "execution_count": 10
  },
  {
   "metadata": {},
   "cell_type": "code",
   "outputs": [
    {
     "name": "stdout",
     "output_type": "stream",
     "text": [
      "MAE: 2.40\n"
     ]
    }
   ],
   "execution_count": 8,
   "source": [
    "from sklearn.metrics import mean_absolute_error\n",
    "# Datos de ejemplo\n",
    "# Calcular MAE\n",
    "mae = mean_absolute_error(y_true, y_pred)\n",
    "print(f\"MAE: {mae:.2f}\")"
   ],
   "id": "a0581d33f631abce"
  },
  {
   "metadata": {},
   "cell_type": "code",
   "outputs": [],
   "execution_count": null,
   "source": "",
   "id": "3dfb9dbf393ff3c6"
  }
 ],
 "metadata": {
  "kernelspec": {
   "display_name": "Python 3",
   "language": "python",
   "name": "python3"
  },
  "language_info": {
   "codemirror_mode": {
    "name": "ipython",
    "version": 2
   },
   "file_extension": ".py",
   "mimetype": "text/x-python",
   "name": "python",
   "nbconvert_exporter": "python",
   "pygments_lexer": "ipython2",
   "version": "2.7.6"
  }
 },
 "nbformat": 4,
 "nbformat_minor": 5
}
