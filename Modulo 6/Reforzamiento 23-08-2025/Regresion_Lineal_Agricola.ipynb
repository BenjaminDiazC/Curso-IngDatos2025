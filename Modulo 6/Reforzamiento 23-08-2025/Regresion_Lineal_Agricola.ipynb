{
 "cells": [
  {
   "cell_type": "markdown",
   "id": "96accee1",
   "metadata": {},
   "source": [
    "\n",
    "# Regresión Lineal con datos agrícolas — **versión explicada paso a paso**\n",
    "\n",
    "En este cuaderno predecimos **`Producción_Ton`** usando solo **Regresión Lineal** con scikit‑learn.\n",
    "Cada paso incluye una explicación breve (qué, por qué y cómo), buenas prácticas y advertencias comunes.\n"
   ]
  },
  {
   "cell_type": "markdown",
   "id": "18d0be0a",
   "metadata": {},
   "source": [
    "\n",
    "## Paso 0 · Requisitos y archivo de datos\n",
    "- **Archivo**: `1. datos_agricolas.xlsx`, hoja **`Inicio`** (debe estar en la misma carpeta del notebook, o actualiza la ruta).\n",
    "- **Librerías**: `pandas`, `scikit-learn`, `matplotlib`, `openpyxl` (para leer Excel).\n",
    "- **Objetivo**: predecir `Producción_Ton` SIN usar `Ingresos` ni `Utilidad` para evitar **fuga de información**.\n"
   ]
  },
  {
   "cell_type": "markdown",
   "id": "f0e2ab79",
   "metadata": {},
   "source": [
    "\n",
    "## Paso 1 · Importar librerías (¿qué y por qué?)\n",
    "- `pandas` para manejar dataframes.\n",
    "- `train_test_split` para separar entrenamiento/prueba (evita sobreajuste y mide generalización).\n",
    "- `ColumnTransformer`/`Pipeline` para **empaquetar** preprocesamiento + modelo (reproducible y limpio).\n",
    "- `OneHotEncoder` para convertir variables categóricas (`Región`, `Cultivo`) a números.\n",
    "- `StandardScaler` para escalar numéricas (útil para muchos modelos; no daña a la regresión lineal).\n",
    "- Métricas: `MAE`, `MSE/RMSE`, `R2` para evaluar precisión.\n"
   ]
  },
  {
   "cell_type": "code",
   "execution_count": 3,
   "id": "a7587de3",
   "metadata": {},
   "outputs": [],
   "source": [
    "\n",
    "import pandas as pd\n",
    "import numpy as np\n",
    "\n",
    "from sklearn.model_selection import train_test_split\n",
    "from sklearn.compose import ColumnTransformer\n",
    "from sklearn.preprocessing import OneHotEncoder, StandardScaler\n",
    "from sklearn.impute import SimpleImputer\n",
    "from sklearn.pipeline import Pipeline\n",
    "from sklearn.linear_model import LinearRegression\n",
    "from sklearn.metrics import mean_absolute_error, mean_squared_error, r2_score\n",
    "\n",
    "import matplotlib.pyplot as plt\n"
   ]
  },
  {
   "cell_type": "markdown",
   "id": "ce981183",
   "metadata": {},
   "source": [
    "\n",
    "## Paso 2 · Cargar los datos (¿cómo validar que cargó bien?)\n",
    "- Usamos `read_excel` indicando la hoja `Inicio`.\n",
    "- Revisamos `head()` para ver las primeras filas y confirmar nombres de columnas.\n"
   ]
  },
  {
   "cell_type": "code",
   "execution_count": 4,
   "id": "81311aaf",
   "metadata": {},
   "outputs": [
    {
     "data": {
      "text/html": [
       "<div>\n",
       "<style scoped>\n",
       "    .dataframe tbody tr th:only-of-type {\n",
       "        vertical-align: middle;\n",
       "    }\n",
       "\n",
       "    .dataframe tbody tr th {\n",
       "        vertical-align: top;\n",
       "    }\n",
       "\n",
       "    .dataframe thead th {\n",
       "        text-align: right;\n",
       "    }\n",
       "</style>\n",
       "<table border=\"1\" class=\"dataframe\">\n",
       "  <thead>\n",
       "    <tr style=\"text-align: right;\">\n",
       "      <th></th>\n",
       "      <th>Año</th>\n",
       "      <th>Mes</th>\n",
       "      <th>Región</th>\n",
       "      <th>Cultivo</th>\n",
       "      <th>Superficie_Ha</th>\n",
       "      <th>Producción_Ton</th>\n",
       "      <th>Precio_Ton</th>\n",
       "      <th>Costos_Insumos</th>\n",
       "      <th>Ingresos</th>\n",
       "      <th>Utilidad</th>\n",
       "    </tr>\n",
       "  </thead>\n",
       "  <tbody>\n",
       "    <tr>\n",
       "      <th>0</th>\n",
       "      <td>2023</td>\n",
       "      <td>7</td>\n",
       "      <td>Sur</td>\n",
       "      <td>Manzana</td>\n",
       "      <td>34</td>\n",
       "      <td>4583</td>\n",
       "      <td>377.65</td>\n",
       "      <td>5267</td>\n",
       "      <td>1730769.95</td>\n",
       "      <td>1725502.95</td>\n",
       "    </tr>\n",
       "    <tr>\n",
       "      <th>1</th>\n",
       "      <td>2024</td>\n",
       "      <td>5</td>\n",
       "      <td>Centro</td>\n",
       "      <td>Tomate</td>\n",
       "      <td>253</td>\n",
       "      <td>3501</td>\n",
       "      <td>106.45</td>\n",
       "      <td>6988</td>\n",
       "      <td>372681.45</td>\n",
       "      <td>365693.45</td>\n",
       "    </tr>\n",
       "    <tr>\n",
       "      <th>2</th>\n",
       "      <td>2023</td>\n",
       "      <td>3</td>\n",
       "      <td>Sur</td>\n",
       "      <td>Soja</td>\n",
       "      <td>430</td>\n",
       "      <td>716</td>\n",
       "      <td>249.06</td>\n",
       "      <td>9680</td>\n",
       "      <td>178326.96</td>\n",
       "      <td>168646.96</td>\n",
       "    </tr>\n",
       "    <tr>\n",
       "      <th>3</th>\n",
       "      <td>2023</td>\n",
       "      <td>3</td>\n",
       "      <td>Sur</td>\n",
       "      <td>Soja</td>\n",
       "      <td>37</td>\n",
       "      <td>3074</td>\n",
       "      <td>240.68</td>\n",
       "      <td>2485</td>\n",
       "      <td>739850.32</td>\n",
       "      <td>737365.32</td>\n",
       "    </tr>\n",
       "    <tr>\n",
       "      <th>4</th>\n",
       "      <td>2023</td>\n",
       "      <td>4</td>\n",
       "      <td>Norte</td>\n",
       "      <td>Maíz</td>\n",
       "      <td>462</td>\n",
       "      <td>763</td>\n",
       "      <td>317.39</td>\n",
       "      <td>15713</td>\n",
       "      <td>242168.57</td>\n",
       "      <td>226455.57</td>\n",
       "    </tr>\n",
       "  </tbody>\n",
       "</table>\n",
       "</div>"
      ],
      "text/plain": [
       "    Año  Mes  Región  Cultivo  Superficie_Ha  Producción_Ton  Precio_Ton  \\\n",
       "0  2023    7     Sur  Manzana             34            4583      377.65   \n",
       "1  2024    5  Centro   Tomate            253            3501      106.45   \n",
       "2  2023    3     Sur     Soja            430             716      249.06   \n",
       "3  2023    3     Sur     Soja             37            3074      240.68   \n",
       "4  2023    4   Norte     Maíz            462             763      317.39   \n",
       "\n",
       "   Costos_Insumos    Ingresos    Utilidad  \n",
       "0            5267  1730769.95  1725502.95  \n",
       "1            6988   372681.45   365693.45  \n",
       "2            9680   178326.96   168646.96  \n",
       "3            2485   739850.32   737365.32  \n",
       "4           15713   242168.57   226455.57  "
      ]
     },
     "execution_count": 4,
     "metadata": {},
     "output_type": "execute_result"
    }
   ],
   "source": [
    "\n",
    "# 🔁 Ajusta la ruta si no estás ejecutando este notebook en ChatGPT\n",
    "file_path = \"1. datos_agricolas.xlsx\"  # Ejemplo: \"1. datos_agricolas.xlsx\"\n",
    "\n",
    "df = pd.read_excel(file_path, sheet_name=\"Inicio\")\n",
    "df.head()\n"
   ]
  },
  {
   "cell_type": "markdown",
   "id": "96325b0d",
   "metadata": {},
   "source": [
    "\n",
    "## Paso 3 · Exploración breve (EDA) (¿qué mirar?)\n",
    "- `df.info()` para tipos de datos y nulos.\n",
    "- `describe()` para rangos, medias y posibles outliers.\n",
    "- Verifica que las columnas relevantes existan y tengan sentido.\n"
   ]
  },
  {
   "cell_type": "code",
   "execution_count": 5,
   "id": "c86b1b4d",
   "metadata": {},
   "outputs": [
    {
     "name": "stdout",
     "output_type": "stream",
     "text": [
      "<class 'pandas.core.frame.DataFrame'>\n",
      "RangeIndex: 1800 entries, 0 to 1799\n",
      "Data columns (total 10 columns):\n",
      " #   Column          Non-Null Count  Dtype  \n",
      "---  ------          --------------  -----  \n",
      " 0   Año             1800 non-null   int64  \n",
      " 1   Mes             1800 non-null   int64  \n",
      " 2   Región          1800 non-null   object \n",
      " 3   Cultivo         1800 non-null   object \n",
      " 4   Superficie_Ha   1800 non-null   int64  \n",
      " 5   Producción_Ton  1800 non-null   int64  \n",
      " 6   Precio_Ton      1800 non-null   float64\n",
      " 7   Costos_Insumos  1800 non-null   int64  \n",
      " 8   Ingresos        1800 non-null   float64\n",
      " 9   Utilidad        1800 non-null   float64\n",
      "dtypes: float64(3), int64(5), object(2)\n",
      "memory usage: 140.8+ KB\n"
     ]
    }
   ],
   "source": [
    "\n",
    "df.info()\n"
   ]
  },
  {
   "cell_type": "code",
   "execution_count": 6,
   "id": "6549dfce",
   "metadata": {},
   "outputs": [
    {
     "data": {
      "text/html": [
       "<div>\n",
       "<style scoped>\n",
       "    .dataframe tbody tr th:only-of-type {\n",
       "        vertical-align: middle;\n",
       "    }\n",
       "\n",
       "    .dataframe tbody tr th {\n",
       "        vertical-align: top;\n",
       "    }\n",
       "\n",
       "    .dataframe thead th {\n",
       "        text-align: right;\n",
       "    }\n",
       "</style>\n",
       "<table border=\"1\" class=\"dataframe\">\n",
       "  <thead>\n",
       "    <tr style=\"text-align: right;\">\n",
       "      <th></th>\n",
       "      <th>count</th>\n",
       "      <th>unique</th>\n",
       "      <th>top</th>\n",
       "      <th>freq</th>\n",
       "      <th>mean</th>\n",
       "      <th>std</th>\n",
       "      <th>min</th>\n",
       "      <th>25%</th>\n",
       "      <th>50%</th>\n",
       "      <th>75%</th>\n",
       "      <th>max</th>\n",
       "    </tr>\n",
       "  </thead>\n",
       "  <tbody>\n",
       "    <tr>\n",
       "      <th>Año</th>\n",
       "      <td>1800.0</td>\n",
       "      <td>NaN</td>\n",
       "      <td>NaN</td>\n",
       "      <td>NaN</td>\n",
       "      <td>2023.493889</td>\n",
       "      <td>0.500102</td>\n",
       "      <td>2023.0</td>\n",
       "      <td>2023.0</td>\n",
       "      <td>2023.0</td>\n",
       "      <td>2024.0</td>\n",
       "      <td>2024.0</td>\n",
       "    </tr>\n",
       "    <tr>\n",
       "      <th>Mes</th>\n",
       "      <td>1800.0</td>\n",
       "      <td>NaN</td>\n",
       "      <td>NaN</td>\n",
       "      <td>NaN</td>\n",
       "      <td>6.471111</td>\n",
       "      <td>3.450797</td>\n",
       "      <td>1.0</td>\n",
       "      <td>3.75</td>\n",
       "      <td>6.0</td>\n",
       "      <td>9.0</td>\n",
       "      <td>12.0</td>\n",
       "    </tr>\n",
       "    <tr>\n",
       "      <th>Región</th>\n",
       "      <td>1800</td>\n",
       "      <td>3</td>\n",
       "      <td>Norte</td>\n",
       "      <td>638</td>\n",
       "      <td>NaN</td>\n",
       "      <td>NaN</td>\n",
       "      <td>NaN</td>\n",
       "      <td>NaN</td>\n",
       "      <td>NaN</td>\n",
       "      <td>NaN</td>\n",
       "      <td>NaN</td>\n",
       "    </tr>\n",
       "    <tr>\n",
       "      <th>Cultivo</th>\n",
       "      <td>1800</td>\n",
       "      <td>7</td>\n",
       "      <td>Manzana</td>\n",
       "      <td>274</td>\n",
       "      <td>NaN</td>\n",
       "      <td>NaN</td>\n",
       "      <td>NaN</td>\n",
       "      <td>NaN</td>\n",
       "      <td>NaN</td>\n",
       "      <td>NaN</td>\n",
       "      <td>NaN</td>\n",
       "    </tr>\n",
       "    <tr>\n",
       "      <th>Superficie_Ha</th>\n",
       "      <td>1800.0</td>\n",
       "      <td>NaN</td>\n",
       "      <td>NaN</td>\n",
       "      <td>NaN</td>\n",
       "      <td>246.046111</td>\n",
       "      <td>143.402285</td>\n",
       "      <td>5.0</td>\n",
       "      <td>119.75</td>\n",
       "      <td>241.0</td>\n",
       "      <td>372.0</td>\n",
       "      <td>499.0</td>\n",
       "    </tr>\n",
       "    <tr>\n",
       "      <th>Producción_Ton</th>\n",
       "      <td>1800.0</td>\n",
       "      <td>NaN</td>\n",
       "      <td>NaN</td>\n",
       "      <td>NaN</td>\n",
       "      <td>2500.136111</td>\n",
       "      <td>1440.965374</td>\n",
       "      <td>22.0</td>\n",
       "      <td>1226.0</td>\n",
       "      <td>2478.0</td>\n",
       "      <td>3782.5</td>\n",
       "      <td>4999.0</td>\n",
       "    </tr>\n",
       "    <tr>\n",
       "      <th>Precio_Ton</th>\n",
       "      <td>1800.0</td>\n",
       "      <td>NaN</td>\n",
       "      <td>NaN</td>\n",
       "      <td>NaN</td>\n",
       "      <td>294.1675</td>\n",
       "      <td>114.812603</td>\n",
       "      <td>100.1</td>\n",
       "      <td>194.3575</td>\n",
       "      <td>290.56</td>\n",
       "      <td>391.5875</td>\n",
       "      <td>499.68</td>\n",
       "    </tr>\n",
       "    <tr>\n",
       "      <th>Costos_Insumos</th>\n",
       "      <td>1800.0</td>\n",
       "      <td>NaN</td>\n",
       "      <td>NaN</td>\n",
       "      <td>NaN</td>\n",
       "      <td>10463.516667</td>\n",
       "      <td>5543.629521</td>\n",
       "      <td>1015.0</td>\n",
       "      <td>5637.5</td>\n",
       "      <td>10454.5</td>\n",
       "      <td>15283.0</td>\n",
       "      <td>19996.0</td>\n",
       "    </tr>\n",
       "    <tr>\n",
       "      <th>Ingresos</th>\n",
       "      <td>1800.0</td>\n",
       "      <td>NaN</td>\n",
       "      <td>NaN</td>\n",
       "      <td>NaN</td>\n",
       "      <td>730882.352328</td>\n",
       "      <td>532210.614766</td>\n",
       "      <td>3903.76</td>\n",
       "      <td>299830.0575</td>\n",
       "      <td>619911.25</td>\n",
       "      <td>1054964.955</td>\n",
       "      <td>2449579.37</td>\n",
       "    </tr>\n",
       "    <tr>\n",
       "      <th>Utilidad</th>\n",
       "      <td>1800.0</td>\n",
       "      <td>NaN</td>\n",
       "      <td>NaN</td>\n",
       "      <td>NaN</td>\n",
       "      <td>720418.835661</td>\n",
       "      <td>532189.137805</td>\n",
       "      <td>-6486.34</td>\n",
       "      <td>288587.88</td>\n",
       "      <td>609028.41</td>\n",
       "      <td>1044912.85</td>\n",
       "      <td>2430133.37</td>\n",
       "    </tr>\n",
       "  </tbody>\n",
       "</table>\n",
       "</div>"
      ],
      "text/plain": [
       "                 count unique      top freq           mean            std  \\\n",
       "Año             1800.0    NaN      NaN  NaN    2023.493889       0.500102   \n",
       "Mes             1800.0    NaN      NaN  NaN       6.471111       3.450797   \n",
       "Región            1800      3    Norte  638            NaN            NaN   \n",
       "Cultivo           1800      7  Manzana  274            NaN            NaN   \n",
       "Superficie_Ha   1800.0    NaN      NaN  NaN     246.046111     143.402285   \n",
       "Producción_Ton  1800.0    NaN      NaN  NaN    2500.136111    1440.965374   \n",
       "Precio_Ton      1800.0    NaN      NaN  NaN       294.1675     114.812603   \n",
       "Costos_Insumos  1800.0    NaN      NaN  NaN   10463.516667    5543.629521   \n",
       "Ingresos        1800.0    NaN      NaN  NaN  730882.352328  532210.614766   \n",
       "Utilidad        1800.0    NaN      NaN  NaN  720418.835661  532189.137805   \n",
       "\n",
       "                    min          25%        50%          75%         max  \n",
       "Año              2023.0       2023.0     2023.0       2024.0      2024.0  \n",
       "Mes                 1.0         3.75        6.0          9.0        12.0  \n",
       "Región              NaN          NaN        NaN          NaN         NaN  \n",
       "Cultivo             NaN          NaN        NaN          NaN         NaN  \n",
       "Superficie_Ha       5.0       119.75      241.0        372.0       499.0  \n",
       "Producción_Ton     22.0       1226.0     2478.0       3782.5      4999.0  \n",
       "Precio_Ton        100.1     194.3575     290.56     391.5875      499.68  \n",
       "Costos_Insumos   1015.0       5637.5    10454.5      15283.0     19996.0  \n",
       "Ingresos        3903.76  299830.0575  619911.25  1054964.955  2449579.37  \n",
       "Utilidad       -6486.34    288587.88  609028.41   1044912.85  2430133.37  "
      ]
     },
     "execution_count": 6,
     "metadata": {},
     "output_type": "execute_result"
    }
   ],
   "source": [
    "\n",
    "df.describe(include=\"all\").T\n"
   ]
  },
  {
   "cell_type": "markdown",
   "id": "d81ec9d3",
   "metadata": {},
   "source": [
    "\n",
    "## Paso 4 · Selección de variables y **split** (¿por qué así?)\n",
    "- **Objetivo (y):** `Producción_Ton`.\n",
    "- **Predictores (X):** `Año`, `Mes`, `Región`, `Cultivo`, `Superficie_Ha`, `Precio_Ton`, `Costos_Insumos`.\n",
    "- **Buenas prácticas:** no usar `Ingresos`/`Utilidad` porque derivan de `Producción_Ton` → **data leakage**.\n",
    "- **Split 80/20** con `random_state=42` para reproducibilidad.\n"
   ]
  },
  {
   "cell_type": "code",
   "execution_count": 7,
   "id": "9b9952ea",
   "metadata": {},
   "outputs": [
    {
     "data": {
      "text/plain": [
       "(1440, 360)"
      ]
     },
     "execution_count": 7,
     "metadata": {},
     "output_type": "execute_result"
    }
   ],
   "source": [
    "\n",
    "target_col = \"Producción_Ton\"\n",
    "feature_cols = [\"Año\", \"Mes\", \"Región\", \"Cultivo\", \"Superficie_Ha\", \"Precio_Ton\", \"Costos_Insumos\"]\n",
    "\n",
    "X = df[feature_cols].copy()\n",
    "y = df[target_col].copy()\n",
    "\n",
    "X_train, X_test, y_train, y_test = train_test_split(\n",
    "    X, y, test_size=0.2, random_state=42\n",
    ")\n",
    "\n",
    "len(X_train), len(X_test)\n"
   ]
  },
  {
   "cell_type": "markdown",
   "id": "c672a137",
   "metadata": {},
   "source": [
    "\n",
    "## Paso 5 · Preprocesamiento con `ColumnTransformer` (¿qué hace cada etapa?)\n",
    "- **Numéricas** (`Año`, `Mes`, `Superficie_Ha`, `Precio_Ton`, `Costos_Insumos`):\n",
    "  - `SimpleImputer(strategy=\"median\")`: rellena nulos de forma robusta.\n",
    "  - `StandardScaler()`: centra y escala (media 0, desvío 1).\n",
    "- **Categóricas** (`Región`, `Cultivo`):\n",
    "  - `SimpleImputer(strategy=\"most_frequent\")`: rellena nulos con la moda.\n",
    "  - `OneHotEncoder(handle_unknown=\"ignore\")`: convierte categorías a dummies y evita errores con categorías nuevas.\n",
    "- Esto evita fugas desde `test` hacia `train` porque el ajuste se hace **dentro** del pipeline.\n"
   ]
  },
  {
   "cell_type": "code",
   "execution_count": 8,
   "id": "52900650",
   "metadata": {},
   "outputs": [],
   "source": [
    "\n",
    "numeric_features = [\"Año\", \"Mes\", \"Superficie_Ha\", \"Precio_Ton\", \"Costos_Insumos\"]\n",
    "categorical_features = [\"Región\", \"Cultivo\"]\n",
    "\n",
    "numeric_transformer = Pipeline(steps=[\n",
    "    (\"imputer\", SimpleImputer(strategy=\"median\")),\n",
    "    (\"scaler\", StandardScaler())\n",
    "])\n",
    "\n",
    "categorical_transformer = Pipeline(steps=[\n",
    "    (\"imputer\", SimpleImputer(strategy=\"most_frequent\")),\n",
    "    (\"onehot\", OneHotEncoder(handle_unknown=\"ignore\"))\n",
    "])\n",
    "\n",
    "preprocessor = ColumnTransformer(\n",
    "    transformers=[\n",
    "        (\"num\", numeric_transformer, numeric_features),\n",
    "        (\"cat\", categorical_transformer, categorical_features),\n",
    "    ]\n",
    ")\n"
   ]
  },
  {
   "cell_type": "markdown",
   "id": "784ba26e",
   "metadata": {},
   "source": [
    "\n",
    "## Paso 6 · Entrenar **Regresión Lineal** (¿por qué en pipeline?)\n",
    "- El `Pipeline` garantiza que **las mismas transformaciones** se apliquen en entrenamiento y predicción.\n",
    "- La regresión lineal aprende coeficientes para cada feature (tras one‑hot y escalado).\n"
   ]
  },
  {
   "cell_type": "code",
   "execution_count": 9,
   "id": "5d1732f9",
   "metadata": {},
   "outputs": [],
   "source": [
    "\n",
    "model = Pipeline(steps=[\n",
    "    (\"preprocessor\", preprocessor),\n",
    "    (\"model\", LinearRegression())\n",
    "])\n",
    "\n",
    "model.fit(X_train, y_train)\n",
    "y_pred = model.predict(X_test)\n"
   ]
  },
  {
   "cell_type": "markdown",
   "id": "62033132",
   "metadata": {},
   "source": [
    "\n",
    "## Paso 7 · Evaluación del modelo (¿cómo interpretar métricas?)\n",
    "- **MAE**: error absoluto medio, en toneladas (más bajo es mejor).\n",
    "- **RMSE**: raíz del MSE; penaliza más errores grandes (más bajo es mejor).\n",
    "- **R²**: proporción de varianza explicada (cercano a 1 es mejor; negativo = peor que predecir la media).\n"
   ]
  },
  {
   "cell_type": "code",
   "execution_count": 10,
   "id": "5d7b5030",
   "metadata": {},
   "outputs": [
    {
     "name": "stdout",
     "output_type": "stream",
     "text": [
      "MAE: 1239.58\n",
      "RMSE: 1442.66\n",
      "R2: -0.004\n"
     ]
    }
   ],
   "source": [
    "\n",
    "mae = mean_absolute_error(y_test, y_pred)\n",
    "mse = mean_squared_error(y_test, y_pred)\n",
    "rmse = np.sqrt(mse)\n",
    "r2 = r2_score(y_test, y_pred)\n",
    "\n",
    "print(f\"MAE: {mae:.2f}\")\n",
    "print(f\"RMSE: {rmse:.2f}\")\n",
    "print(f\"R2: {r2:.3f}\")\n"
   ]
  },
  {
   "cell_type": "markdown",
   "id": "47da1417",
   "metadata": {},
   "source": [
    "\n",
    "## Paso 8 · Visualización **Predicho vs Real** (¿qué buscamos?)\n",
    "- La línea diagonal representa la **predicción perfecta**.\n",
    "- Puntos cerca de la línea → buena predicción; dispersión grande → el modelo no captura bien ciertos casos.\n",
    "- Si notas patrón curvo o abanico, puede haber **no linealidad** o **heterocedasticidad** (quizás otro modelo o features derivadas ayuden).\n"
   ]
  },
  {
   "cell_type": "code",
   "execution_count": 11,
   "id": "bc6d9e79",
   "metadata": {},
   "outputs": [
    {
     "data": {
      "image/png": "[encoded data removed]",
      "text/plain": [
       "<Figure size 600x600 with 1 Axes>"
      ]
     },
     "metadata": {},
     "output_type": "display_data"
    }
   ],
   "source": [
    "\n",
    "plt.figure(figsize=(6,6))\n",
    "plt.scatter(y_test, y_pred, alpha=0.7)\n",
    "min_val = min(y_test.min(), y_pred.min())\n",
    "max_val = max(y_test.max(), y_pred.max())\n",
    "plt.plot([min_val, max_val], [min_val, max_val])\n",
    "plt.xlabel(\"Producción real (Ton)\")\n",
    "plt.ylabel(\"Producción predicha (Ton)\")\n",
    "plt.title(\"Regresión Lineal: Predicho vs Real\")\n",
    "plt.tight_layout()\n",
    "plt.show()\n"
   ]
  },
  {
   "cell_type": "markdown",
   "id": "9675f9d4",
   "metadata": {},
   "source": [
    "\n",
    "## Paso 9 · (Opcional) Coeficientes interpretables\n",
    "- Podemos ver la **magnitud y signo** de cada coeficiente tras el one‑hot/escala.\n",
    "- Ojo: la interpretación exacta depende del **escalado** y de la **codificación**.\n"
   ]
  },
  {
   "cell_type": "code",
   "execution_count": 12,
   "id": "3bbfb2d5",
   "metadata": {},
   "outputs": [
    {
     "data": {
      "text/plain": [
       "Cultivo_Manzana    153.517078\n",
       "Cultivo_Trigo      103.009202\n",
       "Región_Norte        96.602787\n",
       "Cultivo_Tomate      67.916511\n",
       "Año                 -2.294440\n",
       "Cultivo_Soja       -12.606658\n",
       "Región_Sur         -26.927158\n",
       "Superficie_Ha      -29.382114\n",
       "Cultivo_Uva        -32.762297\n",
       "Mes                -34.074669\n",
       "Precio_Ton         -37.520560\n",
       "Costos_Insumos     -45.161173\n",
       "Región_Centro      -69.675629\n",
       "Cultivo_Maíz      -125.737871\n",
       "Cultivo_Papa      -153.335964\n",
       "dtype: float64"
      ]
     },
     "execution_count": 12,
     "metadata": {},
     "output_type": "execute_result"
    }
   ],
   "source": [
    "\n",
    "# Recuperar nombres de columnas transformadas\n",
    "ohe = model.named_steps[\"preprocessor\"].named_transformers_[\"cat\"].named_steps[\"onehot\"]\n",
    "cat_names = list(ohe.get_feature_names_out([\"Región\", \"Cultivo\"]))\n",
    "num_names = [\"Año\", \"Mes\", \"Superficie_Ha\", \"Precio_Ton\", \"Costos_Insumos\"]\n",
    "feature_names = num_names + cat_names\n",
    "\n",
    "linreg = model.named_steps[\"model\"]\n",
    "coefs = pd.Series(linreg.coef_, index=feature_names).sort_values(ascending=False)\n",
    "coefs.head(15)\n"
   ]
  },
  {
   "cell_type": "markdown",
   "id": "e6154ce5",
   "metadata": {},
   "source": [
    "\n",
    "## Paso 10 · Siguientes pasos recomendados\n",
    "1. **Ingeniería de variables**: por ejemplo, estacionalidad (trimestre), interacciones `Región×Cultivo`, o logs si hay asimetrías.\n",
    "2. **Validación cruzada**: evaluar estabilidad del R² y errores.\n",
    "3. **Diagnóstico**: revisar residuos (`y_real - y_pred`) para detectar sesgos.\n",
    "4. **Comparar** (en otro cuaderno) con modelos no lineales si la lineal no captura todo.\n"
   ]
  }
 ],
 "metadata": {
  "kernelspec": {
   "display_name": "Python 3",
   "language": "python",
   "name": "python3"
  },
  "language_info": {
   "codemirror_mode": {
    "name": "ipython",
    "version": 3
   },
   "file_extension": ".py",
   "mimetype": "text/x-python",
   "name": "python",
   "nbconvert_exporter": "python",
   "pygments_lexer": "ipython3",
   "version": "3.10.0"
  }
 },
 "nbformat": 4,
 "nbformat_minor": 5
}
