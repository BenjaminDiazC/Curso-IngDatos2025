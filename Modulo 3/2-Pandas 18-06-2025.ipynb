{
 "cells": [
  {
   "metadata": {},
   "cell_type": "markdown",
   "source": "**PASO 1** - Importacion de librerias y revision de versiones",
   "id": "d7459ae32717d000"
  },
  {
   "metadata": {
    "ExecuteTime": {
     "end_time": "2025-06-18T23:44:30.819921Z",
     "start_time": "2025-06-18T23:44:29.468959Z"
    }
   },
   "cell_type": "code",
   "source": [
    "from operator import index\n",
    "\n",
    "import pandas as pd\n",
    "import numpy as np\n",
    "import matplotlib.pyplot as plt\n",
    "print(f\"version instalada de pandas {pd.__version__}\")\n",
    "print(f\"version instalada de numpy {np.__version__}\")\n",
    "print(f\"version instalada de matplotlib {plt.matplotlib.__version__}\")"
   ],
   "id": "f71585c44af55fe",
   "outputs": [
    {
     "name": "stdout",
     "output_type": "stream",
     "text": [
      "version instalada de pandas 2.2.3\n",
      "version instalada de numpy 2.2.5\n",
      "version instalada de matplotlib 3.10.3\n"
     ]
    }
   ],
   "execution_count": 7
  },
  {
   "metadata": {},
   "cell_type": "markdown",
   "source": "PASO 2 - Crear series",
   "id": "9289bdbd03f56aa"
  },
  {
   "metadata": {
    "ExecuteTime": {
     "end_time": "2025-06-18T23:44:37.670145Z",
     "start_time": "2025-06-18T23:44:37.657175Z"
    }
   },
   "cell_type": "code",
   "source": [
    "serie_lista = pd.Series([1,2,3,4,5])\n",
    "serie_lista_indice_personalizado = pd.Series([1,2,3,4,5], index = ['a','b','c','d','e'])\n",
    "serie_diccionario = pd.Series({'nombre': 'Felipe', 'apellido':'Cuevas','pais':'Brasil'})"
   ],
   "id": "c9fbd0c58f74dfc7",
   "outputs": [],
   "execution_count": 8
  },
  {
   "metadata": {},
   "cell_type": "markdown",
   "source": "PASO 3 - Accesar a los datos por indices e indices multiples",
   "id": "198a14eb279b3918"
  },
  {
   "metadata": {
    "ExecuteTime": {
     "end_time": "2025-06-18T23:45:23.959033Z",
     "start_time": "2025-06-18T23:45:23.947653Z"
    }
   },
   "cell_type": "code",
   "source": [
    "print(\"- Accesando al elemento en posición 2: \",serie_lista[2])\n",
    "print(\"- Accesando al elemento en posición 'b':\",serie_lista_indice_personalizado['b'])\n",
    "\n",
    "print(\"- Despiegue con selección múltiple de índices (posiciones):\")\n",
    "print(serie_lista[[0,2,4]])\n",
    "\n",
    "print(\"- Despiegue con selección múltiple de índices (personalizados):\")\n",
    "print(serie_lista_indice_personalizado[['a','c','e']])"
   ],
   "id": "1dce40dea2192f1d",
   "outputs": [
    {
     "name": "stdout",
     "output_type": "stream",
     "text": [
      "- Accesando al elemento en posición 2:  3\n",
      "- Accesando al elemento en posición 'b': 2\n",
      "- Despiegue con selección múltiple de índices (posiciones):\n",
      "0    1\n",
      "2    3\n",
      "4    5\n",
      "dtype: int64\n",
      "- Despiegue con selección múltiple de índices (personalizados):\n",
      "a    1\n",
      "c    3\n",
      "e    5\n",
      "dtype: int64\n"
     ]
    }
   ],
   "execution_count": 11
  },
  {
   "metadata": {},
   "cell_type": "markdown",
   "source": "PASO 4 - Métodos básicos y recorde (slicing) de series",
   "id": "9a4517bf7ed9302f"
  },
  {
   "metadata": {
    "ExecuteTime": {
     "end_time": "2025-06-18T23:50:18.866210Z",
     "start_time": "2025-06-18T23:50:18.839539Z"
    }
   },
   "cell_type": "code",
   "source": [
    "print(f\"- Suma = {serie_lista.sum()}\")\n",
    "print(f\"- Media = {serie_lista.mean()}\")\n",
    "print(f\"- Máxima = {serie_lista.max()}\")\n",
    "print(f\"- Descripcion estádistica= \\n{serie_lista.describe()}\")\n",
    "\n",
    "print(\"- Recorde (slicing) de series\")\n",
    "print(f\"\\tRecorte de la posición (0:3) = \\n{serie_lista[:3]}\")\n",
    "print(f\"\\tRecorte de la posición personalizada ('b':'d') = \\n{serie_lista_indice_personalizado['b':'d']}\")"
   ],
   "id": "af6ec32ee1b2a52a",
   "outputs": [
    {
     "name": "stdout",
     "output_type": "stream",
     "text": [
      "- Suma = 15\n",
      "- Media = 3.0\n",
      "- Máxima = 5\n",
      "- Descripcion estádistica= \n",
      "count    5.000000\n",
      "mean     3.000000\n",
      "std      1.581139\n",
      "min      1.000000\n",
      "25%      2.000000\n",
      "50%      3.000000\n",
      "75%      4.000000\n",
      "max      5.000000\n",
      "dtype: float64\n",
      "- Recorde (slicing) de series\n",
      "\tRecorte de la posición (0:3) = \n",
      "0    1\n",
      "1    2\n",
      "2    3\n",
      "dtype: int64\n",
      "\tRecorte de la posición personalizada ('b':'d') = \n",
      "b    2\n",
      "c    3\n",
      "d    4\n",
      "dtype: int64\n"
     ]
    }
   ],
   "execution_count": 15
  },
  {
   "metadata": {},
   "cell_type": "markdown",
   "source": "PASO 5 - Creación de Dfs (tablas)",
   "id": "71039306b7587d2f"
  },
  {
   "metadata": {
    "ExecuteTime": {
     "end_time": "2025-06-19T00:21:11.476454Z",
     "start_time": "2025-06-19T00:21:11.454168Z"
    }
   },
   "cell_type": "code",
   "source": [
    "datos = [\n",
    "    ['Felipe', 35, 'Jaraguá do Sul', 200000],\n",
    "    ['Nelson', 37, 'Santiago', 250000],\n",
    "    ['Chuck', 55, 'New York', 300000],\n",
    "    ['Luis', 20, 'Valdivia', 500000]\n",
    "]\n",
    "\n",
    "df = pd.DataFrame(datos, columns=['nombre', 'edad', 'ciudad', 'sueldo'])\n",
    "\n",
    "\n",
    "datos_diccionario = {\n",
    "    'A':[1,2,3,4,5],\n",
    "    'B':[6,7,8,9,10],\n",
    "    'C':[100,101,102,103,104],\n",
    "    'D':[105,106,107,108,109]\n",
    "}\n",
    "\n",
    "df2 = pd.DataFrame(datos_diccionario)\n",
    "df2"
   ],
   "id": "d5bbd4ff34130b85",
   "outputs": [
    {
     "data": {
      "text/plain": [
       "   A   B    C    D\n",
       "0  1   6  100  105\n",
       "1  2   7  101  106\n",
       "2  3   8  102  107\n",
       "3  4   9  103  108\n",
       "4  5  10  104  109"
      ],
      "text/html": [
       "<div>\n",
       "<style scoped>\n",
       "    .dataframe tbody tr th:only-of-type {\n",
       "        vertical-align: middle;\n",
       "    }\n",
       "\n",
       "    .dataframe tbody tr th {\n",
       "        vertical-align: top;\n",
       "    }\n",
       "\n",
       "    .dataframe thead th {\n",
       "        text-align: right;\n",
       "    }\n",
       "</style>\n",
       "<table border=\"1\" class=\"dataframe\">\n",
       "  <thead>\n",
       "    <tr style=\"text-align: right;\">\n",
       "      <th></th>\n",
       "      <th>A</th>\n",
       "      <th>B</th>\n",
       "      <th>C</th>\n",
       "      <th>D</th>\n",
       "    </tr>\n",
       "  </thead>\n",
       "  <tbody>\n",
       "    <tr>\n",
       "      <th>0</th>\n",
       "      <td>1</td>\n",
       "      <td>6</td>\n",
       "      <td>100</td>\n",
       "      <td>105</td>\n",
       "    </tr>\n",
       "    <tr>\n",
       "      <th>1</th>\n",
       "      <td>2</td>\n",
       "      <td>7</td>\n",
       "      <td>101</td>\n",
       "      <td>106</td>\n",
       "    </tr>\n",
       "    <tr>\n",
       "      <th>2</th>\n",
       "      <td>3</td>\n",
       "      <td>8</td>\n",
       "      <td>102</td>\n",
       "      <td>107</td>\n",
       "    </tr>\n",
       "    <tr>\n",
       "      <th>3</th>\n",
       "      <td>4</td>\n",
       "      <td>9</td>\n",
       "      <td>103</td>\n",
       "      <td>108</td>\n",
       "    </tr>\n",
       "    <tr>\n",
       "      <th>4</th>\n",
       "      <td>5</td>\n",
       "      <td>10</td>\n",
       "      <td>104</td>\n",
       "      <td>109</td>\n",
       "    </tr>\n",
       "  </tbody>\n",
       "</table>\n",
       "</div>"
      ]
     },
     "execution_count": 28,
     "metadata": {},
     "output_type": "execute_result"
    }
   ],
   "execution_count": 28
  },
  {
   "metadata": {},
   "cell_type": "markdown",
   "source": "PASO 6 - Funciones básicas de DFs",
   "id": "1634f9ec71040664"
  },
  {
   "metadata": {
    "ExecuteTime": {
     "end_time": "2025-06-19T00:15:41.331901Z",
     "start_time": "2025-06-19T00:15:41.320494Z"
    }
   },
   "cell_type": "code",
   "source": [
    "print(f\"forma del df: {df.shape}\")\n",
    "print(f\"primeros resultados del df: \\n{df.head()}\")\n",
    "print(f\"ultimos resultados del df: \\n{df.tail()}\")\n",
    "print(f\"Descripción del tipo de dato en el df: \\n{df.dtypes}\\n\")\n",
    "print(f\"Información general del df: \\n{df.info()}\")"
   ],
   "id": "16138f9f982ed5b6",
   "outputs": [
    {
     "name": "stdout",
     "output_type": "stream",
     "text": [
      "forma del df: (4, 4)\n",
      "primeros resultados del df: \n",
      "   nombre  edad            pais  sueldo\n",
      "0  Felipe    35  Jaraguá do Sul  200000\n",
      "1  Nelson    37        Santiago  250000\n",
      "2   Chuck    55        New York  300000\n",
      "3    Luis    20        Valdivia  500000\n",
      "ultimos resultados del df: \n",
      "   nombre  edad            pais  sueldo\n",
      "0  Felipe    35  Jaraguá do Sul  200000\n",
      "1  Nelson    37        Santiago  250000\n",
      "2   Chuck    55        New York  300000\n",
      "3    Luis    20        Valdivia  500000\n",
      "Descripción del tipo de dato en el df: \n",
      "nombre    object\n",
      "edad       int64\n",
      "pais      object\n",
      "sueldo     int64\n",
      "dtype: object\n",
      "\n",
      "<class 'pandas.core.frame.DataFrame'>\n",
      "RangeIndex: 4 entries, 0 to 3\n",
      "Data columns (total 4 columns):\n",
      " #   Column  Non-Null Count  Dtype \n",
      "---  ------  --------------  ----- \n",
      " 0   nombre  4 non-null      object\n",
      " 1   edad    4 non-null      int64 \n",
      " 2   pais    4 non-null      object\n",
      " 3   sueldo  4 non-null      int64 \n",
      "dtypes: int64(2), object(2)\n",
      "memory usage: 256.0+ bytes\n",
      "Información general del df: \n",
      "None\n"
     ]
    }
   ],
   "execution_count": 23
  },
  {
   "metadata": {},
   "cell_type": "markdown",
   "source": "PASO 7 - Funciones de exploración en un df",
   "id": "2f3081a2be725a5e"
  },
  {
   "metadata": {
    "ExecuteTime": {
     "end_time": "2025-06-19T00:25:20.305283Z",
     "start_time": "2025-06-19T00:25:20.276848Z"
    }
   },
   "cell_type": "code",
   "source": [
    "print(\"Métodos de exploración del df\")\n",
    "print(\"- Descripción estadistica: \\n\", df.describe())\n",
    "\n",
    "print(\"\\nSelección de una sola columna:\")\n",
    "#df['ciudad']\n",
    "print(\"\\nSelección de una 2 columnas:\")\n",
    "#df[['nombre','ciudad']]\n",
    "\n",
    "print(\"Filtrado - Personas mayores de 30:\")\n",
    "print(df[ df['edad'] > 30])\n",
    "\n"
   ],
   "id": "ce18a3496196fdbb",
   "outputs": [
    {
     "name": "stdout",
     "output_type": "stream",
     "text": [
      "Métodos de exploración del df\n",
      "- Descripción estadistica: \n",
      "             edad         sueldo\n",
      "count   4.000000       4.000000\n",
      "mean   36.750000  312500.000000\n",
      "std    14.338177  131497.781984\n",
      "min    20.000000  200000.000000\n",
      "25%    31.250000  237500.000000\n",
      "50%    36.000000  275000.000000\n",
      "75%    41.500000  350000.000000\n",
      "max    55.000000  500000.000000\n",
      "\n",
      "Selección de una sola columna:\n",
      "\n",
      "Selección de una 2 columnas:\n",
      "Filtrado - Personas mayores de 30:\n",
      "   nombre  edad          ciudad  sueldo\n",
      "0  Felipe    35  Jaraguá do Sul  200000\n",
      "1  Nelson    37        Santiago  250000\n",
      "2   Chuck    55        New York  300000\n"
     ]
    }
   ],
   "execution_count": 35
  },
  {
   "metadata": {},
   "cell_type": "markdown",
   "source": "PASO 8 - Detección y gestión de valores nulos",
   "id": "a3506218a12424fa"
  },
  {
   "metadata": {
    "ExecuteTime": {
     "end_time": "2025-06-19T00:30:07.574790Z",
     "start_time": "2025-06-19T00:30:07.564313Z"
    }
   },
   "cell_type": "code",
   "source": [
    "print(\"Valores nulos por columna:\")\n",
    "print(df.isnull().sum())\n",
    "\n",
    "print(\"\\nFilas con valores nulos:\")\n",
    "print(df.isnull().any(axis=1)) #Axis 1 = filas\n",
    "\n",
    "df_sin_nulos = df.dropna()\n",
    "print(\"\\ndf sin valores nulos:\")\n",
    "df_sin_nulos"
   ],
   "id": "aa2031b0827da049",
   "outputs": [
    {
     "name": "stdout",
     "output_type": "stream",
     "text": [
      "Valores nulos por columna:\n",
      "nombre    0\n",
      "edad      0\n",
      "ciudad    0\n",
      "sueldo    0\n",
      "dtype: int64\n",
      "\n",
      "Filas con valores nulos:\n",
      "0    False\n",
      "1    False\n",
      "2    False\n",
      "3    False\n",
      "dtype: bool\n",
      "\n",
      "df sin valores nulos:\n"
     ]
    },
    {
     "data": {
      "text/plain": [
       "   nombre  edad          ciudad  sueldo\n",
       "0  Felipe    35  Jaraguá do Sul  200000\n",
       "1  Nelson    37        Santiago  250000\n",
       "2   Chuck    55        New York  300000\n",
       "3    Luis    20        Valdivia  500000"
      ],
      "text/html": [
       "<div>\n",
       "<style scoped>\n",
       "    .dataframe tbody tr th:only-of-type {\n",
       "        vertical-align: middle;\n",
       "    }\n",
       "\n",
       "    .dataframe tbody tr th {\n",
       "        vertical-align: top;\n",
       "    }\n",
       "\n",
       "    .dataframe thead th {\n",
       "        text-align: right;\n",
       "    }\n",
       "</style>\n",
       "<table border=\"1\" class=\"dataframe\">\n",
       "  <thead>\n",
       "    <tr style=\"text-align: right;\">\n",
       "      <th></th>\n",
       "      <th>nombre</th>\n",
       "      <th>edad</th>\n",
       "      <th>ciudad</th>\n",
       "      <th>sueldo</th>\n",
       "    </tr>\n",
       "  </thead>\n",
       "  <tbody>\n",
       "    <tr>\n",
       "      <th>0</th>\n",
       "      <td>Felipe</td>\n",
       "      <td>35</td>\n",
       "      <td>Jaraguá do Sul</td>\n",
       "      <td>200000</td>\n",
       "    </tr>\n",
       "    <tr>\n",
       "      <th>1</th>\n",
       "      <td>Nelson</td>\n",
       "      <td>37</td>\n",
       "      <td>Santiago</td>\n",
       "      <td>250000</td>\n",
       "    </tr>\n",
       "    <tr>\n",
       "      <th>2</th>\n",
       "      <td>Chuck</td>\n",
       "      <td>55</td>\n",
       "      <td>New York</td>\n",
       "      <td>300000</td>\n",
       "    </tr>\n",
       "    <tr>\n",
       "      <th>3</th>\n",
       "      <td>Luis</td>\n",
       "      <td>20</td>\n",
       "      <td>Valdivia</td>\n",
       "      <td>500000</td>\n",
       "    </tr>\n",
       "  </tbody>\n",
       "</table>\n",
       "</div>"
      ]
     },
     "execution_count": 39,
     "metadata": {},
     "output_type": "execute_result"
    }
   ],
   "execution_count": 39
  },
  {
   "metadata": {},
   "cell_type": "markdown",
   "source": "PASO 9 - Limpieza de datos",
   "id": "44cf7dc082380db3"
  },
  {
   "metadata": {
    "ExecuteTime": {
     "end_time": "2025-06-19T00:41:28.770987Z",
     "start_time": "2025-06-19T00:41:28.748179Z"
    }
   },
   "cell_type": "code",
   "source": [
    "datos_sucios = pd.DataFrame({\n",
    "    'Nombre':[' Juan ','Ana',' Pedro'],\n",
    "    'Edad':['20','30','treinta'],\n",
    "    'Salario':['50.000','60.000','55000']\n",
    "})\n",
    "\n",
    "#Eliminar espacios en blanco / Estandarozar a minúsculas/mayusculas\n",
    "datos_sucios['Nombre'] = datos_sucios['Nombre'].str.strip()\n",
    "datos_sucios['Nombre'] = datos_sucios['Nombre'].str.lower()\n",
    "datos_sucios['Salario'] = datos_sucios['Salario'].str.replace('.','')\n",
    "\n",
    "print(\"Datos después de la limpieza básica\")\n",
    "print(datos_sucios.head())"
   ],
   "id": "705a3b6ee17343",
   "outputs": [
    {
     "name": "stdout",
     "output_type": "stream",
     "text": [
      "Datos después de la limpieza básica\n",
      "  Nombre     Edad Salario\n",
      "0   juan       20   50000\n",
      "1    ana       30   60000\n",
      "2  pedro  treinta   55000\n"
     ]
    }
   ],
   "execution_count": 42
  },
  {
   "metadata": {},
   "cell_type": "markdown",
   "source": "PASO 10 - Agrupación de datos",
   "id": "b701a6f78e7f0480"
  },
  {
   "metadata": {
    "ExecuteTime": {
     "end_time": "2025-06-19T01:19:28.784008Z",
     "start_time": "2025-06-19T01:19:28.772867Z"
    }
   },
   "cell_type": "code",
   "source": [
    "ventas = pd.DataFrame({\n",
    "    'Vendedor': ['Felipe','Nelson','Juan','Chuck'],\n",
    "    'Ciudad':['Santiago','Santiago','Valdivia','Santiago'],\n",
    "    'Ventas':[150,250,400,1000],\n",
    "    'Comision':[10,15,20,25]\n",
    "})\n",
    "\n",
    "print(ventas.groupby('Vendedor')['Ventas'].sum())\n",
    "\n",
    "\n",
    "print(ventas.groupby('Ciudad').agg({\n",
    "    'Ventas':['sum','count'],\n",
    "    'Comision':['sum','max']\n",
    "}))"
   ],
   "id": "784bab78cfed9740",
   "outputs": [
    {
     "name": "stdout",
     "output_type": "stream",
     "text": [
      "Vendedor\n",
      "Chuck     1000\n",
      "Felipe     150\n",
      "Juan       400\n",
      "Nelson     250\n",
      "Name: Ventas, dtype: int64\n"
     ]
    }
   ],
   "execution_count": 54
  },
  {
   "metadata": {},
   "cell_type": "markdown",
   "source": "# ACTIVIDAD",
   "id": "3d08a1c27c65d70a"
  },
  {
   "metadata": {
    "ExecuteTime": {
     "end_time": "2025-06-19T01:25:27.036216Z",
     "start_time": "2025-06-19T01:25:27.008708Z"
    }
   },
   "cell_type": "code",
   "source": [
    "from IPython.display import Image\n",
    "Image(filename=\"act18062025.jpg\")"
   ],
   "id": "7830655266f5bc04",
   "outputs": [
    {
     "data": {
      "image/jpeg": "[encoded data removed]",
      "text/plain": [
       "<IPython.core.display.Image object>"
      ]
     },
     "execution_count": 56,
     "metadata": {},
     "output_type": "execute_result"
    }
   ],
   "execution_count": 56
  },
  {
   "metadata": {
    "ExecuteTime": {
     "end_time": "2025-06-19T01:56:21.692362Z",
     "start_time": "2025-06-19T01:56:21.666303Z"
    }
   },
   "cell_type": "code",
   "source": [
    "print(\"Se carga el csv\")\n",
    "df = pd.read_csv('medallas 18-06-25.csv')\n",
    "df"
   ],
   "id": "df1f1b73d5d7589",
   "outputs": [
    {
     "name": "stdout",
     "output_type": "stream",
     "text": [
      "Se carga el csv\n"
     ]
    },
    {
     "data": {
      "text/plain": [
       "     Oro  Plata  Bronce  Total          Pais\n",
       "0    NaN    1.0     2.0      3     Argentina\n",
       "1    NaN    2.0     2.0      4       Armenia\n",
       "2   17.0    7.0    22.0     46     Australia\n",
       "3    1.0    1.0     5.0      7       Austria\n",
       "4    NaN    3.0     4.0      7    Azerbaijan\n",
       "..   ...    ...     ...    ...           ...\n",
       "88   NaN    1.0     NaN      1  Turkmenistan\n",
       "89   2.0    1.0     1.0      4        Uganda\n",
       "90   1.0    6.0    12.0     19       Ukraine\n",
       "91   3.0    NaN     2.0      5    Uzbekistan\n",
       "92   1.0    3.0     NaN      4     Venezuela\n",
       "\n",
       "[93 rows x 5 columns]"
      ],
      "text/html": [
       "<div>\n",
       "<style scoped>\n",
       "    .dataframe tbody tr th:only-of-type {\n",
       "        vertical-align: middle;\n",
       "    }\n",
       "\n",
       "    .dataframe tbody tr th {\n",
       "        vertical-align: top;\n",
       "    }\n",
       "\n",
       "    .dataframe thead th {\n",
       "        text-align: right;\n",
       "    }\n",
       "</style>\n",
       "<table border=\"1\" class=\"dataframe\">\n",
       "  <thead>\n",
       "    <tr style=\"text-align: right;\">\n",
       "      <th></th>\n",
       "      <th>Oro</th>\n",
       "      <th>Plata</th>\n",
       "      <th>Bronce</th>\n",
       "      <th>Total</th>\n",
       "      <th>Pais</th>\n",
       "    </tr>\n",
       "  </thead>\n",
       "  <tbody>\n",
       "    <tr>\n",
       "      <th>0</th>\n",
       "      <td>NaN</td>\n",
       "      <td>1.0</td>\n",
       "      <td>2.0</td>\n",
       "      <td>3</td>\n",
       "      <td>Argentina</td>\n",
       "    </tr>\n",
       "    <tr>\n",
       "      <th>1</th>\n",
       "      <td>NaN</td>\n",
       "      <td>2.0</td>\n",
       "      <td>2.0</td>\n",
       "      <td>4</td>\n",
       "      <td>Armenia</td>\n",
       "    </tr>\n",
       "    <tr>\n",
       "      <th>2</th>\n",
       "      <td>17.0</td>\n",
       "      <td>7.0</td>\n",
       "      <td>22.0</td>\n",
       "      <td>46</td>\n",
       "      <td>Australia</td>\n",
       "    </tr>\n",
       "    <tr>\n",
       "      <th>3</th>\n",
       "      <td>1.0</td>\n",
       "      <td>1.0</td>\n",
       "      <td>5.0</td>\n",
       "      <td>7</td>\n",
       "      <td>Austria</td>\n",
       "    </tr>\n",
       "    <tr>\n",
       "      <th>4</th>\n",
       "      <td>NaN</td>\n",
       "      <td>3.0</td>\n",
       "      <td>4.0</td>\n",
       "      <td>7</td>\n",
       "      <td>Azerbaijan</td>\n",
       "    </tr>\n",
       "    <tr>\n",
       "      <th>...</th>\n",
       "      <td>...</td>\n",
       "      <td>...</td>\n",
       "      <td>...</td>\n",
       "      <td>...</td>\n",
       "      <td>...</td>\n",
       "    </tr>\n",
       "    <tr>\n",
       "      <th>88</th>\n",
       "      <td>NaN</td>\n",
       "      <td>1.0</td>\n",
       "      <td>NaN</td>\n",
       "      <td>1</td>\n",
       "      <td>Turkmenistan</td>\n",
       "    </tr>\n",
       "    <tr>\n",
       "      <th>89</th>\n",
       "      <td>2.0</td>\n",
       "      <td>1.0</td>\n",
       "      <td>1.0</td>\n",
       "      <td>4</td>\n",
       "      <td>Uganda</td>\n",
       "    </tr>\n",
       "    <tr>\n",
       "      <th>90</th>\n",
       "      <td>1.0</td>\n",
       "      <td>6.0</td>\n",
       "      <td>12.0</td>\n",
       "      <td>19</td>\n",
       "      <td>Ukraine</td>\n",
       "    </tr>\n",
       "    <tr>\n",
       "      <th>91</th>\n",
       "      <td>3.0</td>\n",
       "      <td>NaN</td>\n",
       "      <td>2.0</td>\n",
       "      <td>5</td>\n",
       "      <td>Uzbekistan</td>\n",
       "    </tr>\n",
       "    <tr>\n",
       "      <th>92</th>\n",
       "      <td>1.0</td>\n",
       "      <td>3.0</td>\n",
       "      <td>NaN</td>\n",
       "      <td>4</td>\n",
       "      <td>Venezuela</td>\n",
       "    </tr>\n",
       "  </tbody>\n",
       "</table>\n",
       "<p>93 rows × 5 columns</p>\n",
       "</div>"
      ]
     },
     "execution_count": 93,
     "metadata": {},
     "output_type": "execute_result"
    }
   ],
   "execution_count": 93
  },
  {
   "metadata": {
    "ExecuteTime": {
     "end_time": "2025-06-19T01:29:37.305822Z",
     "start_time": "2025-06-19T01:29:37.279917Z"
    }
   },
   "cell_type": "code",
   "source": [
    "print(\"Info. General del df\")\n",
    "\n",
    "df.info()\n",
    "df.describe()"
   ],
   "id": "8512de55c38c6533",
   "outputs": [
    {
     "name": "stdout",
     "output_type": "stream",
     "text": [
      "Info. General del df\n",
      "<class 'pandas.core.frame.DataFrame'>\n",
      "RangeIndex: 93 entries, 0 to 92\n",
      "Data columns (total 5 columns):\n",
      " #   Column  Non-Null Count  Dtype  \n",
      "---  ------  --------------  -----  \n",
      " 0   Oro     65 non-null     float64\n",
      " 1   Plata   69 non-null     float64\n",
      " 2   Bronce  76 non-null     float64\n",
      " 3   Total   93 non-null     int64  \n",
      " 4   Pais    93 non-null     object \n",
      "dtypes: float64(3), int64(1), object(1)\n",
      "memory usage: 3.8+ KB\n"
     ]
    },
    {
     "data": {
      "text/plain": [
       "             Oro      Plata     Bronce       Total\n",
       "count  65.000000  69.000000  76.000000   93.000000\n",
       "mean    4.400000   4.768116   4.934211   10.548387\n",
       "std     7.633806   7.276362   6.261705   18.897617\n",
       "min     1.000000   1.000000   1.000000    1.000000\n",
       "25%     1.000000   1.000000   1.000000    2.000000\n",
       "50%     2.000000   2.000000   2.000000    4.000000\n",
       "75%     3.000000   5.000000   5.250000    8.000000\n",
       "max    39.000000  41.000000  33.000000  113.000000"
      ],
      "text/html": [
       "<div>\n",
       "<style scoped>\n",
       "    .dataframe tbody tr th:only-of-type {\n",
       "        vertical-align: middle;\n",
       "    }\n",
       "\n",
       "    .dataframe tbody tr th {\n",
       "        vertical-align: top;\n",
       "    }\n",
       "\n",
       "    .dataframe thead th {\n",
       "        text-align: right;\n",
       "    }\n",
       "</style>\n",
       "<table border=\"1\" class=\"dataframe\">\n",
       "  <thead>\n",
       "    <tr style=\"text-align: right;\">\n",
       "      <th></th>\n",
       "      <th>Oro</th>\n",
       "      <th>Plata</th>\n",
       "      <th>Bronce</th>\n",
       "      <th>Total</th>\n",
       "    </tr>\n",
       "  </thead>\n",
       "  <tbody>\n",
       "    <tr>\n",
       "      <th>count</th>\n",
       "      <td>65.000000</td>\n",
       "      <td>69.000000</td>\n",
       "      <td>76.000000</td>\n",
       "      <td>93.000000</td>\n",
       "    </tr>\n",
       "    <tr>\n",
       "      <th>mean</th>\n",
       "      <td>4.400000</td>\n",
       "      <td>4.768116</td>\n",
       "      <td>4.934211</td>\n",
       "      <td>10.548387</td>\n",
       "    </tr>\n",
       "    <tr>\n",
       "      <th>std</th>\n",
       "      <td>7.633806</td>\n",
       "      <td>7.276362</td>\n",
       "      <td>6.261705</td>\n",
       "      <td>18.897617</td>\n",
       "    </tr>\n",
       "    <tr>\n",
       "      <th>min</th>\n",
       "      <td>1.000000</td>\n",
       "      <td>1.000000</td>\n",
       "      <td>1.000000</td>\n",
       "      <td>1.000000</td>\n",
       "    </tr>\n",
       "    <tr>\n",
       "      <th>25%</th>\n",
       "      <td>1.000000</td>\n",
       "      <td>1.000000</td>\n",
       "      <td>1.000000</td>\n",
       "      <td>2.000000</td>\n",
       "    </tr>\n",
       "    <tr>\n",
       "      <th>50%</th>\n",
       "      <td>2.000000</td>\n",
       "      <td>2.000000</td>\n",
       "      <td>2.000000</td>\n",
       "      <td>4.000000</td>\n",
       "    </tr>\n",
       "    <tr>\n",
       "      <th>75%</th>\n",
       "      <td>3.000000</td>\n",
       "      <td>5.000000</td>\n",
       "      <td>5.250000</td>\n",
       "      <td>8.000000</td>\n",
       "    </tr>\n",
       "    <tr>\n",
       "      <th>max</th>\n",
       "      <td>39.000000</td>\n",
       "      <td>41.000000</td>\n",
       "      <td>33.000000</td>\n",
       "      <td>113.000000</td>\n",
       "    </tr>\n",
       "  </tbody>\n",
       "</table>\n",
       "</div>"
      ]
     },
     "execution_count": 64,
     "metadata": {},
     "output_type": "execute_result"
    }
   ],
   "execution_count": 64
  },
  {
   "metadata": {
    "ExecuteTime": {
     "end_time": "2025-06-19T01:32:09.463390Z",
     "start_time": "2025-06-19T01:32:09.444141Z"
    }
   },
   "cell_type": "code",
   "source": [
    "print(\"Cantidad de nulos por columna: \")\n",
    "df.isnull().sum()\n",
    "\n",
    "print(\"\\nCambiados los NaN por 0: \")\n",
    "df = df.fillna(0)\n"
   ],
   "id": "48dd8dd22b791c5c",
   "outputs": [
    {
     "name": "stdout",
     "output_type": "stream",
     "text": [
      "Cantidad de nulos por columna: \n",
      "\n",
      "Cantidad de nulos por columna: \n"
     ]
    },
    {
     "data": {
      "text/plain": [
       "Oro       0\n",
       "Plata     0\n",
       "Bronce    0\n",
       "Total     0\n",
       "Pais      0\n",
       "dtype: int64"
      ]
     },
     "execution_count": 69,
     "metadata": {},
     "output_type": "execute_result"
    }
   ],
   "execution_count": 69
  },
  {
   "metadata": {
    "ExecuteTime": {
     "end_time": "2025-06-19T01:56:02.146207Z",
     "start_time": "2025-06-19T01:56:02.121502Z"
    }
   },
   "cell_type": "code",
   "source": [
    "print(\"Buscaremos y mostraremos los países con más oros, platas, bronces y total de medallas\")\n",
    "mas_oro = df[df['Oro'] == df['Oro'].max()]['Pais'].item()\n",
    "mas_plata = df[df['Plata'] == df['Plata'].max()]['Pais'].item()\n",
    "mas_bronce = df[df['Bronce'] == df['Bronce'].max()]['Pais'].item()\n",
    "mas_medallas = df[df['Total'] == df['Total'].max()]['Pais'].item()\n",
    "maximos_medallas = pd.DataFrame({\n",
    "    'mas oros':[mas_oro, df['Oro'].max()],\n",
    "    'mas_plata':[mas_plata, df['Plata'].max()],\n",
    "    'mas_bronce':[mas_bronce, df['Bronce'].max()],\n",
    "    'mas_medallas':[mas_medallas, df['Total'].max()]\n",
    "})\n",
    "maximos_medallas\n",
    "#print(f'El país que tiene más oros es: {mas_oro}, el que tiene más platas es {mas_plata}, el que tiene más bronces es {mas_bronce} y el que tiene más medallas es {mas_medallas}')"
   ],
   "id": "309b7b414d4ef71e",
   "outputs": [
    {
     "name": "stdout",
     "output_type": "stream",
     "text": [
      "Buscaremos los países con más oros, platas, bronces y total de medallas\n"
     ]
    },
    {
     "data": {
      "text/plain": [
       "                    mas oros                  mas_plata  \\\n",
       "0  Estados Unidos de America  Estados Unidos de America   \n",
       "1                       39.0                       41.0   \n",
       "\n",
       "                  mas_bronce               mas_medallas  \n",
       "0  Estados Unidos de America  Estados Unidos de America  \n",
       "1                       33.0                        113  "
      ],
      "text/html": [
       "<div>\n",
       "<style scoped>\n",
       "    .dataframe tbody tr th:only-of-type {\n",
       "        vertical-align: middle;\n",
       "    }\n",
       "\n",
       "    .dataframe tbody tr th {\n",
       "        vertical-align: top;\n",
       "    }\n",
       "\n",
       "    .dataframe thead th {\n",
       "        text-align: right;\n",
       "    }\n",
       "</style>\n",
       "<table border=\"1\" class=\"dataframe\">\n",
       "  <thead>\n",
       "    <tr style=\"text-align: right;\">\n",
       "      <th></th>\n",
       "      <th>mas oros</th>\n",
       "      <th>mas_plata</th>\n",
       "      <th>mas_bronce</th>\n",
       "      <th>mas_medallas</th>\n",
       "    </tr>\n",
       "  </thead>\n",
       "  <tbody>\n",
       "    <tr>\n",
       "      <th>0</th>\n",
       "      <td>Estados Unidos de America</td>\n",
       "      <td>Estados Unidos de America</td>\n",
       "      <td>Estados Unidos de America</td>\n",
       "      <td>Estados Unidos de America</td>\n",
       "    </tr>\n",
       "    <tr>\n",
       "      <th>1</th>\n",
       "      <td>39.0</td>\n",
       "      <td>41.0</td>\n",
       "      <td>33.0</td>\n",
       "      <td>113</td>\n",
       "    </tr>\n",
       "  </tbody>\n",
       "</table>\n",
       "</div>"
      ]
     },
     "execution_count": 92,
     "metadata": {},
     "output_type": "execute_result"
    }
   ],
   "execution_count": 92
  },
  {
   "metadata": {},
   "cell_type": "code",
   "outputs": [],
   "execution_count": null,
   "source": "",
   "id": "79fec3e19f92c7b9"
  }
 ],
 "metadata": {
  "kernelspec": {
   "display_name": "Python 3",
   "language": "python",
   "name": "python3"
  },
  "language_info": {
   "codemirror_mode": {
    "name": "ipython",
    "version": 2
   },
   "file_extension": ".py",
   "mimetype": "text/x-python",
   "name": "python",
   "nbconvert_exporter": "python",
   "pygments_lexer": "ipython2",
   "version": "2.7.6"
  }
 },
 "nbformat": 4,
 "nbformat_minor": 5
}
