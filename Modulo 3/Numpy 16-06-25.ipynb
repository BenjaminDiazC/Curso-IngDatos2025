{
 "cells": [
  {
   "cell_type": "code",
   "id": "initial_id",
   "metadata": {
    "collapsed": true,
    "ExecuteTime": {
     "end_time": "2025-06-16T23:47:24.534757Z",
     "start_time": "2025-06-16T23:47:24.374355Z"
    }
   },
   "source": [
    "import numpy as np\n",
    "print(\"PASO 1- Importar Numpy\")\n",
    "print(f\"importado numpy con la versión: {np.__version__}\")"
   ],
   "outputs": [
    {
     "name": "stdout",
     "output_type": "stream",
     "text": [
      "importado numpy con la versión: 1.23.5\n"
     ]
    }
   ],
   "execution_count": 1
  },
  {
   "metadata": {
    "ExecuteTime": {
     "end_time": "2025-06-16T23:54:08.892678Z",
     "start_time": "2025-06-16T23:54:08.883020Z"
    }
   },
   "cell_type": "code",
   "source": [
    "print(\"PASO 2 - Creacion matriz 3x3\")\n",
    "a = np.array([[1, 2, 3], [4, 5, 6], [7, 8, 9]])\n",
    "#Para llamar a un atributo se hace -> a.atributo\n",
    "#Para llamar a una función se hace -> a.atributo()\n",
    "# ¿En que casos yo podría llamar a una función así -> a.función? Cuando la función es una PROPIEDAD\n",
    "print(f\"la matriz 'a' est+a creada, a continuación sus valores : {a}\")\n",
    "print(f\"forma de la matriz 'a' = {a.shape}\")\n",
    "print(f\"el tipo de dato que contiene la matriz 'a' es {a.dtype}\")"
   ],
   "id": "30992272eeadc95b",
   "outputs": [
    {
     "name": "stdout",
     "output_type": "stream",
     "text": [
      "PASO 2 - Creacion matriz 3x3\n",
      "la matriz 'a' est+a creada, a continuación sus valores : [[1 2 3]\n",
      " [4 5 6]\n",
      " [7 8 9]]\n",
      "forma de la matriz 'a' = (3, 3)\n",
      "el tipo de dato que contiene la matriz 'a' es int32\n"
     ]
    }
   ],
   "execution_count": 3
  },
  {
   "metadata": {
    "ExecuteTime": {
     "end_time": "2025-06-16T23:59:34.177361Z",
     "start_time": "2025-06-16T23:59:34.165580Z"
    }
   },
   "cell_type": "code",
   "source": [
    "print(\"PASO 3 - Sumar 10 a cada elemento de la matriz\")\n",
    "a_suma= a+10\n",
    "print(f\"la suma de la matriz a = {a_suma}\")"
   ],
   "id": "78d349de383888c3",
   "outputs": [
    {
     "name": "stdout",
     "output_type": "stream",
     "text": [
      "PASO 3 - Sumar 10 a cada elemento de la matriz\n",
      "la suma de la matriz a = [[11 12 13]\n",
      " [14 15 16]\n",
      " [17 18 19]]\n"
     ]
    }
   ],
   "execution_count": 4
  },
  {
   "metadata": {
    "ExecuteTime": {
     "end_time": "2025-06-17T00:00:25.855999Z",
     "start_time": "2025-06-17T00:00:25.844737Z"
    }
   },
   "cell_type": "code",
   "source": [
    "print(\"PASO 4 - Multiplicar 2 a cada elemento\")\n",
    "a_mult= a*2\n",
    "print(f\"la multiplicacion de la matriz a = \\n{a_mult}\")"
   ],
   "id": "c3e47f39501c24a",
   "outputs": [
    {
     "name": "stdout",
     "output_type": "stream",
     "text": [
      "PASO 4 - Multiplicar 2 a cada elemento\n",
      "la multiplicacion de la matriz a = \n",
      "[[ 2  4  6]\n",
      " [ 8 10 12]\n",
      " [14 16 18]]\n"
     ]
    },
    {
     "data": {
      "text/plain": [
       "array([[ 2,  4,  6],\n",
       "       [ 8, 10, 12],\n",
       "       [14, 16, 18]])"
      ]
     },
     "execution_count": 6,
     "metadata": {},
     "output_type": "execute_result"
    }
   ],
   "execution_count": 6
  },
  {
   "metadata": {
    "ExecuteTime": {
     "end_time": "2025-06-17T00:03:59.652095Z",
     "start_time": "2025-06-17T00:03:59.641906Z"
    }
   },
   "cell_type": "code",
   "source": [
    "print(\"Paso 5 - extraer elemento de la matriz mayores a 5\")\n",
    "mayores_cinco= a > 5\n",
    "# Con una o más condiciones -> a_condicional = a>5 & (and) a<10 = (a>5) & (a<10)\n",
    "print(\"la condicion es que los elementos > 5\")\n",
    "print(mayores_cinco)\n",
    "print(f\"- Los elementos que cumplen con la condición son = \\n{a[mayores_cinco]}\")"
   ],
   "id": "a7c8be6bdfa4c757",
   "outputs": [
    {
     "name": "stdout",
     "output_type": "stream",
     "text": [
      "Paso 5 - extraer elemento de la matriz mayores a 5\n",
      "la condicion es que los elementos > 5\n",
      "[[False False False]\n",
      " [False False  True]\n",
      " [ True  True  True]]\n",
      "- Los elementos que cumplen con la condición son = \n",
      "[6 7 8 9]\n"
     ]
    }
   ],
   "execution_count": 8
  },
  {
   "metadata": {
    "ExecuteTime": {
     "end_time": "2025-06-17T00:17:48.650502Z",
     "start_time": "2025-06-17T00:17:48.639949Z"
    }
   },
   "cell_type": "code",
   "source": [
    "#Creacion de una matriz que será la original\n",
    "matriz_original = np.array([[1, 2, 3], [4, 5, 6], [7, 8, 9]])\n",
    "print(f\"la matriz original = \\n{matriz_original}\")\n",
    "print(\"- Asignación por referencia\")\n",
    "referencia = matriz_original\n",
    "print(f\"Matriz de referencia = \\n{referencia}\")\n",
    "print(\"Mostrando referencias (codigo) de cada objeto creado:\")\n",
    "print(f\"\\tID de la matriz original = {id(matriz_original)}\")\n",
    "print(f\"\\tID de la matriz de referencia = {id(referencia)}\")\n",
    "\n",
    "referencia[1,1] = referencia[1,1] + 100\n",
    "print(f\"Matriz de referencia modificada= \\n{referencia}\")\n",
    "print(f\"la matriz original ¿modificada?= \\n{matriz_original}\")\n",
    "print(\"\\n RESULTADO INESPERADO - La matriz original también se modificó\")\n"
   ],
   "id": "ded02d7970bc4645",
   "outputs": [
    {
     "name": "stdout",
     "output_type": "stream",
     "text": [
      "la matriz original = \n",
      "[[1 2 3]\n",
      " [4 5 6]\n",
      " [7 8 9]]\n",
      "- Asignación por referencia\n",
      "Matriz de referencia = \n",
      "[[1 2 3]\n",
      " [4 5 6]\n",
      " [7 8 9]]\n",
      "Mostrando referencias (codigo) de cada objeto creado:\n",
      "\tID de la matriz original = 2445746169264\n",
      "\tID de la matriz de referencia = 2445746169264\n",
      "Matriz de referencia modificada= \n",
      "[[  1   2   3]\n",
      " [  4 105   6]\n",
      " [  7   8   9]]\n",
      "la matriz original ¿modificada?= \n",
      "[[  1   2   3]\n",
      " [  4 105   6]\n",
      " [  7   8   9]]\n",
      "\n",
      " RESULTADO INESPERADO - La matriz original también se modificó\n"
     ]
    }
   ],
   "execution_count": 14
  },
  {
   "metadata": {
    "ExecuteTime": {
     "end_time": "2025-06-17T00:23:36.781517Z",
     "start_time": "2025-06-17T00:23:36.770367Z"
    }
   },
   "cell_type": "code",
   "source": [
    "print(\"SOLUCIÓN - Utilizar la funcion copy() para hajcer una copia independiente\")\n",
    "matriz_original = np.array([[1, 2, 3], [4, 5, 6], [7, 8, 9]])\n",
    "print(f\"la matriz original restaurada= \\n{matriz_original}\")\n",
    "copia_independiente = matriz_original.copy()\n",
    "print(f\"Matriz copiada de forma independiente. Sus valores son = \\n{copia_independiente}\")\n",
    "print(f\"\\tID de la matriz original = {id(matriz_original)}\")\n",
    "print(f\"\\tID de la matriz de copiada independiente = {id(copia_independiente)}\")\n",
    "\n",
    "copia_independiente[1,1] = copia_independiente[1,1] + 100\n",
    "print(f\"Matriz de copia independiente modificada= \\n{copia_independiente}\")\n",
    "print(f\"la matriz original ¿modificada?= \\n{matriz_original}\")\n",
    "print(\"\\n RESULTADO ESPERADO - La matriz original NO se modificó\")"
   ],
   "id": "3c0b1d169c55739c",
   "outputs": [
    {
     "name": "stdout",
     "output_type": "stream",
     "text": [
      "SOLUCIÓN - Utilizar la funcion copy() para hajcer una copia independiente\n",
      "la matriz original restaurada= \n",
      "[[1 2 3]\n",
      " [4 5 6]\n",
      " [7 8 9]]\n",
      "Matriz copiada de forma independiente. Sus valores son = \n",
      "[[1 2 3]\n",
      " [4 5 6]\n",
      " [7 8 9]]\n",
      "\tID de la matriz original = 2445703304592\n",
      "\tID de la matriz de copiada independiente = 2445703305552\n",
      "Matriz de copia independiente modificada= \n",
      "[[  1   2   3]\n",
      " [  4 105   6]\n",
      " [  7   8   9]]\n",
      "la matriz original ¿modificada?= \n",
      "[[1 2 3]\n",
      " [4 5 6]\n",
      " [7 8 9]]\n",
      "\n",
      " RESULTADO ESPERADO - La matriz original NO se modificó\n"
     ]
    }
   ],
   "execution_count": 17
  },
  {
   "metadata": {},
   "cell_type": "markdown",
   "source": "# ACTIVIDAD",
   "id": "e1041130a3d571fa"
  },
  {
   "metadata": {
    "ExecuteTime": {
     "end_time": "2025-06-17T01:32:29.366316Z",
     "start_time": "2025-06-17T01:32:29.353788Z"
    }
   },
   "cell_type": "code",
   "source": [
    "from IPython.display import Image\n",
    "Image(filename=\"act16062025.png\")"
   ],
   "id": "cb426923249d495c",
   "outputs": [
    {
     "data": {
      "image/png": "[encoded data removed]",
      "text/plain": [
       "<IPython.core.display.Image object>"
      ]
     },
     "execution_count": 44,
     "metadata": {},
     "output_type": "execute_result"
    }
   ],
   "execution_count": 44
  },
  {
   "metadata": {},
   "cell_type": "markdown",
   "source": "Se crea un arreglo con 16 elementos y se deja como matriz 4x4",
   "id": "f14a4f56fb507579"
  },
  {
   "metadata": {
    "ExecuteTime": {
     "end_time": "2025-06-17T01:12:22.241083Z",
     "start_time": "2025-06-17T01:12:22.229307Z"
    }
   },
   "cell_type": "code",
   "source": [
    "x = np.arange(1,17)\n",
    "x = np.reshape(x,(4,4))\n",
    "print(x)"
   ],
   "id": "39cb2bbb0088e920",
   "outputs": [
    {
     "name": "stdout",
     "output_type": "stream",
     "text": [
      "[[ 1  2  3  4]\n",
      " [ 5  6  7  8]\n",
      " [ 9 10 11 12]\n",
      " [13 14 15 16]]\n",
      "[[15  4 19]\n",
      " [13 13 19]\n",
      " [ 2  1  1]]\n"
     ]
    }
   ],
   "execution_count": 30
  },
  {
   "metadata": {},
   "cell_type": "markdown",
   "source": "Se crea arreglo con 10 elementos equidistantes entre 0 y 100",
   "id": "602eda48ee273ed6"
  },
  {
   "metadata": {},
   "cell_type": "code",
   "outputs": [],
   "execution_count": null,
   "source": "arreglo = np.linspace(0,100,10)",
   "id": "2cfb8901cf72c8e9"
  },
  {
   "metadata": {},
   "cell_type": "markdown",
   "source": "Se crea una matriz aleatoria 3x3 entre 1 y 20",
   "id": "f33d262330950bca"
  },
  {
   "metadata": {},
   "cell_type": "code",
   "outputs": [],
   "execution_count": null,
   "source": [
    "matriz_aleatoria = np.random.randint(1,21, size=(3,3))\n",
    "print(matriz_aleatoria)"
   ],
   "id": "d43b9a4b9d433775"
  },
  {
   "metadata": {},
   "cell_type": "markdown",
   "source": "De la raiz aleatoria se deja una matriz con raiz cuadrada y otra con el logaritmo base 10",
   "id": "4547a39d1efea1fc"
  },
  {
   "metadata": {
    "ExecuteTime": {
     "end_time": "2025-06-17T01:18:11.905162Z",
     "start_time": "2025-06-17T01:18:11.896658Z"
    }
   },
   "cell_type": "code",
   "source": [
    "matriz_cuadrada = np.sqrt(matriz_aleatoria) #sqrt saca la raíz\n",
    "matriz_log = np.log(matriz_cuadrada)"
   ],
   "id": "1197ee295d53fcdc",
   "outputs": [],
   "execution_count": 35
  },
  {
   "metadata": {},
   "cell_type": "markdown",
   "source": "",
   "id": "85381eedb52cc70f"
  },
  {
   "metadata": {},
   "cell_type": "markdown",
   "source": "5. Son cambios en el rendimiento porque los float ocupan mas memoria que los integer",
   "id": "94dc9b2695f1fc4f"
  },
  {
   "metadata": {},
   "cell_type": "code",
   "outputs": [],
   "execution_count": null,
   "source": "",
   "id": "919b78cdcb3283b"
  }
 ],
 "metadata": {
  "kernelspec": {
   "display_name": "Python 3",
   "language": "python",
   "name": "python3"
  },
  "language_info": {
   "codemirror_mode": {
    "name": "ipython",
    "version": 2
   },
   "file_extension": ".py",
   "mimetype": "text/x-python",
   "name": "python",
   "nbconvert_exporter": "python",
   "pygments_lexer": "ipython2",
   "version": "2.7.6"
  }
 },
 "nbformat": 4,
 "nbformat_minor": 5
}
