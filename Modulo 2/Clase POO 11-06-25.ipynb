{
 "cells": [
  {
   "metadata": {},
   "cell_type": "markdown",
   "source": "### Crear clases",
   "id": "58e74f3c9a5c5b6"
  },
  {
   "metadata": {
    "ExecuteTime": {
     "end_time": "2025-06-12T00:04:12.574139Z",
     "start_time": "2025-06-12T00:04:12.547265Z"
    }
   },
   "cell_type": "code",
   "source": [
    "from numpy import integer\n",
    "\n",
    "\n",
    "class Persona:\n",
    "    \"\"\" Aca va la creación del atributo de clase (aplicable a todos los objetos\"\"\"\n",
    "    especie = \"Humano\"\n",
    "\n",
    "    \"\"\"Un constructor es un método que se ejecuta siempre justo al crear cada objeto\"\"\"\n",
    "    def __init__(self, nombre, edad):\n",
    "        self.n = nombre\n",
    "        self.e = edad\n",
    "\n",
    "    \"\"\"Método (funcion de la clase) que hace una acción determinada\"\"\"\n",
    "    def saludar(self):\n",
    "        print(f\"Hola, me llamo {self.n}! y tengo {self.e} años.\")\n",
    "\n",
    "\n",
    "persona1=Persona(\"Felipe\",35)\n",
    "persona2=Persona(\"Nelson\",38)\n",
    "\n",
    "print(f\"{persona1.saludar()} - {persona1.especie}\")\n",
    "print(f\"{persona2.saludar()} - {persona2.especie}\")"
   ],
   "id": "b58479dc8c7869b3",
   "outputs": [
    {
     "name": "stdout",
     "output_type": "stream",
     "text": [
      "Hola, me llamo Felipe! y tengo 35 años.\n",
      "None - Humano\n",
      "Hola, me llamo Nelson! y tengo 38 años.\n",
      "None - Humano\n"
     ]
    }
   ],
   "execution_count": 1
  },
  {
   "cell_type": "code",
   "id": "initial_id",
   "metadata": {
    "collapsed": true,
    "ExecuteTime": {
     "end_time": "2025-06-12T00:15:16.807182Z",
     "start_time": "2025-06-12T00:15:16.795542Z"
    }
   },
   "source": [
    "class Circulo:\n",
    "    def __init__(self, radio: int):\n",
    "        self.r = radio\n",
    "\n",
    "objeto_circulo = Circulo(10)\n",
    "print(f\"el radio es {objeto_circulo.r}\")"
   ],
   "outputs": [
    {
     "name": "stdout",
     "output_type": "stream",
     "text": [
      "el radio es 10\n"
     ]
    }
   ],
   "execution_count": 4
  },
  {
   "metadata": {
    "ExecuteTime": {
     "end_time": "2025-06-12T00:34:32.290740Z",
     "start_time": "2025-06-12T00:34:32.277624Z"
    }
   },
   "cell_type": "code",
   "source": [
    "class Cuenta:\n",
    "    def __init__(self, saldo: float):\n",
    "        self.__s = saldo\n",
    "\n",
    "    #Los métodos get() y los set()\n",
    "    def get_saldo(self) -> float:\n",
    "        return self.__s\n",
    "    def set_saldo(self, saldo: float):\n",
    "        if saldo >=0:\n",
    "            self.__s = saldo\n",
    "        else:\n",
    "            print(\"Saldo negativo\")\n",
    "\n",
    "\n",
    "cuenta_bancaria = Cuenta(0)\n",
    "print(cuenta_bancaria.set_saldo(-1))"
   ],
   "id": "5739c2b1c6e05e64",
   "outputs": [
    {
     "name": "stdout",
     "output_type": "stream",
     "text": [
      "Saldo negativo\n",
      "None\n"
     ]
    }
   ],
   "execution_count": 5
  },
  {
   "metadata": {},
   "cell_type": "markdown",
   "source": "### Uso de decoradores",
   "id": "768829477468c680"
  },
  {
   "metadata": {
    "ExecuteTime": {
     "end_time": "2025-06-12T00:42:14.256851Z",
     "start_time": "2025-06-12T00:42:14.245749Z"
    }
   },
   "cell_type": "code",
   "source": [
    "class Producto:\n",
    "    def __init__(self, precio):\n",
    "        self.__p = precio\n",
    "\n",
    "    \"\"\"método get sin necesidad de ponerle get_precio\"\"\"\n",
    "    @property\n",
    "    def precio(self):\n",
    "        return self.__p\n",
    "\n",
    "    \"\"\"Método set sin necesidad de ponerle set_precio\"\"\"\n",
    "    @precio.setter\n",
    "    def precio(self, valor):\n",
    "        self.__p = valor\n",
    "\n",
    "\n",
    "p = Producto(100)\n",
    "print(p.precio)\n",
    "p.precio = 200\n",
    "print(p.precio)"
   ],
   "id": "f01d1548142e030b",
   "outputs": [
    {
     "name": "stdout",
     "output_type": "stream",
     "text": [
      "100\n",
      "200\n"
     ]
    }
   ],
   "execution_count": 7
  },
  {
   "metadata": {},
   "cell_type": "markdown",
   "source": "### HERENCIA EN LA PROGRAMACIÓN ORIENTADA A OBJETOS",
   "id": "1405aaf77664412c"
  },
  {
   "metadata": {
    "ExecuteTime": {
     "end_time": "2025-06-12T02:06:06.363288Z",
     "start_time": "2025-06-12T02:06:06.352211Z"
    }
   },
   "cell_type": "code",
   "source": [
    "#Herencia simple\n",
    "\n",
    "class Animal:\n",
    "    \"\"\"se devolverá nada en especifico, puedo ponerle integer, boolean si quiero algo especifico\"\"\"\n",
    "    def comer(self) -> None:\n",
    "        print(\"comiendo\")\n",
    "\n",
    "class Perro(Animal):\n",
    "    def ladrar(self) -> None:\n",
    "        print(\"ladrar\")\n",
    "\n",
    "\n",
    "cachupin = Perro()\n",
    "cachupin.ladrar()\n",
    "cachupin.comer()\n",
    "\n",
    "\n",
    "# Herencia Multiple\n",
    "\n",
    "class Terrestre:\n",
    "    def desplazar(self) -> None:\n",
    "        print(\"desplazar caminando\")\n",
    "\n",
    "\n",
    "class Acuatico:\n",
    "    def desplazar(self) -> None:\n",
    "        print(\"desplazar nadando\")\n",
    "\n",
    "class Anfibio(Terrestre, Acuatico):\n",
    "    pass\n",
    "\n",
    "regalon = Anfibio()\n",
    "regalon.desplazar()"
   ],
   "id": "fef3ac905809e4a6",
   "outputs": [
    {
     "name": "stdout",
     "output_type": "stream",
     "text": [
      "ladrar\n",
      "comiendo\n",
      "desplazar caminando\n"
     ]
    }
   ],
   "execution_count": 13
  },
  {
   "metadata": {},
   "cell_type": "markdown",
   "source": "# ACTIVIDAD",
   "id": "ccb9266c7ac64e5a"
  },
  {
   "metadata": {},
   "cell_type": "code",
   "outputs": [],
   "execution_count": null,
   "source": [
    "class Auto:\n",
    "    def __init__(self, estado, comportamiento, atributos):\n",
    "        self.e = estado\n",
    "        self.c = comportamiento\n",
    "        self.a = atributos\n",
    "\n",
    "    def atributos(self, color, peso, tamaño, alto, largo, cant_ruedas, cant_puertas, tipo):\n",
    "        self.c = color\n",
    "        self.p = peso\n",
    "        self.t = tamaño\n",
    "        self.a = alto\n",
    "        self.l = largo\n",
    "        self.cant_ruedas = cant_ruedas\n",
    "        self.cant_puertas = cant_puertas\n",
    "        self.tipo = tipo\n",
    "    def comportamiento(self, arrancar, frenar, acelerar, girar):\n",
    "        self.arrancar = arrancar\n",
    "        self.frenar = frenar\n",
    "        self.acelerar = acelerar\n",
    "        self.girar = girar\n",
    "    def estados(self, detenido, circulando, estacionado, daniado):\n",
    "        self.detenido = detenido\n",
    "        self.circulando = circulando\n",
    "        self.estacionado = estacionado\n",
    "        self.daniado = daniado\n",
    "\n",
    "\n",
    "Auto1 = Auto(\"detenido\")\n",
    "    #def estado(self):\n",
    "    #    estados=[\"Detenido\",\"Circulando\",\"Estacionado\",\"Dañado\"]\n",
    "\n",
    "    #    return estados\n",
    "\n",
    "\n"
   ],
   "id": "12b39e4848876e3b"
  },
  {
   "metadata": {},
   "cell_type": "markdown",
   "source": "### POLIMORFISMO",
   "id": "303668907ef92275"
  },
  {
   "metadata": {},
   "cell_type": "code",
   "outputs": [],
   "execution_count": null,
   "source": [
    "class Ave:\n",
    "    def volar(self):\n",
    "        print(\"volando\")\n",
    "\n",
    "class Avion:\n",
    "    def volar(self):\n",
    "        print(\"avión volando\")\n",
    "\n",
    " def hacer_volar(objeto):\n",
    "     objeto.volar()\n",
    "\n",
    "\n",
    "#Código para probar clases y polimorfismo\n",
    "pajaro = Ave()\n",
    "boeing = Avion()\n",
    "print(f\"Objeto de la clase Ave = {pajaro.volar()}\")\n",
    "print(f\"Objeto de la clase Avion = {boeing.volar()}\")\n",
    "\n",
    "hacer_volar(boeing)"
   ],
   "id": "3a0fa783c1eeba30"
  }
 ],
 "metadata": {
  "kernelspec": {
   "display_name": "Python 3",
   "language": "python",
   "name": "python3"
  },
  "language_info": {
   "codemirror_mode": {
    "name": "ipython",
    "version": 2
   },
   "file_extension": ".py",
   "mimetype": "text/x-python",
   "name": "python",
   "nbconvert_exporter": "python",
   "pygments_lexer": "ipython2",
   "version": "2.7.6"
  }
 },
 "nbformat": 4,
 "nbformat_minor": 5
}
