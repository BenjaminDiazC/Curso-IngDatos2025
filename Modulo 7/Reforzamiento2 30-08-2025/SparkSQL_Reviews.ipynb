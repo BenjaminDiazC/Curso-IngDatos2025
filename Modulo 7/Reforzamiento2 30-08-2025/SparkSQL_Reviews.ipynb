{
 "cells": [
  {
   "cell_type": "markdown",
   "id": "7d8e60a9",
   "metadata": {},
   "source": [
    "# Ejemplo sencillo con Spark SQL"
   ]
  },
  {
   "cell_type": "markdown",
   "id": "32e54352",
   "metadata": {},
   "source": [
    "\n",
    "Este notebook muestra un ejemplo básico de uso de **Spark SQL** con un archivo CSV de reseñas.\n",
    "Se carga el archivo `ejercicio_reviews_simple.csv`, se crea una vista temporal y se ejecutan consultas SQL.\n"
   ]
  },
  {
   "cell_type": "markdown",
   "id": "4c0342a3",
   "metadata": {},
   "source": [
    "## 1) Crear SparkSession"
   ]
  },
  {
   "cell_type": "code",
   "execution_count": 1,
   "id": "34edf09f",
   "metadata": {},
   "outputs": [
    {
     "data": {
      "text/html": [
       "\n",
       "            <div>\n",
       "                <p><b>SparkSession - in-memory</b></p>\n",
       "                \n",
       "        <div>\n",
       "            <p><b>SparkContext</b></p>\n",
       "\n",
       "            <p><a href=\"http://host.docker.internal:4044\">Spark UI</a></p>\n",
       "\n",
       "            <dl>\n",
       "              <dt>Version</dt>\n",
       "                <dd><code>v3.5.1</code></dd>\n",
       "              <dt>Master</dt>\n",
       "                <dd><code>local[*]</code></dd>\n",
       "              <dt>AppName</dt>\n",
       "                <dd><code>Ejemplo_SparkSQL_Reviews</code></dd>\n",
       "            </dl>\n",
       "        </div>\n",
       "        \n",
       "            </div>\n",
       "        "
      ],
      "text/plain": [
       "<pyspark.sql.session.SparkSession at 0x1db0e4014e0>"
      ]
     },
     "execution_count": 1,
     "metadata": {},
     "output_type": "execute_result"
    }
   ],
   "source": [
    "\n",
    "import os, sys\n",
    "from pyspark.sql import SparkSession\n",
    "from pyspark.sql.functions import size, split\n",
    "\n",
    "# Configuración para asegurar mismo Python en driver y workers (Windows/Colab)\n",
    "os.environ[\"PYSPARK_PYTHON\"] = sys.executable\n",
    "os.environ[\"PYSPARK_DRIVER_PYTHON\"] = sys.executable\n",
    "\n",
    "spark = (SparkSession.builder\n",
    "         .appName(\"Ejemplo_SparkSQL_Reviews\")\n",
    "         .config(\"spark.python.use.daemon\",\"false\")\n",
    "         .config(\"spark.python.worker.reuse\",\"false\")\n",
    "         .getOrCreate())\n",
    "\n",
    "spark\n"
   ]
  },
  {
   "cell_type": "markdown",
   "id": "0fb9cc37",
   "metadata": {},
   "source": [
    "## 2) Cargar archivo CSV"
   ]
  },
  {
   "cell_type": "code",
   "execution_count": 2,
   "id": "59c16954",
   "metadata": {},
   "outputs": [
    {
     "name": "stdout",
     "output_type": "stream",
     "text": [
      "+---+-----------------------------------------+\n",
      "|id |texto                                    |\n",
      "+---+-----------------------------------------+\n",
      "|1  |Muy buen servicio y atención rápida.     |\n",
      "|2  |Producto defectuoso, no funcionó.        |\n",
      "|3  |Excelente calidad, volvería a comprar.   |\n",
      "|4  |Entrega lenta, pero producto aceptable.  |\n",
      "|5  |El empaque llegó dañado.                 |\n",
      "|6  |Me encantó, lo recomiendo totalmente.    |\n",
      "|7  |No cumplió con mis expectativas.         |\n",
      "|8  |Buen diseño y fácil de usar.             |\n",
      "|9  |Precio demasiado alto para la calidad.   |\n",
      "|10 |Superó mis expectativas, cinco estrellas.|\n",
      "+---+-----------------------------------------+\n",
      "\n",
      "root\n",
      " |-- id: integer (nullable = true)\n",
      " |-- texto: string (nullable = true)\n",
      "\n"
     ]
    }
   ],
   "source": [
    "\n",
    "csv_path = \"ejercicio_reviews_simple.csv\"\n",
    "\n",
    "df = (spark.read\n",
    "      .option(\"header\", True)\n",
    "      .option(\"inferSchema\", True)\n",
    "      .csv(csv_path))\n",
    "\n",
    "df.show(truncate=False)\n",
    "df.printSchema()\n"
   ]
  },
  {
   "cell_type": "markdown",
   "id": "f2857877",
   "metadata": {},
   "source": [
    "## 3) Crear vista temporal con número de palabras"
   ]
  },
  {
   "cell_type": "code",
   "execution_count": 3,
   "id": "bb644275",
   "metadata": {},
   "outputs": [],
   "source": [
    "\n",
    "# Agregar columna num_palabras usando funciones nativas de Spark\n",
    "df = df.withColumn(\"num_palabras\", size(split(df[\"texto\"], \" \")))\n",
    "\n",
    "# Registrar vista temporal\n",
    "df.createOrReplaceTempView(\"reviews\")\n"
   ]
  },
  {
   "cell_type": "markdown",
   "id": "b4158b67",
   "metadata": {},
   "source": [
    "## 4) Consultas con Spark SQL"
   ]
  },
  {
   "cell_type": "code",
   "execution_count": 4,
   "id": "bc157714",
   "metadata": {},
   "outputs": [
    {
     "name": "stdout",
     "output_type": "stream",
     "text": [
      "+---+-----------------------------------------+------------+\n",
      "|id |texto                                    |num_palabras|\n",
      "+---+-----------------------------------------+------------+\n",
      "|1  |Muy buen servicio y atención rápida.     |6           |\n",
      "|2  |Producto defectuoso, no funcionó.        |4           |\n",
      "|3  |Excelente calidad, volvería a comprar.   |5           |\n",
      "|4  |Entrega lenta, pero producto aceptable.  |5           |\n",
      "|5  |El empaque llegó dañado.                 |4           |\n",
      "|6  |Me encantó, lo recomiendo totalmente.    |5           |\n",
      "|7  |No cumplió con mis expectativas.         |5           |\n",
      "|8  |Buen diseño y fácil de usar.             |6           |\n",
      "|9  |Precio demasiado alto para la calidad.   |6           |\n",
      "|10 |Superó mis expectativas, cinco estrellas.|5           |\n",
      "+---+-----------------------------------------+------------+\n",
      "\n",
      "+-------------+\n",
      "|total_resenas|\n",
      "+-------------+\n",
      "|           10|\n",
      "+-------------+\n",
      "\n",
      "+-----------------+\n",
      "|promedio_palabras|\n",
      "+-----------------+\n",
      "|              5.1|\n",
      "+-----------------+\n",
      "\n"
     ]
    }
   ],
   "source": [
    "\n",
    "# Todas las reseñas\n",
    "spark.sql(\"SELECT * FROM reviews\").show(truncate=False)\n",
    "\n",
    "# Total de reseñas\n",
    "spark.sql(\"SELECT COUNT(*) as total_resenas FROM reviews\").show()\n",
    "\n",
    "# Promedio de palabras por reseña\n",
    "spark.sql(\"SELECT AVG(num_palabras) as promedio_palabras FROM reviews\").show()\n"
   ]
  }
 ],
 "metadata": {
  "kernelspec": {
   "display_name": "Python 3",
   "language": "python",
   "name": "python3"
  },
  "language_info": {
   "codemirror_mode": {
    "name": "ipython",
    "version": 3
   },
   "file_extension": ".py",
   "mimetype": "text/x-python",
   "name": "python",
   "nbconvert_exporter": "python",
   "pygments_lexer": "ipython3",
   "version": "3.10.0"
  }
 },
 "nbformat": 4,
 "nbformat_minor": 5
}
