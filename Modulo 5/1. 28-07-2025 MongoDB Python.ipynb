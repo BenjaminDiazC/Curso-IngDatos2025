{
 "cells": [
  {
   "cell_type": "code",
   "id": "initial_id",
   "metadata": {
    "collapsed": true,
    "ExecuteTime": {
     "end_time": "2025-07-29T00:41:00.635955Z",
     "start_time": "2025-07-29T00:40:59.503656Z"
    }
   },
   "source": "import pandas as pd",
   "outputs": [],
   "execution_count": 1
  },
  {
   "metadata": {},
   "cell_type": "code",
   "outputs": [],
   "execution_count": null,
   "source": [
    "from pymongo import MongoClient\n",
    "\n",
    "#Almacenar la conexión a MongoDB en una variable\n",
    "cliente = MongoClient(\"mongodb://localhost:27017/\")\n",
    "\n",
    "#Seleccionar la DB y la colección\n",
    "db = cliente['calidad_datos']\n",
    "coleccion = db['clientes_calidad']\n",
    "\n",
    "#Obtener todos los registros dentro de la tabla y guardarlos como una lsita de diccionarios\n",
    "registros = list(coleccion.find())\n",
    "\n",
    "#Convertir todos los registros a un DF para su tratamiento\n",
    "df = pd.DataFrame(registros)\n"
   ],
   "id": "fac8e13b3ef559fc"
  },
  {
   "metadata": {},
   "cell_type": "code",
   "outputs": [],
   "execution_count": null,
   "source": [
    "# Ver cuantos nulos hay por columna\n",
    "df.isna().sum()"
   ],
   "id": "25346d108b63a15f"
  },
  {
   "metadata": {},
   "cell_type": "code",
   "outputs": [],
   "execution_count": null,
   "source": [
    "#Detectar campos vacios o en blanco que sean solo espacio\n",
    "df[df[\"nomnbre\"].isna() | (df[\"nombre\"].str.strip() == \"\")]"
   ],
   "id": "f266b72f978295f6"
  },
  {
   "metadata": {},
   "cell_type": "code",
   "outputs": [],
   "execution_count": null,
   "source": "df[df[\"email\"].isna() | (df[\"email\"].str.strip() == \"\")]",
   "id": "8cd8b80cb7f55e4c"
  },
  {
   "metadata": {},
   "cell_type": "code",
   "outputs": [],
   "execution_count": null,
   "source": "df[df[\"telefono\"].isna() | (df[\"telefono\"].astype(str).str.strip() == \"\")]",
   "id": "4ba19e928db91215"
  }
 ],
 "metadata": {
  "kernelspec": {
   "display_name": "Python 3",
   "language": "python",
   "name": "python3"
  },
  "language_info": {
   "codemirror_mode": {
    "name": "ipython",
    "version": 2
   },
   "file_extension": ".py",
   "mimetype": "text/x-python",
   "name": "python",
   "nbconvert_exporter": "python",
   "pygments_lexer": "ipython2",
   "version": "2.7.6"
  }
 },
 "nbformat": 4,
 "nbformat_minor": 5
}
