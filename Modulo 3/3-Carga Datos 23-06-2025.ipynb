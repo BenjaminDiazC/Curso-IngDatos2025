{
 "cells": [
  {
   "metadata": {},
   "cell_type": "markdown",
   "source": [
    "\n",
    "# 1) Introducción al manejo de archivos CSV y configuración inicial\n",
    "\n",
    "## Temas a analizar:\n",
    "* Establecer dependencias, importar librerías necesarias\n",
    "* Verificar compatibilidad, mostrar mensajes si las librerías están instaladas\n",
    "* Preparar herramientas necesarias\n",
    "* Documentar"
   ],
   "id": "47f640f7227566b0"
  },
  {
   "cell_type": "code",
   "id": "initial_id",
   "metadata": {
    "collapsed": true,
    "ExecuteTime": {
     "end_time": "2025-06-23T23:42:34.210609Z",
     "start_time": "2025-06-23T23:42:33.070764Z"
    }
   },
   "source": [
    "import pandas as pd\n",
    "import numpy as np\n",
    "import matplotlib.pyplot as plt\n",
    "\n",
    "print(f\"versión instalada de pandas: {pd.__version__}\")\n",
    "print(f\"versión instalada de numpy: {np.__version__}\")\n",
    "print(f\"versión instalada de matplotlib: {plt.matplotlib.__version__}\")"
   ],
   "outputs": [
    {
     "name": "stdout",
     "output_type": "stream",
     "text": [
      "versión instalada de pandas: 2.2.3\n",
      "versión instalada de numpy: 2.2.5\n",
      "versión instalada de matplotlib: 3.10.3\n"
     ]
    }
   ],
   "execution_count": 1
  },
  {
   "metadata": {},
   "cell_type": "markdown",
   "source": [
    "\n",
    "# 2) Leer archivos CSV\n",
    "\n",
    "## Veremos:\n",
    "* Creación de Dfs para generar archivos CSV\n",
    "* Manejo de los diferentes delimitadores\n",
    "* Opciones adicionales\n",
    "* Nombres personalizados"
   ],
   "id": "e58c9ec5f4c12b37"
  },
  {
   "metadata": {
    "ExecuteTime": {
     "end_time": "2025-06-23T23:52:37.940892Z",
     "start_time": "2025-06-23T23:52:37.916241Z"
    }
   },
   "cell_type": "code",
   "source": [
    "#Diccionario de datos generado con datos de prueba para la gestión de archivos CSV\n",
    "datos_ejemplo = {\n",
    "    'Nombre': ['Chuck','Steven','Felipe','Nelson'],\n",
    "    'Edad': [60,70,35,38],\n",
    "    'Ciudad': ['New York','Seattle','Jaraguá','Santiago'],\n",
    "    'Sueldo': [300, 400, 500, 600]\n",
    "}\n",
    "\n",
    "#Creación del DF a partir del diccionario\n",
    "\n",
    "df = pd.DataFrame(datos_ejemplo)\n",
    "df"
   ],
   "id": "3e12b1358d3c2b0f",
   "outputs": [
    {
     "data": {
      "text/plain": [
       "   Nombre  Edad    Ciudad  Sueldo\n",
       "0   Chuck    60  New York     300\n",
       "1  Steven    70   Seattle     400\n",
       "2  Felipe    35   Jaraguá     500\n",
       "3  Nelson    38  Santiago     600"
      ],
      "text/html": [
       "<div>\n",
       "<style scoped>\n",
       "    .dataframe tbody tr th:only-of-type {\n",
       "        vertical-align: middle;\n",
       "    }\n",
       "\n",
       "    .dataframe tbody tr th {\n",
       "        vertical-align: top;\n",
       "    }\n",
       "\n",
       "    .dataframe thead th {\n",
       "        text-align: right;\n",
       "    }\n",
       "</style>\n",
       "<table border=\"1\" class=\"dataframe\">\n",
       "  <thead>\n",
       "    <tr style=\"text-align: right;\">\n",
       "      <th></th>\n",
       "      <th>Nombre</th>\n",
       "      <th>Edad</th>\n",
       "      <th>Ciudad</th>\n",
       "      <th>Sueldo</th>\n",
       "    </tr>\n",
       "  </thead>\n",
       "  <tbody>\n",
       "    <tr>\n",
       "      <th>0</th>\n",
       "      <td>Chuck</td>\n",
       "      <td>60</td>\n",
       "      <td>New York</td>\n",
       "      <td>300</td>\n",
       "    </tr>\n",
       "    <tr>\n",
       "      <th>1</th>\n",
       "      <td>Steven</td>\n",
       "      <td>70</td>\n",
       "      <td>Seattle</td>\n",
       "      <td>400</td>\n",
       "    </tr>\n",
       "    <tr>\n",
       "      <th>2</th>\n",
       "      <td>Felipe</td>\n",
       "      <td>35</td>\n",
       "      <td>Jaraguá</td>\n",
       "      <td>500</td>\n",
       "    </tr>\n",
       "    <tr>\n",
       "      <th>3</th>\n",
       "      <td>Nelson</td>\n",
       "      <td>38</td>\n",
       "      <td>Santiago</td>\n",
       "      <td>600</td>\n",
       "    </tr>\n",
       "  </tbody>\n",
       "</table>\n",
       "</div>"
      ]
     },
     "execution_count": 7,
     "metadata": {},
     "output_type": "execute_result"
    }
   ],
   "execution_count": 7
  },
  {
   "metadata": {},
   "cell_type": "markdown",
   "source": "",
   "id": "2708726196840fa4"
  },
  {
   "metadata": {
    "ExecuteTime": {
     "end_time": "2025-06-23T23:57:32.635511Z",
     "start_time": "2025-06-23T23:57:32.606699Z"
    }
   },
   "cell_type": "code",
   "source": [
    "#Creación de un archivo CSV directo en la raíz del proyecto\n",
    "#Configuración de INDEX - No inclusión de los indices del df en el CSV\n",
    "df.to_csv('datos_ejemplo.csv', index=False)\n",
    "\n",
    "#Creación de un CSV sin encabezado\n",
    "#Configuración de HEADER - Usa la primera fila como nomre de columnas, por defecto está en 0\n",
    "#HEADER NONE - No genera fila de encabezado, se puede asignar de forma automática y personalizada\n",
    "df_sin_header = pd.read_csv('datos_ejemplo.csv', header=None)\n",
    "print(\"Extracción correcta de datos desde el CSV pero sin la cabecera de los datos (header)\\n\")\n",
    "df_sin_header"
   ],
   "id": "24abdeefc8941567",
   "outputs": [
    {
     "name": "stdout",
     "output_type": "stream",
     "text": [
      "Extracción correcta de datos desde el CSV pero sin la cabecera de los datos (headder)\n",
      "\n"
     ]
    },
    {
     "data": {
      "text/plain": [
       "        0     1         2       3\n",
       "0  Nombre  Edad    Ciudad  Sueldo\n",
       "1   Chuck    60  New York     300\n",
       "2  Steven    70   Seattle     400\n",
       "3  Felipe    35   Jaraguá     500\n",
       "4  Nelson    38  Santiago     600"
      ],
      "text/html": [
       "<div>\n",
       "<style scoped>\n",
       "    .dataframe tbody tr th:only-of-type {\n",
       "        vertical-align: middle;\n",
       "    }\n",
       "\n",
       "    .dataframe tbody tr th {\n",
       "        vertical-align: top;\n",
       "    }\n",
       "\n",
       "    .dataframe thead th {\n",
       "        text-align: right;\n",
       "    }\n",
       "</style>\n",
       "<table border=\"1\" class=\"dataframe\">\n",
       "  <thead>\n",
       "    <tr style=\"text-align: right;\">\n",
       "      <th></th>\n",
       "      <th>0</th>\n",
       "      <th>1</th>\n",
       "      <th>2</th>\n",
       "      <th>3</th>\n",
       "    </tr>\n",
       "  </thead>\n",
       "  <tbody>\n",
       "    <tr>\n",
       "      <th>0</th>\n",
       "      <td>Nombre</td>\n",
       "      <td>Edad</td>\n",
       "      <td>Ciudad</td>\n",
       "      <td>Sueldo</td>\n",
       "    </tr>\n",
       "    <tr>\n",
       "      <th>1</th>\n",
       "      <td>Chuck</td>\n",
       "      <td>60</td>\n",
       "      <td>New York</td>\n",
       "      <td>300</td>\n",
       "    </tr>\n",
       "    <tr>\n",
       "      <th>2</th>\n",
       "      <td>Steven</td>\n",
       "      <td>70</td>\n",
       "      <td>Seattle</td>\n",
       "      <td>400</td>\n",
       "    </tr>\n",
       "    <tr>\n",
       "      <th>3</th>\n",
       "      <td>Felipe</td>\n",
       "      <td>35</td>\n",
       "      <td>Jaraguá</td>\n",
       "      <td>500</td>\n",
       "    </tr>\n",
       "    <tr>\n",
       "      <th>4</th>\n",
       "      <td>Nelson</td>\n",
       "      <td>38</td>\n",
       "      <td>Santiago</td>\n",
       "      <td>600</td>\n",
       "    </tr>\n",
       "  </tbody>\n",
       "</table>\n",
       "</div>"
      ]
     },
     "execution_count": 10,
     "metadata": {},
     "output_type": "execute_result"
    }
   ],
   "execution_count": 10
  },
  {
   "metadata": {
    "ExecuteTime": {
     "end_time": "2025-06-24T00:02:34.166892Z",
     "start_time": "2025-06-24T00:02:34.152392Z"
    }
   },
   "cell_type": "code",
   "source": [
    "#Asignación personalizada de nombres a las columnas\n",
    "df_nombres_personalizados = pd.read_csv('datos_ejemplo.csv', header=None, names=['Persona', 'Años', 'Ubicación', 'Salario'])\n",
    "df_nombres_personalizados.head()\n"
   ],
   "id": "20c022580afeefd0",
   "outputs": [
    {
     "data": {
      "text/plain": [
       "  Persona  Años Ubicación Salario\n",
       "0  Nombre  Edad    Ciudad  Sueldo\n",
       "1   Chuck    60  New York     300\n",
       "2  Steven    70   Seattle     400\n",
       "3  Felipe    35   Jaraguá     500\n",
       "4  Nelson    38  Santiago     600"
      ],
      "text/html": [
       "<div>\n",
       "<style scoped>\n",
       "    .dataframe tbody tr th:only-of-type {\n",
       "        vertical-align: middle;\n",
       "    }\n",
       "\n",
       "    .dataframe tbody tr th {\n",
       "        vertical-align: top;\n",
       "    }\n",
       "\n",
       "    .dataframe thead th {\n",
       "        text-align: right;\n",
       "    }\n",
       "</style>\n",
       "<table border=\"1\" class=\"dataframe\">\n",
       "  <thead>\n",
       "    <tr style=\"text-align: right;\">\n",
       "      <th></th>\n",
       "      <th>Persona</th>\n",
       "      <th>Años</th>\n",
       "      <th>Ubicación</th>\n",
       "      <th>Salario</th>\n",
       "    </tr>\n",
       "  </thead>\n",
       "  <tbody>\n",
       "    <tr>\n",
       "      <th>0</th>\n",
       "      <td>Nombre</td>\n",
       "      <td>Edad</td>\n",
       "      <td>Ciudad</td>\n",
       "      <td>Sueldo</td>\n",
       "    </tr>\n",
       "    <tr>\n",
       "      <th>1</th>\n",
       "      <td>Chuck</td>\n",
       "      <td>60</td>\n",
       "      <td>New York</td>\n",
       "      <td>300</td>\n",
       "    </tr>\n",
       "    <tr>\n",
       "      <th>2</th>\n",
       "      <td>Steven</td>\n",
       "      <td>70</td>\n",
       "      <td>Seattle</td>\n",
       "      <td>400</td>\n",
       "    </tr>\n",
       "    <tr>\n",
       "      <th>3</th>\n",
       "      <td>Felipe</td>\n",
       "      <td>35</td>\n",
       "      <td>Jaraguá</td>\n",
       "      <td>500</td>\n",
       "    </tr>\n",
       "    <tr>\n",
       "      <th>4</th>\n",
       "      <td>Nelson</td>\n",
       "      <td>38</td>\n",
       "      <td>Santiago</td>\n",
       "      <td>600</td>\n",
       "    </tr>\n",
       "  </tbody>\n",
       "</table>\n",
       "</div>"
      ]
     },
     "execution_count": 12,
     "metadata": {},
     "output_type": "execute_result"
    }
   ],
   "execution_count": 12
  },
  {
   "metadata": {
    "ExecuteTime": {
     "end_time": "2025-06-24T00:15:43.792546Z",
     "start_time": "2025-06-24T00:15:43.764Z"
    }
   },
   "cell_type": "code",
   "source": [
    "#Especificar valores nulos personalizados\n",
    "datos_con_nulos = {\n",
    "    'Nombre': ['Juan', 'Marta', '?', 'Ana'],\n",
    "    'Edad': [60,70,'N/A',38],\n",
    "    'Ciudad': ['Santiago','Valdivia','Coquimbo','?'],\n",
    "    'Sueldo': [300, 400, 500, 'N/A']\n",
    "}\n",
    "\n",
    "#Crear DF del diccionario\n",
    "df_nulos = pd.DataFrame(datos_con_nulos)\n",
    "#Crear CSV a partir del df\n",
    "df_nulos.to_csv('datos_nulos.csv', index=False)\n",
    "\n",
    "df_nulos_procesados = pd.read_csv('datos_nulos.csv', na_values=['?','N/A'])\n",
    "print(df_nulos_procesados.head())\n",
    "print(\"Valores nulos encontrados:\\n\")\n",
    "print(df_nulos_procesados.isnull().sum())"
   ],
   "id": "a6cebfa28fed598c",
   "outputs": [
    {
     "name": "stdout",
     "output_type": "stream",
     "text": [
      "  Nombre  Edad    Ciudad  Sueldo\n",
      "0   Juan  60.0  Santiago   300.0\n",
      "1  Marta  70.0  Valdivia   400.0\n",
      "2    NaN   NaN  Coquimbo   500.0\n",
      "3    Ana  38.0       NaN     NaN\n",
      "Valores nulos encontrados:\n",
      "\n",
      "Nombre    1\n",
      "Edad      1\n",
      "Ciudad    1\n",
      "Sueldo    1\n",
      "dtype: int64\n"
     ]
    }
   ],
   "execution_count": 15
  },
  {
   "metadata": {},
   "cell_type": "markdown",
   "source": [
    "\n",
    "# 3) Escribir en archivos CSV\n",
    "\n",
    "## Acciones a realizar:\n",
    "* Personalizar exportación\n",
    "* Guardar un df en archivos CSV\n",
    "* Preparar el Df para la exportación"
   ],
   "id": "b072e107943f82dd"
  },
  {
   "metadata": {
    "ExecuteTime": {
     "end_time": "2025-06-24T00:24:46.382883Z",
     "start_time": "2025-06-24T00:24:46.370592Z"
    }
   },
   "cell_type": "code",
   "source": [
    "#Creando nuevo df para la exportación\n",
    "df_para_exportar = df.copy()\n",
    "\n",
    "#Exportar de manera bien simple\n",
    "df_para_exportar.to_csv('datos_para_exportar.csv', index=False)\n",
    "print('Archivo creado exitosamente')\n",
    "\n",
    "df_verificacion=pd.read_csv('datos_para_exportar.csv')\n",
    "print(\"\\n contenido del archivo exportado:\")\n",
    "print(df_verificacion)"
   ],
   "id": "bc0cd2d540f1e239",
   "outputs": [
    {
     "name": "stdout",
     "output_type": "stream",
     "text": [
      "Archivo creado exitosamente\n",
      "\n",
      " contenido del archivo exportado:\n",
      "   Nombre  Edad    Ciudad  Sueldo\n",
      "0   Chuck    60  New York     300\n",
      "1  Steven    70   Seattle     400\n",
      "2  Felipe    35   Jaraguá     500\n",
      "3  Nelson    38  Santiago     600\n"
     ]
    }
   ],
   "execution_count": 16
  },
  {
   "metadata": {
    "ExecuteTime": {
     "end_time": "2025-06-24T00:30:50.521015Z",
     "start_time": "2025-06-24T00:30:50.504554Z"
    }
   },
   "cell_type": "code",
   "source": [
    "#Personalizar la exportación de datos a CSV: Cambiar el delimitador de coma (,) a punto y coma (;)\n",
    "df_para_exportar.to_csv('4_datos_puntoycoma.csv', index=False, sep =';')\n",
    "print('Archivo con delimitador \";\" creado exitosamente\\n')\n",
    "\n",
    "#Personalizar la exportación de datos a CSV: Cambiar el tipo de codificación\n",
    "df_para_exportar.to_csv('5_datos_codificacion.csv', index=False, encoding='utf-8')\n",
    "print('Archivo con codificación personalizada creado exitosamente\\n')\n",
    "\n",
    "\n",
    "df_para_exportar.to_csv('6_datos_sinheaders.csv', index=False, header=False)\n",
    "print('Archivo con omisión de headers creado exitosamente\\n')"
   ],
   "id": "1366750f1ee321f2",
   "outputs": [
    {
     "name": "stdout",
     "output_type": "stream",
     "text": [
      "Archivo con delimitador \";\" creado exitosamente\n",
      "\n",
      "Archivo con codificación personalizada creado exitosamente\n",
      "\n",
      "Archivo con omisión de headers creado exitosamente\n",
      "\n"
     ]
    }
   ],
   "execution_count": 19
  },
  {
   "metadata": {
    "ExecuteTime": {
     "end_time": "2025-06-24T00:33:41.880335Z",
     "start_time": "2025-06-24T00:33:41.867383Z"
    }
   },
   "cell_type": "code",
   "source": [
    "#Ejemplo completo de personalización en la exportación de datos a CSV\n",
    "df_para_exportar.to_csv('7_datos_personalizados.csv', index=False, header=False, sep=';',encoding='utf-8')\n",
    "print('Archivo personalizado creado exitosamente\\n')\n",
    "print(\"-Sin indice\\n-Delimitador ;\\n-Codificación UTF-8\\n-Sin Encabezados\")"
   ],
   "id": "c7b12f963df2ab8c",
   "outputs": [
    {
     "name": "stdout",
     "output_type": "stream",
     "text": [
      "Archivo personalizado creado exitosamente\n",
      "\n",
      "-Sin indice\n",
      "-Delimitador ;\n",
      "-Codificación UTF-8\n",
      "-Sin Encabezados\n"
     ]
    }
   ],
   "execution_count": 20
  },
  {
   "metadata": {},
   "cell_type": "markdown",
   "source": "4) Lectura de datos en EXCEL",
   "id": "decc583e3fe3b283"
  },
  {
   "metadata": {
    "ExecuteTime": {
     "end_time": "2025-06-24T00:37:28.651044Z",
     "start_time": "2025-06-24T00:37:28.429490Z"
    }
   },
   "cell_type": "code",
   "source": [
    "try:\n",
    "    import openpyxl\n",
    "    print(\"Libreria OpenPyXL está instalada\")\n",
    "except ImportError:\n",
    "    print(\"Libreria OpenPyXL NO está instalada\")"
   ],
   "id": "ce288248ec5d89be",
   "outputs": [
    {
     "name": "stdout",
     "output_type": "stream",
     "text": [
      "Libreria OpenPyXL está instalada\n"
     ]
    }
   ],
   "execution_count": 22
  },
  {
   "metadata": {
    "ExecuteTime": {
     "end_time": "2025-06-24T00:42:31.452541Z",
     "start_time": "2025-06-24T00:42:31.392688Z"
    }
   },
   "cell_type": "code",
   "source": [
    "df_excel_ejemplo = pd.DataFrame({\n",
    "    'Producto' : ['Laptop','Mouse','Teclado','Monitor'],\n",
    "    'Precio' : [800,25,60,300],\n",
    "    'Stock' : [10,20,30,40],\n",
    "    'Categoría' : ['Tecnología','Accesorios','Accesorios','Tecnología']\n",
    "})\n",
    "\n",
    "df_excel_ejemplo.to_excel('8_productos.xlsx',index=False)\n",
    "\n",
    "df_desde_excel=pd.read_excel('8_productos.xlsx')\n",
    "print(\"Datos leidos desde Excel de forma exitosa:\\n\")\n",
    "print(df_desde_excel)"
   ],
   "id": "7d1a4df736b705a",
   "outputs": [
    {
     "name": "stdout",
     "output_type": "stream",
     "text": [
      "Datos leidos desde Excel de forma exitosa:\n",
      "\n",
      "  Producto  Precio  Stock   Categoría\n",
      "0   Laptop     800     10  Tecnología\n",
      "1    Mouse      25     20  Accesorios\n",
      "2  Teclado      60     30  Accesorios\n",
      "3  Monitor     300     40  Tecnología\n"
     ]
    }
   ],
   "execution_count": 23
  },
  {
   "metadata": {
    "ExecuteTime": {
     "end_time": "2025-06-24T00:49:11.381252Z",
     "start_time": "2025-06-24T00:49:11.337165Z"
    }
   },
   "cell_type": "code",
   "source": [
    "#Trabajar con múltiples hojas del archivo EXCEL\n",
    "with pd.ExcelWriter('9_inventario_multiple.xlsx') as writer:\n",
    "    #Creación primera HOJA\n",
    "    df_productos = pd.DataFrame({\n",
    "        'ID' : [1,2,3],\n",
    "        'Nombre': ['Laptop','Mouse','Teclado']\n",
    "    })\n",
    "    df_productos.to_excel(writer, sheet_name='Productos', index=False)\n",
    "\n",
    "    #Creación segunda HOJA\n",
    "    df_ventas = pd.DataFrame({\n",
    "        'Producto_ID' : [1,2,3],\n",
    "        'Fecha' : ['20-01-2025','20-01-2025','20-01-2025'],\n",
    "        'Cantidad' : [6,10,15]\n",
    "    })\n",
    "    df_ventas.to_excel(writer, sheet_name='Ventas', index=False)\n",
    "\n",
    "print(\"Excel con multiples hojas creado con éxito\")"
   ],
   "id": "71bcc9bee8fa2d01",
   "outputs": [
    {
     "name": "stdout",
     "output_type": "stream",
     "text": [
      "Excel con multiples hojas creado con éxito\n"
     ]
    }
   ],
   "execution_count": 24
  },
  {
   "metadata": {
    "ExecuteTime": {
     "end_time": "2025-06-24T01:13:53.885328Z",
     "start_time": "2025-06-24T01:13:53.858559Z"
    }
   },
   "cell_type": "code",
   "source": [
    "#Leer un Excel, una hoja especifica\n",
    "df_productos_leidos = pd.read_excel('9_inventario_multiple.xlsx', sheet_name='Productos',index_col=0)\n",
    "print(f\"Datos de hoja productos:\\n\")\n",
    "print(df_productos_leidos.head())"
   ],
   "id": "c4fa6fb04c72ae7f",
   "outputs": [
    {
     "name": "stdout",
     "output_type": "stream",
     "text": [
      "Datos de hoja productos:\n",
      "\n",
      "     Nombre\n",
      "ID         \n",
      "1    Laptop\n",
      "2     Mouse\n",
      "3   Teclado\n"
     ]
    }
   ],
   "execution_count": 27
  },
  {
   "metadata": {
    "ExecuteTime": {
     "end_time": "2025-06-24T01:15:37.373221Z",
     "start_time": "2025-06-24T01:15:37.344059Z"
    }
   },
   "cell_type": "code",
   "source": [
    "#Leer multiples hojas de un Excel\n",
    "df_dict = pd.read_excel('9_inventario_multiple.xlsx', sheet_name=['Productos', 'Ventas'])\n",
    "print(\"Datos del Excel con 2 hojas:\\n\")\n",
    "print(df_dict['Productos'])\n",
    "print(\"\\n\",df_dict['Ventas'])"
   ],
   "id": "c83d353237f266ce",
   "outputs": [
    {
     "name": "stdout",
     "output_type": "stream",
     "text": [
      "Datos del Excel con 2 hojas:\n",
      "\n",
      "   ID   Nombre\n",
      "0   1   Laptop\n",
      "1   2    Mouse\n",
      "2   3  Teclado\n",
      "\n",
      "    Producto_ID       Fecha  Cantidad\n",
      "0            1  20-01-2025         6\n",
      "1            2  20-01-2025        10\n",
      "2            3  20-01-2025        15\n"
     ]
    }
   ],
   "execution_count": 28
  },
  {
   "metadata": {
    "ExecuteTime": {
     "end_time": "2025-06-24T01:17:18.085125Z",
     "start_time": "2025-06-24T01:17:18.058542Z"
    }
   },
   "cell_type": "code",
   "source": [
    "df_todas_hojas = pd.read_excel('9_inventario_multiple.xlsx',sheet_name=None)\n",
    "print(f\"Nombres de todas las hojas:{list(df_todas_hojas.keys())}\")"
   ],
   "id": "1970420030b461a0",
   "outputs": [
    {
     "name": "stdout",
     "output_type": "stream",
     "text": [
      "Nombres de todas las hojas:['Productos', 'Ventas']\n"
     ]
    }
   ],
   "execution_count": 30
  },
  {
   "metadata": {},
   "cell_type": "markdown",
   "source": "# ACTIVIDAD 1",
   "id": "8ffd0e8c370c5634"
  },
  {
   "metadata": {
    "ExecuteTime": {
     "end_time": "2025-06-24T01:30:44.905358Z",
     "start_time": "2025-06-24T01:30:44.894691Z"
    }
   },
   "cell_type": "code",
   "source": [
    "#Leo el csv y transformo a df\n",
    "df = pd.read_csv('medallas 18-06-25.csv')\n",
    "df.head()"
   ],
   "id": "7c0e72d3b14d1110",
   "outputs": [
    {
     "data": {
      "text/plain": [
       "    Oro  Plata  Bronce  Total        Pais\n",
       "0   NaN    1.0     2.0      3   Argentina\n",
       "1   NaN    2.0     2.0      4     Armenia\n",
       "2  17.0    7.0    22.0     46   Australia\n",
       "3   1.0    1.0     5.0      7     Austria\n",
       "4   NaN    3.0     4.0      7  Azerbaijan"
      ],
      "text/html": [
       "<div>\n",
       "<style scoped>\n",
       "    .dataframe tbody tr th:only-of-type {\n",
       "        vertical-align: middle;\n",
       "    }\n",
       "\n",
       "    .dataframe tbody tr th {\n",
       "        vertical-align: top;\n",
       "    }\n",
       "\n",
       "    .dataframe thead th {\n",
       "        text-align: right;\n",
       "    }\n",
       "</style>\n",
       "<table border=\"1\" class=\"dataframe\">\n",
       "  <thead>\n",
       "    <tr style=\"text-align: right;\">\n",
       "      <th></th>\n",
       "      <th>Oro</th>\n",
       "      <th>Plata</th>\n",
       "      <th>Bronce</th>\n",
       "      <th>Total</th>\n",
       "      <th>Pais</th>\n",
       "    </tr>\n",
       "  </thead>\n",
       "  <tbody>\n",
       "    <tr>\n",
       "      <th>0</th>\n",
       "      <td>NaN</td>\n",
       "      <td>1.0</td>\n",
       "      <td>2.0</td>\n",
       "      <td>3</td>\n",
       "      <td>Argentina</td>\n",
       "    </tr>\n",
       "    <tr>\n",
       "      <th>1</th>\n",
       "      <td>NaN</td>\n",
       "      <td>2.0</td>\n",
       "      <td>2.0</td>\n",
       "      <td>4</td>\n",
       "      <td>Armenia</td>\n",
       "    </tr>\n",
       "    <tr>\n",
       "      <th>2</th>\n",
       "      <td>17.0</td>\n",
       "      <td>7.0</td>\n",
       "      <td>22.0</td>\n",
       "      <td>46</td>\n",
       "      <td>Australia</td>\n",
       "    </tr>\n",
       "    <tr>\n",
       "      <th>3</th>\n",
       "      <td>1.0</td>\n",
       "      <td>1.0</td>\n",
       "      <td>5.0</td>\n",
       "      <td>7</td>\n",
       "      <td>Austria</td>\n",
       "    </tr>\n",
       "    <tr>\n",
       "      <th>4</th>\n",
       "      <td>NaN</td>\n",
       "      <td>3.0</td>\n",
       "      <td>4.0</td>\n",
       "      <td>7</td>\n",
       "      <td>Azerbaijan</td>\n",
       "    </tr>\n",
       "  </tbody>\n",
       "</table>\n",
       "</div>"
      ]
     },
     "execution_count": 35,
     "metadata": {},
     "output_type": "execute_result"
    }
   ],
   "execution_count": 35
  },
  {
   "metadata": {
    "ExecuteTime": {
     "end_time": "2025-06-24T01:30:47.376058Z",
     "start_time": "2025-06-24T01:30:47.363398Z"
    }
   },
   "cell_type": "code",
   "source": [
    "#Información general del df\n",
    "df.info()"
   ],
   "id": "1ce4c0ecaaead127",
   "outputs": [
    {
     "name": "stdout",
     "output_type": "stream",
     "text": [
      "<class 'pandas.core.frame.DataFrame'>\n",
      "RangeIndex: 93 entries, 0 to 92\n",
      "Data columns (total 5 columns):\n",
      " #   Column  Non-Null Count  Dtype  \n",
      "---  ------  --------------  -----  \n",
      " 0   Oro     65 non-null     float64\n",
      " 1   Plata   69 non-null     float64\n",
      " 2   Bronce  76 non-null     float64\n",
      " 3   Total   93 non-null     int64  \n",
      " 4   Pais    93 non-null     object \n",
      "dtypes: float64(3), int64(1), object(1)\n",
      "memory usage: 3.8+ KB\n"
     ]
    }
   ],
   "execution_count": 36
  },
  {
   "metadata": {
    "ExecuteTime": {
     "end_time": "2025-06-24T01:30:48.693354Z",
     "start_time": "2025-06-24T01:30:48.682213Z"
    }
   },
   "cell_type": "code",
   "source": [
    "#Renombro columnas del df\n",
    "df.columns = [\"Medallas Oro\",\"Medallas Plata\",\"Medallas Bronce\",\"Total Medallas\",\"País\"]\n",
    "df.head()"
   ],
   "id": "bb05dea277f31567",
   "outputs": [
    {
     "data": {
      "text/plain": [
       "   Medallas Oro  Medallas Plata  Medallas Bronce  Total Medallas        País\n",
       "0           NaN             1.0              2.0               3   Argentina\n",
       "1           NaN             2.0              2.0               4     Armenia\n",
       "2          17.0             7.0             22.0              46   Australia\n",
       "3           1.0             1.0              5.0               7     Austria\n",
       "4           NaN             3.0              4.0               7  Azerbaijan"
      ],
      "text/html": [
       "<div>\n",
       "<style scoped>\n",
       "    .dataframe tbody tr th:only-of-type {\n",
       "        vertical-align: middle;\n",
       "    }\n",
       "\n",
       "    .dataframe tbody tr th {\n",
       "        vertical-align: top;\n",
       "    }\n",
       "\n",
       "    .dataframe thead th {\n",
       "        text-align: right;\n",
       "    }\n",
       "</style>\n",
       "<table border=\"1\" class=\"dataframe\">\n",
       "  <thead>\n",
       "    <tr style=\"text-align: right;\">\n",
       "      <th></th>\n",
       "      <th>Medallas Oro</th>\n",
       "      <th>Medallas Plata</th>\n",
       "      <th>Medallas Bronce</th>\n",
       "      <th>Total Medallas</th>\n",
       "      <th>País</th>\n",
       "    </tr>\n",
       "  </thead>\n",
       "  <tbody>\n",
       "    <tr>\n",
       "      <th>0</th>\n",
       "      <td>NaN</td>\n",
       "      <td>1.0</td>\n",
       "      <td>2.0</td>\n",
       "      <td>3</td>\n",
       "      <td>Argentina</td>\n",
       "    </tr>\n",
       "    <tr>\n",
       "      <th>1</th>\n",
       "      <td>NaN</td>\n",
       "      <td>2.0</td>\n",
       "      <td>2.0</td>\n",
       "      <td>4</td>\n",
       "      <td>Armenia</td>\n",
       "    </tr>\n",
       "    <tr>\n",
       "      <th>2</th>\n",
       "      <td>17.0</td>\n",
       "      <td>7.0</td>\n",
       "      <td>22.0</td>\n",
       "      <td>46</td>\n",
       "      <td>Australia</td>\n",
       "    </tr>\n",
       "    <tr>\n",
       "      <th>3</th>\n",
       "      <td>1.0</td>\n",
       "      <td>1.0</td>\n",
       "      <td>5.0</td>\n",
       "      <td>7</td>\n",
       "      <td>Austria</td>\n",
       "    </tr>\n",
       "    <tr>\n",
       "      <th>4</th>\n",
       "      <td>NaN</td>\n",
       "      <td>3.0</td>\n",
       "      <td>4.0</td>\n",
       "      <td>7</td>\n",
       "      <td>Azerbaijan</td>\n",
       "    </tr>\n",
       "  </tbody>\n",
       "</table>\n",
       "</div>"
      ]
     },
     "execution_count": 37,
     "metadata": {},
     "output_type": "execute_result"
    }
   ],
   "execution_count": 37
  },
  {
   "metadata": {
    "ExecuteTime": {
     "end_time": "2025-06-24T01:32:12.379510Z",
     "start_time": "2025-06-24T01:32:12.367310Z"
    }
   },
   "cell_type": "code",
   "source": [
    "#Cuento cantidad de nulos por columna\n",
    "df.isnull().sum()"
   ],
   "id": "58b63abad164f637",
   "outputs": [
    {
     "data": {
      "text/plain": [
       "Medallas Oro       28\n",
       "Medallas Plata     24\n",
       "Medallas Bronce    17\n",
       "Total Medallas      0\n",
       "País                0\n",
       "dtype: int64"
      ]
     },
     "execution_count": 38,
     "metadata": {},
     "output_type": "execute_result"
    }
   ],
   "execution_count": 38
  },
  {
   "metadata": {
    "ExecuteTime": {
     "end_time": "2025-06-24T01:33:16.556797Z",
     "start_time": "2025-06-24T01:33:16.542084Z"
    }
   },
   "cell_type": "code",
   "source": [
    "#Reemplazo nulls por 0\n",
    "df.fillna(0,inplace=True)\n",
    "df.head()"
   ],
   "id": "18a23dbf2129a59c",
   "outputs": [
    {
     "data": {
      "text/plain": [
       "   Medallas Oro  Medallas Plata  Medallas Bronce  Total Medallas        País\n",
       "0           0.0             1.0              2.0               3   Argentina\n",
       "1           0.0             2.0              2.0               4     Armenia\n",
       "2          17.0             7.0             22.0              46   Australia\n",
       "3           1.0             1.0              5.0               7     Austria\n",
       "4           0.0             3.0              4.0               7  Azerbaijan"
      ],
      "text/html": [
       "<div>\n",
       "<style scoped>\n",
       "    .dataframe tbody tr th:only-of-type {\n",
       "        vertical-align: middle;\n",
       "    }\n",
       "\n",
       "    .dataframe tbody tr th {\n",
       "        vertical-align: top;\n",
       "    }\n",
       "\n",
       "    .dataframe thead th {\n",
       "        text-align: right;\n",
       "    }\n",
       "</style>\n",
       "<table border=\"1\" class=\"dataframe\">\n",
       "  <thead>\n",
       "    <tr style=\"text-align: right;\">\n",
       "      <th></th>\n",
       "      <th>Medallas Oro</th>\n",
       "      <th>Medallas Plata</th>\n",
       "      <th>Medallas Bronce</th>\n",
       "      <th>Total Medallas</th>\n",
       "      <th>País</th>\n",
       "    </tr>\n",
       "  </thead>\n",
       "  <tbody>\n",
       "    <tr>\n",
       "      <th>0</th>\n",
       "      <td>0.0</td>\n",
       "      <td>1.0</td>\n",
       "      <td>2.0</td>\n",
       "      <td>3</td>\n",
       "      <td>Argentina</td>\n",
       "    </tr>\n",
       "    <tr>\n",
       "      <th>1</th>\n",
       "      <td>0.0</td>\n",
       "      <td>2.0</td>\n",
       "      <td>2.0</td>\n",
       "      <td>4</td>\n",
       "      <td>Armenia</td>\n",
       "    </tr>\n",
       "    <tr>\n",
       "      <th>2</th>\n",
       "      <td>17.0</td>\n",
       "      <td>7.0</td>\n",
       "      <td>22.0</td>\n",
       "      <td>46</td>\n",
       "      <td>Australia</td>\n",
       "    </tr>\n",
       "    <tr>\n",
       "      <th>3</th>\n",
       "      <td>1.0</td>\n",
       "      <td>1.0</td>\n",
       "      <td>5.0</td>\n",
       "      <td>7</td>\n",
       "      <td>Austria</td>\n",
       "    </tr>\n",
       "    <tr>\n",
       "      <th>4</th>\n",
       "      <td>0.0</td>\n",
       "      <td>3.0</td>\n",
       "      <td>4.0</td>\n",
       "      <td>7</td>\n",
       "      <td>Azerbaijan</td>\n",
       "    </tr>\n",
       "  </tbody>\n",
       "</table>\n",
       "</div>"
      ]
     },
     "execution_count": 39,
     "metadata": {},
     "output_type": "execute_result"
    }
   ],
   "execution_count": 39
  },
  {
   "metadata": {
    "ExecuteTime": {
     "end_time": "2025-06-24T01:34:46.233991Z",
     "start_time": "2025-06-24T01:34:46.221011Z"
    }
   },
   "cell_type": "code",
   "source": [
    "#Paso df a un csv nuevo\n",
    "df.to_csv('Act_medallas23-06-25.csv',index=False)"
   ],
   "id": "547249f4bc4a1169",
   "outputs": [],
   "execution_count": 40
  },
  {
   "metadata": {},
   "cell_type": "markdown",
   "source": "# ACTIVIDAD 2",
   "id": "ecb8caa8a1230ac1"
  },
  {
   "metadata": {
    "ExecuteTime": {
     "end_time": "2025-06-24T02:03:24.941384Z",
     "start_time": "2025-06-24T02:03:24.102035Z"
    }
   },
   "cell_type": "code",
   "source": [
    "df = pd.read_html('https://en.wikipedia.org/wiki/List_of_countries_and_dependencies_by_population')\n",
    "df=df[0]"
   ],
   "id": "6f8b1e29fd3c3535",
   "outputs": [
    {
     "data": {
      "text/plain": [
       "                                Location  Population % of world         Date  \\\n",
       "0                                  World  8232000000       100%  13 Jun 2025   \n",
       "1                                  India  1413324000      17.3%   1 Mar 2025   \n",
       "2                                  China  1408280000      17.2%  31 Dec 2024   \n",
       "3                          United States   340110988       4.2%   1 Jul 2024   \n",
       "4                              Indonesia   282477584       3.5%  30 Jun 2024   \n",
       "..                                   ...         ...        ...          ...   \n",
       "235                   Niue (New Zealand)        1681         0%  11 Nov 2022   \n",
       "236                Tokelau (New Zealand)        1647         0%   1 Jan 2019   \n",
       "237                         Vatican City         882         0%  31 Dec 2024   \n",
       "238  Cocos (Keeling) Islands (Australia)         593         0%  30 Jun 2020   \n",
       "239                Pitcairn Islands (UK)          35         0%   1 Jul 2023   \n",
       "\n",
       "    Source (official or from the United Nations) Notes  \n",
       "0                            UN projection[1][3]   NaN  \n",
       "1                         Official projection[4]   [b]  \n",
       "2                           Official estimate[5]   [c]  \n",
       "3                           Official estimate[6]   [d]  \n",
       "4                  National annual projection[7]   NaN  \n",
       "..                                           ...   ...  \n",
       "235                             2022 Census[246]   NaN  \n",
       "236                             2019 Census[247]   NaN  \n",
       "237                         Official figure[248]  [ah]  \n",
       "238                             2021 Census[249]   NaN  \n",
       "239                       Official estimate[250]   NaN  \n",
       "\n",
       "[240 rows x 6 columns]"
      ],
      "text/html": [
       "<div>\n",
       "<style scoped>\n",
       "    .dataframe tbody tr th:only-of-type {\n",
       "        vertical-align: middle;\n",
       "    }\n",
       "\n",
       "    .dataframe tbody tr th {\n",
       "        vertical-align: top;\n",
       "    }\n",
       "\n",
       "    .dataframe thead th {\n",
       "        text-align: right;\n",
       "    }\n",
       "</style>\n",
       "<table border=\"1\" class=\"dataframe\">\n",
       "  <thead>\n",
       "    <tr style=\"text-align: right;\">\n",
       "      <th></th>\n",
       "      <th>Location</th>\n",
       "      <th>Population</th>\n",
       "      <th>% of world</th>\n",
       "      <th>Date</th>\n",
       "      <th>Source (official or from the United Nations)</th>\n",
       "      <th>Notes</th>\n",
       "    </tr>\n",
       "  </thead>\n",
       "  <tbody>\n",
       "    <tr>\n",
       "      <th>0</th>\n",
       "      <td>World</td>\n",
       "      <td>8232000000</td>\n",
       "      <td>100%</td>\n",
       "      <td>13 Jun 2025</td>\n",
       "      <td>UN projection[1][3]</td>\n",
       "      <td>NaN</td>\n",
       "    </tr>\n",
       "    <tr>\n",
       "      <th>1</th>\n",
       "      <td>India</td>\n",
       "      <td>1413324000</td>\n",
       "      <td>17.3%</td>\n",
       "      <td>1 Mar 2025</td>\n",
       "      <td>Official projection[4]</td>\n",
       "      <td>[b]</td>\n",
       "    </tr>\n",
       "    <tr>\n",
       "      <th>2</th>\n",
       "      <td>China</td>\n",
       "      <td>1408280000</td>\n",
       "      <td>17.2%</td>\n",
       "      <td>31 Dec 2024</td>\n",
       "      <td>Official estimate[5]</td>\n",
       "      <td>[c]</td>\n",
       "    </tr>\n",
       "    <tr>\n",
       "      <th>3</th>\n",
       "      <td>United States</td>\n",
       "      <td>340110988</td>\n",
       "      <td>4.2%</td>\n",
       "      <td>1 Jul 2024</td>\n",
       "      <td>Official estimate[6]</td>\n",
       "      <td>[d]</td>\n",
       "    </tr>\n",
       "    <tr>\n",
       "      <th>4</th>\n",
       "      <td>Indonesia</td>\n",
       "      <td>282477584</td>\n",
       "      <td>3.5%</td>\n",
       "      <td>30 Jun 2024</td>\n",
       "      <td>National annual projection[7]</td>\n",
       "      <td>NaN</td>\n",
       "    </tr>\n",
       "    <tr>\n",
       "      <th>...</th>\n",
       "      <td>...</td>\n",
       "      <td>...</td>\n",
       "      <td>...</td>\n",
       "      <td>...</td>\n",
       "      <td>...</td>\n",
       "      <td>...</td>\n",
       "    </tr>\n",
       "    <tr>\n",
       "      <th>235</th>\n",
       "      <td>Niue (New Zealand)</td>\n",
       "      <td>1681</td>\n",
       "      <td>0%</td>\n",
       "      <td>11 Nov 2022</td>\n",
       "      <td>2022 Census[246]</td>\n",
       "      <td>NaN</td>\n",
       "    </tr>\n",
       "    <tr>\n",
       "      <th>236</th>\n",
       "      <td>Tokelau (New Zealand)</td>\n",
       "      <td>1647</td>\n",
       "      <td>0%</td>\n",
       "      <td>1 Jan 2019</td>\n",
       "      <td>2019 Census[247]</td>\n",
       "      <td>NaN</td>\n",
       "    </tr>\n",
       "    <tr>\n",
       "      <th>237</th>\n",
       "      <td>Vatican City</td>\n",
       "      <td>882</td>\n",
       "      <td>0%</td>\n",
       "      <td>31 Dec 2024</td>\n",
       "      <td>Official figure[248]</td>\n",
       "      <td>[ah]</td>\n",
       "    </tr>\n",
       "    <tr>\n",
       "      <th>238</th>\n",
       "      <td>Cocos (Keeling) Islands (Australia)</td>\n",
       "      <td>593</td>\n",
       "      <td>0%</td>\n",
       "      <td>30 Jun 2020</td>\n",
       "      <td>2021 Census[249]</td>\n",
       "      <td>NaN</td>\n",
       "    </tr>\n",
       "    <tr>\n",
       "      <th>239</th>\n",
       "      <td>Pitcairn Islands (UK)</td>\n",
       "      <td>35</td>\n",
       "      <td>0%</td>\n",
       "      <td>1 Jul 2023</td>\n",
       "      <td>Official estimate[250]</td>\n",
       "      <td>NaN</td>\n",
       "    </tr>\n",
       "  </tbody>\n",
       "</table>\n",
       "<p>240 rows × 6 columns</p>\n",
       "</div>"
      ]
     },
     "execution_count": 50,
     "metadata": {},
     "output_type": "execute_result"
    }
   ],
   "execution_count": 50
  },
  {
   "metadata": {
    "ExecuteTime": {
     "end_time": "2025-06-24T02:03:55.537622Z",
     "start_time": "2025-06-24T02:03:55.525128Z"
    }
   },
   "cell_type": "code",
   "source": "df.describe()",
   "id": "8708f4a2b498d142",
   "outputs": [
    {
     "data": {
      "text/plain": [
       "         Population\n",
       "count  2.400000e+02\n",
       "mean   6.755300e+07\n",
       "std    5.459940e+08\n",
       "min    3.500000e+01\n",
       "25%    3.827270e+05\n",
       "50%    5.486725e+06\n",
       "75%    2.263548e+07\n",
       "max    8.232000e+09"
      ],
      "text/html": [
       "<div>\n",
       "<style scoped>\n",
       "    .dataframe tbody tr th:only-of-type {\n",
       "        vertical-align: middle;\n",
       "    }\n",
       "\n",
       "    .dataframe tbody tr th {\n",
       "        vertical-align: top;\n",
       "    }\n",
       "\n",
       "    .dataframe thead th {\n",
       "        text-align: right;\n",
       "    }\n",
       "</style>\n",
       "<table border=\"1\" class=\"dataframe\">\n",
       "  <thead>\n",
       "    <tr style=\"text-align: right;\">\n",
       "      <th></th>\n",
       "      <th>Population</th>\n",
       "    </tr>\n",
       "  </thead>\n",
       "  <tbody>\n",
       "    <tr>\n",
       "      <th>count</th>\n",
       "      <td>2.400000e+02</td>\n",
       "    </tr>\n",
       "    <tr>\n",
       "      <th>mean</th>\n",
       "      <td>6.755300e+07</td>\n",
       "    </tr>\n",
       "    <tr>\n",
       "      <th>std</th>\n",
       "      <td>5.459940e+08</td>\n",
       "    </tr>\n",
       "    <tr>\n",
       "      <th>min</th>\n",
       "      <td>3.500000e+01</td>\n",
       "    </tr>\n",
       "    <tr>\n",
       "      <th>25%</th>\n",
       "      <td>3.827270e+05</td>\n",
       "    </tr>\n",
       "    <tr>\n",
       "      <th>50%</th>\n",
       "      <td>5.486725e+06</td>\n",
       "    </tr>\n",
       "    <tr>\n",
       "      <th>75%</th>\n",
       "      <td>2.263548e+07</td>\n",
       "    </tr>\n",
       "    <tr>\n",
       "      <th>max</th>\n",
       "      <td>8.232000e+09</td>\n",
       "    </tr>\n",
       "  </tbody>\n",
       "</table>\n",
       "</div>"
      ]
     },
     "execution_count": 51,
     "metadata": {},
     "output_type": "execute_result"
    }
   ],
   "execution_count": 51
  },
  {
   "metadata": {
    "ExecuteTime": {
     "end_time": "2025-06-24T02:04:04.057432Z",
     "start_time": "2025-06-24T02:04:04.043409Z"
    }
   },
   "cell_type": "code",
   "source": "df.info()",
   "id": "e3a64a105b23c8ec",
   "outputs": [
    {
     "name": "stdout",
     "output_type": "stream",
     "text": [
      "<class 'pandas.core.frame.DataFrame'>\n",
      "RangeIndex: 240 entries, 0 to 239\n",
      "Data columns (total 6 columns):\n",
      " #   Column                                        Non-Null Count  Dtype \n",
      "---  ------                                        --------------  ----- \n",
      " 0   Location                                      240 non-null    object\n",
      " 1   Population                                    240 non-null    int64 \n",
      " 2   % of world                                    240 non-null    object\n",
      " 3   Date                                          240 non-null    object\n",
      " 4   Source (official or from the United Nations)  240 non-null    object\n",
      " 5   Notes                                         33 non-null     object\n",
      "dtypes: int64(1), object(5)\n",
      "memory usage: 11.4+ KB\n"
     ]
    }
   ],
   "execution_count": 52
  },
  {
   "metadata": {},
   "cell_type": "code",
   "outputs": [],
   "execution_count": null,
   "source": "",
   "id": "56af99ad9fe34e56"
  }
 ],
 "metadata": {
  "kernelspec": {
   "display_name": "Python 3",
   "language": "python",
   "name": "python3"
  },
  "language_info": {
   "codemirror_mode": {
    "name": "ipython",
    "version": 2
   },
   "file_extension": ".py",
   "mimetype": "text/x-python",
   "name": "python",
   "nbconvert_exporter": "python",
   "pygments_lexer": "ipython2",
   "version": "2.7.6"
  }
 },
 "nbformat": 4,
 "nbformat_minor": 5
}
