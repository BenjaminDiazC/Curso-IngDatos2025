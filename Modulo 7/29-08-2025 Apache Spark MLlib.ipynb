{
 "nbformat": 4,
 "nbformat_minor": 0,
 "metadata": {
  "colab": {
   "provenance": [],
   "authorship_tag": "ABX9TyNORWNbyBV1OP9iU4whW1xz"
  },
  "kernelspec": {
   "name": "python3",
   "display_name": "Python 3"
  },
  "language_info": {
   "name": "python"
  }
 },
 "cells": [
  {
   "cell_type": "code",
   "execution_count": 1,
   "metadata": {
    "colab": {
     "base_uri": "https://localhost:8080/"
    },
    "id": "odGt3fIqKzRJ",
    "executionInfo": {
     "status": "ok",
     "timestamp": 1756522000384,
     "user_tz": 240,
     "elapsed": 11922,
     "user": {
      "displayName": "BENJAMIN IGNACIO DIAZ CAVIERES",
      "userId": "03328467785035283871"
     }
    },
    "outputId": "2cb9c3d2-43ec-4a23-bdc0-f0fe0eae150a"
   },
   "outputs": [
    {
     "output_type": "stream",
     "name": "stdout",
     "text": [
      "App Nombre:  ProyectoMetroRegresionLineal\n"
     ]
    }
   ],
   "source": [
    "\n",
    "from pyspark.sql import SparkSession\n",
    "\n",
    "#Crear sesión\n",
    "spark = SparkSession.builder.appName(\"ProyectoMetroRegresionLineal\").master(\"local[*]\").config(\"spark.sql.session.timeZone\",\"America/Santiago\").getOrCreate()\n",
    "\n",
    "print(\"App Nombre: \",spark.sparkContext.appName)"
   ]
  },
  {
   "cell_type": "code",
   "source": [
    "# Carga de datos en un DF de Spark\n",
    "\n",
    "ruta_datos = \"metro_santiago_200.csv\"\n",
    "\n",
    "df = (\n",
    "    spark.read.option(\"header\", True).\n",
    "    option(\"inferSchema\", True).\n",
    "    csv(ruta_datos)\n",
    ")\n",
    "\n",
    "# Pequeña prueba para ver si los datos se cargaron en el DF\n",
    "df.printSchema()"
   ],
   "metadata": {
    "colab": {
     "base_uri": "https://localhost:8080/"
    },
    "id": "xtSdXRHkXlrG",
    "executionInfo": {
     "status": "ok",
     "timestamp": 1756522011669,
     "user_tz": 240,
     "elapsed": 8689,
     "user": {
      "displayName": "BENJAMIN IGNACIO DIAZ CAVIERES",
      "userId": "03328467785035283871"
     }
    },
    "outputId": "23c2f022-9544-4e4a-eb97-270d4f733c36"
   },
   "execution_count": 2,
   "outputs": [
    {
     "output_type": "stream",
     "name": "stdout",
     "text": [
      "root\n",
      " |-- id_evento: integer (nullable = true)\n",
      " |-- linea: string (nullable = true)\n",
      " |-- estacion: string (nullable = true)\n",
      " |-- tipo_incidente: string (nullable = true)\n",
      " |-- duracion_minutos: integer (nullable = true)\n",
      " |-- hora: timestamp (nullable = true)\n",
      "\n"
     ]
    }
   ]
  },
  {
   "cell_type": "code",
   "source": [
    "# Exploración breve del DF\n",
    "\n",
    "from pyspark.sql import functions as F\n",
    "\n",
    "# Filas y Columnas\n",
    "print(\"Filas: \",df.count(), \"| Columnas: \",len(df.columns))"
   ],
   "metadata": {
    "colab": {
     "base_uri": "https://localhost:8080/"
    },
    "id": "LIxZhTdMXS-R",
    "executionInfo": {
     "status": "ok",
     "timestamp": 1756522034109,
     "user_tz": 240,
     "elapsed": 1177,
     "user": {
      "displayName": "BENJAMIN IGNACIO DIAZ CAVIERES",
      "userId": "03328467785035283871"
     }
    },
    "outputId": "690ed2be-f4f8-4cf9-83bd-9e3caa49d1ec"
   },
   "execution_count": 4,
   "outputs": [
    {
     "output_type": "stream",
     "name": "stdout",
     "text": [
      "Filas:  200 | Columnas:  6\n"
     ]
    }
   ]
  },
  {
   "cell_type": "code",
   "source": [
    "#Conteo nulos\n",
    "nulos = df.select([F.sum(F.col(c).isNull().cast(\"int\")).alias(c) for c in df.columns])\n",
    "nulos.show()"
   ],
   "metadata": {
    "colab": {
     "base_uri": "https://localhost:8080/"
    },
    "id": "83V8gmd-Ym1d",
    "executionInfo": {
     "status": "ok",
     "timestamp": 1756522037241,
     "user_tz": 240,
     "elapsed": 1733,
     "user": {
      "displayName": "BENJAMIN IGNACIO DIAZ CAVIERES",
      "userId": "03328467785035283871"
     }
    },
    "outputId": "ee27d145-995e-4554-8c62-ceba6bb8ff3f"
   },
   "execution_count": 5,
   "outputs": [
    {
     "output_type": "stream",
     "name": "stdout",
     "text": [
      "+---------+-----+--------+--------------+----------------+----+\n",
      "|id_evento|linea|estacion|tipo_incidente|duracion_minutos|hora|\n",
      "+---------+-----+--------+--------------+----------------+----+\n",
      "|        0|    0|       0|             0|               0|   0|\n",
      "+---------+-----+--------+--------------+----------------+----+\n",
      "\n"
     ]
    }
   ]
  },
  {
   "cell_type": "code",
   "source": [
    "# Preparación de los datos para el ML regresión lineal\n",
    "from pyspark.ml.feature import StringIndexer, VectorAssembler\n",
    "\n",
    "# 1) Extraer la hora como número\n",
    "df = df.withColumn(\"hora_num\", F.hour(\"hora\"))\n",
    "\n",
    "# 2) Definir los indexadores no transformados\n",
    "indexer_linea = StringIndexer(inputCol=\"linea\", outputCol=\"linea_index\")\n",
    "indexer_estacion = StringIndexer(inputCol=\"estacion\", outputCol=\"estacion_index\")\n",
    "indexer_tipo = StringIndexer(inputCol=\"tipo_incidente\",outputCol=\"tipo_index\")\n",
    "\n",
    "# 3) Ajustar (entrenar) los modelos de indexación\n",
    "indexer_linea_model = indexer_linea.fit(df)\n",
    "indexer_estacion_model = indexer_estacion.fit(df)\n",
    "indexer_tipo_model = indexer_tipo.fit(df)\n",
    "\n",
    "# 4) Transformar el DF con estos modelos\n",
    "df = indexer_linea_model.transform(df)\n",
    "df = indexer_estacion_model.transform(df)\n",
    "df = indexer_tipo_model.transform(df)\n",
    "\n",
    "# 5) Ensamblar las columnas [X]\n",
    "assembler = VectorAssembler (\n",
    "    inputCols=[\"linea_index\",\"estacion_index\", \"tipo_index\",\"hora_num\"], #Son aquellas columnas que asumen el rol de X\n",
    "    outputCol= \"features\"\n",
    ")\n",
    "\n",
    "df = assembler.transform(df)\n",
    "\n",
    "# 6) Definir [y] label = duracion_minutos\n",
    "df = df.withColumnRenamed(\"duracion_minutos\",\"label\")\n",
    "\n",
    "# 7) Vista al DF\n",
    "df.select(\"linea\",\"estacion\",\"tipo_incidente\",\"hora\",\"features\",\"label\").show(10, truncate=False)"
   ],
   "metadata": {
    "colab": {
     "base_uri": "https://localhost:8080/"
    },
    "id": "It7gnCVrZAU1",
    "executionInfo": {
     "status": "ok",
     "timestamp": 1756517284240,
     "user_tz": 240,
     "elapsed": 3644,
     "user": {
      "displayName": "BENJAMIN IGNACIO DIAZ CAVIERES",
      "userId": "03328467785035283871"
     }
    },
    "outputId": "b49cc3fc-5d9f-4740-bdb4-044301a462ba"
   },
   "execution_count": 18,
   "outputs": [
    {
     "output_type": "stream",
     "name": "stderr",
     "text": [
      "Exception ignored in: <function JavaWrapper.__del__ at 0x7a3606f439c0>\n",
      "Traceback (most recent call last):\n",
      "  File \"/usr/local/lib/python3.12/dist-packages/pyspark/ml/wrapper.py\", line 53, in __del__\n",
      "    if SparkContext._active_spark_context and self._java_obj is not None:\n",
      "                                              ^^^^^^^^^^^^^^\n",
      "AttributeError: 'VectorAssembler' object has no attribute '_java_obj'\n"
     ]
    },
    {
     "output_type": "stream",
     "name": "stdout",
     "text": [
      "+-----+--------------+------------------------+-------------------+-------------------+-----+\n",
      "|linea|estacion      |tipo_incidente          |hora               |features           |label|\n",
      "+-----+--------------+------------------------+-------------------+-------------------+-----+\n",
      "|L1   |Baquedano     |Falla eléctrica         |2025-08-29 07:30:00|(4,[3],[7.0])      |20   |\n",
      "|L2   |Cal y Canto   |Mantenimiento           |2025-08-29 22:15:00|[1.0,17.0,1.0,22.0]|15   |\n",
      "|L3   |Plaza de Armas|Evacuación              |2025-08-29 14:45:00|[2.0,15.0,2.0,14.0]|10   |\n",
      "|L4   |Las Torres    |Interrupción de servicio|2025-08-29 09:15:00|[5.0,18.0,3.0,9.0] |25   |\n",
      "|L5   |Santa Ana     |Falla eléctrica         |2025-08-29 16:30:00|[3.0,6.0,0.0,16.0] |30   |\n",
      "|L6   |Los Leones    |Retraso                 |2025-08-29 11:00:00|[4.0,4.0,4.0,11.0] |15   |\n",
      "|L4A  |Ñuñoa         |Mantenimiento           |2025-08-29 06:45:00|[6.0,8.0,1.0,6.0]  |20   |\n",
      "|L1   |Los Héroes    |Falla eléctrica         |2025-08-29 18:15:00|[0.0,3.0,0.0,18.0] |25   |\n",
      "|L2   |Franklin      |Evacuación              |2025-08-29 13:30:00|[1.0,2.0,2.0,13.0] |15   |\n",
      "|L3   |Irarrázaval   |Interrupción de servicio|2025-08-29 20:00:00|[2.0,9.0,3.0,20.0] |20   |\n",
      "+-----+--------------+------------------------+-------------------+-------------------+-----+\n",
      "only showing top 10 rows\n",
      "\n"
     ]
    }
   ]
  },
  {
   "cell_type": "code",
   "source": [
    "# Entrenar nuestro modelo y evaluarlo con algunas métricas = regresión lineal\n",
    "from pyspark.ml.regression import LinearRegression\n",
    "from pyspark.ml.evaluation import RegressionEvaluator\n",
    "\n",
    "# 1) Entrenamiento = Train / Test\n",
    "train_df, test_df = df.select(\"features\",\"label\").randomSplit([0.7,0.3], seed=42)\n",
    "\n",
    "# 2) Definir el modelo ML y entrenarlo\n",
    "lr = LinearRegression(featuresCol=\"features\",labelCol = \"label\")\n",
    "lr_model = lr.fit(train_df)\n",
    "\n",
    "# 3) Predicciones con test\n",
    "preds = lr_model.transform(test_df)\n",
    "preds.select(\"prediction\",\"label\").show(10, truncate = False)"
   ],
   "metadata": {
    "colab": {
     "base_uri": "https://localhost:8080/"
    },
    "id": "uW3F7N0gldu1",
    "executionInfo": {
     "status": "ok",
     "timestamp": 1756517828511,
     "user_tz": 240,
     "elapsed": 4153,
     "user": {
      "displayName": "BENJAMIN IGNACIO DIAZ CAVIERES",
      "userId": "03328467785035283871"
     }
    },
    "outputId": "a523757e-defc-4e1e-c68f-e369900823ab"
   },
   "execution_count": 19,
   "outputs": [
    {
     "output_type": "stream",
     "name": "stdout",
     "text": [
      "+------------------+-----+\n",
      "|prediction        |label|\n",
      "+------------------+-----+\n",
      "|22.00958223069215 |15   |\n",
      "|21.34642025409477 |20   |\n",
      "|23.3400124971093  |25   |\n",
      "|23.113535852969562|25   |\n",
      "|22.34468477577364 |25   |\n",
      "|21.264060206223892|15   |\n",
      "|23.59413575428753 |20   |\n",
      "|22.8829349122672  |20   |\n",
      "|21.06091261481182 |15   |\n",
      "|22.631748455432177|25   |\n",
      "+------------------+-----+\n",
      "only showing top 10 rows\n",
      "\n"
     ]
    }
   ]
  },
  {
   "cell_type": "code",
   "source": [
    "# 4) Métricas de evaluación\n",
    "r2 = RegressionEvaluator(metricName = \"r2\", labelCol= \"label\", predictionCol=\"prediction\").evaluate(preds)\n",
    "print(f\"R2 = {r2:.2f}\")"
   ],
   "metadata": {
    "colab": {
     "base_uri": "https://localhost:8080/"
    },
    "id": "hckjAoCcm86L",
    "executionInfo": {
     "status": "ok",
     "timestamp": 1756518221570,
     "user_tz": 240,
     "elapsed": 867,
     "user": {
      "displayName": "BENJAMIN IGNACIO DIAZ CAVIERES",
      "userId": "03328467785035283871"
     }
    },
    "outputId": "544a206c-285f-42dd-d60a-b624b79ca9be"
   },
   "execution_count": 20,
   "outputs": [
    {
     "output_type": "stream",
     "name": "stdout",
     "text": [
      "R2 = -0.02\n"
     ]
    }
   ]
  }
 ]
}
