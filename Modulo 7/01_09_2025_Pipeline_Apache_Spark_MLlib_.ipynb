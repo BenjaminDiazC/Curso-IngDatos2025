{
  "nbformat": 4,
  "nbformat_minor": 0,
  "metadata": {
    "colab": {
      "provenance": []
    },
    "kernelspec": {
      "name": "python3",
      "display_name": "Python 3"
    },
    "language_info": {
      "name": "python"
    }
  },
  "cells": [
    {
      "cell_type": "code",
      "source": [
        "!pip install -q pyspark"
      ],
      "metadata": {
        "id": "08YJcllmwD-Y"
      },
      "execution_count": 1,
      "outputs": []
    },
    {
      "cell_type": "code",
      "execution_count": 2,
      "metadata": {
        "colab": {
          "base_uri": "https://localhost:8080/"
        },
        "id": "odGt3fIqKzRJ",
        "outputId": "9d41a8cd-53bd-4d2f-e660-e9db8be5d5eb"
      },
      "outputs": [
        {
          "output_type": "stream",
          "name": "stdout",
          "text": [
            "App Nombre:  ProyectoMetroRegresionLineal\n"
          ]
        }
      ],
      "source": [
        "from pyspark.sql import SparkSession\n",
        "\n",
        "#Crear sesión\n",
        "spark = SparkSession.builder.appName(\"ProyectoMetroRegresionLineal\").master(\"local[*]\").config(\"spark.sql.session.timeZone\",\"America/Santiago\").getOrCreate()\n",
        "\n",
        "print(\"App Nombre: \",spark.sparkContext.appName)"
      ]
    },
    {
      "cell_type": "code",
      "source": [
        "# Carga de datos en un DF de Spark\n",
        "\n",
        "ruta_datos = \"metro_santiago_200.csv\"\n",
        "\n",
        "df = (\n",
        "    spark.read.option(\"header\", True).\n",
        "    option(\"inferSchema\", True).\n",
        "    csv(ruta_datos)\n",
        ")\n",
        "\n",
        "# Pequeña prueba para ver si los datos se cargaron en el DF\n",
        "df.printSchema()"
      ],
      "metadata": {
        "colab": {
          "base_uri": "https://localhost:8080/"
        },
        "id": "xtSdXRHkXlrG",
        "outputId": "66f6bdf3-927a-4824-ce68-32480eb83661"
      },
      "execution_count": 3,
      "outputs": [
        {
          "output_type": "stream",
          "name": "stdout",
          "text": [
            "root\n",
            " |-- id_evento: integer (nullable = true)\n",
            " |-- linea: string (nullable = true)\n",
            " |-- estacion: string (nullable = true)\n",
            " |-- tipo_incidente: string (nullable = true)\n",
            " |-- duracion_minutos: integer (nullable = true)\n",
            " |-- hora: timestamp (nullable = true)\n",
            "\n"
          ]
        }
      ]
    },
    {
      "cell_type": "code",
      "source": [
        "# Exploración breve del DF\n",
        "\n",
        "from pyspark.sql import functions as F\n",
        "\n",
        "# Filas y Columnas\n",
        "print(\"Filas: \",df.count(), \"| Columnas: \",len(df.columns))"
      ],
      "metadata": {
        "colab": {
          "base_uri": "https://localhost:8080/"
        },
        "id": "LIxZhTdMXS-R",
        "outputId": "dc2b63d9-1472-4454-f52c-79cfeeaab50e"
      },
      "execution_count": 4,
      "outputs": [
        {
          "output_type": "stream",
          "name": "stdout",
          "text": [
            "Filas:  200 | Columnas:  6\n"
          ]
        }
      ]
    },
    {
      "cell_type": "code",
      "source": [
        "#Conteo nulos\n",
        "nulos = df.select([F.sum(F.col(c).isNull().cast(\"int\")).alias(c) for c in df.columns])\n",
        "nulos.show()"
      ],
      "metadata": {
        "colab": {
          "base_uri": "https://localhost:8080/"
        },
        "id": "83V8gmd-Ym1d",
        "outputId": "609c7c0f-0703-4060-bca9-a5c9d74202c8"
      },
      "execution_count": 5,
      "outputs": [
        {
          "output_type": "stream",
          "name": "stdout",
          "text": [
            "+---------+-----+--------+--------------+----------------+----+\n",
            "|id_evento|linea|estacion|tipo_incidente|duracion_minutos|hora|\n",
            "+---------+-----+--------+--------------+----------------+----+\n",
            "|        0|    0|       0|             0|               0|   0|\n",
            "+---------+-----+--------+--------------+----------------+----+\n",
            "\n"
          ]
        }
      ]
    },
    {
      "cell_type": "markdown",
      "source": [
        "# Actividad tratado de la info. Con Pipeline 01-09-2025"
      ],
      "metadata": {
        "id": "ycwoi_1tzft4"
      }
    },
    {
      "cell_type": "code",
      "source": [
        "from pyspark.ml.feature import StringIndexer, OneHotEncoder, VectorAssembler, SQLTransformer\n",
        "from pyspark.ml import Pipeline\n",
        "from pyspark.ml.regression import LinearRegression\n",
        "\n",
        "# 1) Derivar (extraer) la hora dentro del pipeline\n",
        "\n",
        "hora_sql = SQLTransformer(statement=\"\"\"\n",
        "  SELECT *, HOUR(hora) AS hora_num FROM __THIS__\n",
        "\"\"\")\n",
        "\n",
        "# 2) Indexar categoricos\n",
        "\n",
        "idx_linea = StringIndexer(inputCol=\"linea\", outputCol=\"linea_index\", handleInvalid=\"keep\")\n",
        "idx_estacion = StringIndexer(inputCol=\"estacion\", outputCol=\"estacion_index\", handleInvalid=\"keep\")\n",
        "idx_tipo = StringIndexer(inputCol=\"tipo_incidente\", outputCol=\"tipo_index\", handleInvalid=\"keep\")\n",
        "\n",
        "# 3) Utilizar OneHotEncoder para preprocesar los categóricos\n",
        "\n",
        "ohe = OneHotEncoder(inputCols=[idx_linea.getOutputCol(), idx_estacion.getOutputCol(), idx_tipo.getOutputCol()],\n",
        "                    outputCols=[\"linea_ohe\", \"estacion_ohe\", \"tipo_ohe\"],\n",
        "                    handleInvalid=\"keep\")\n",
        "\n",
        "# 4) Ensamblar y crear el campo \"features\"\n",
        "\n",
        "assembler = VectorAssembler(inputCols=[\"linea_ohe\", \"estacion_ohe\", \"tipo_ohe\"], outputCol=\"features\")\n",
        "\n",
        "# 5) Crear modelo de ML = Regresion Lineal\n",
        "\n",
        "lr = LinearRegression(featuresCol=\"features\", labelCol=\"label\")\n",
        "\n",
        "# 6) Creación del pipeline\n",
        "\n",
        "pipeline = Pipeline(stages=[hora_sql, idx_linea, idx_estacion, idx_tipo, ohe, assembler, lr])"
      ],
      "metadata": {
        "id": "ehVb7joimsCY"
      },
      "execution_count": 10,
      "outputs": []
    },
    {
      "cell_type": "code",
      "source": [
        "# Tratamiento del target [y] = label\n",
        "\n",
        "from pyspark.sql import functions as F\n",
        "\n",
        "# 1) Asegurarme que el campo \"hora\" sea timestamp\n",
        "df = df.withColumn(\"hora\", F.to_timestamp(\"hora\"))\n",
        "\n",
        "# 2) Definir columna objetivo (MLlib) - renombrar\n",
        "\n",
        "df_ml = df.withColumnRenamed(\"duracion_minutos\", \"label\")\n",
        "\n",
        "# 3) Dividir el dataset en entrenamiento/prueba\n",
        "train_df, test_df = df_ml.randomSplit([0.7,0.3], seed=42)\n",
        "\n",
        "print(\"Registros totales: \", df_ml.count())\n",
        "print(\"Registros entrenamiento: \", train_df.count())\n",
        "print(\"Registros prueba: \", test_df.count())"
      ],
      "metadata": {
        "colab": {
          "base_uri": "https://localhost:8080/"
        },
        "id": "9y1oKxt1tepv",
        "outputId": "9e025752-51c3-4452-ff82-a465ec94786c"
      },
      "execution_count": 12,
      "outputs": [
        {
          "output_type": "stream",
          "name": "stdout",
          "text": [
            "Registros totales:  200\n",
            "Registros entrenamiento:  145\n",
            "Registros prueba:  55\n"
          ]
        }
      ]
    },
    {
      "cell_type": "code",
      "source": [
        "# Entrenar ML\n",
        "from pyspark.ml.evaluation import RegressionEvaluator\n",
        "\n",
        "# 4) Entrenar el modelo\n",
        "pipelineEntrenado = pipeline.fit(train_df)\n",
        "\n",
        "# 2) Predicciones en el conjunto de prueba\n",
        "preds = pipelineEntrenado.transform(test_df)\n",
        "\n",
        "# 3) Métricas de evaluación\n",
        "rmse = RegressionEvaluator(metricName = \"rmse\", labelCol= \"label\", predictionCol=\"prediction\").evaluate(preds)\n",
        "r2 = RegressionEvaluator(metricName = \"r2\", labelCol= \"label\", predictionCol=\"prediction\").evaluate(preds)\n",
        "\n",
        "print(f\"RMSE = {rmse:.2f}\")\n",
        "print(f\"R2 = {r2:.2f}\")"
      ],
      "metadata": {
        "colab": {
          "base_uri": "https://localhost:8080/"
        },
        "id": "qTmhYVxAvjXo",
        "outputId": "c2ea0d33-0c62-4c3a-f4d5-dce19e9709c1"
      },
      "execution_count": 13,
      "outputs": [
        {
          "output_type": "stream",
          "name": "stdout",
          "text": [
            "RMSE = 6.54\n",
            "R2 = -0.28\n",
            "+------------------+-----+\n",
            "|        prediction|label|\n",
            "+------------------+-----+\n",
            "|27.846107922754676|   10|\n",
            "|22.806726274901614|   20|\n",
            "| 21.77001177212733|   15|\n",
            "|17.853724331355835|   20|\n",
            "|23.777731259029828|   25|\n",
            "| 20.91315543827809|   15|\n",
            "|23.622305449009236|   20|\n",
            "|24.044594971436442|   20|\n",
            "|20.857454369923836|   25|\n",
            "|23.386416248674504|   30|\n",
            "|17.559089205214804|   15|\n",
            "| 23.81482238342134|   25|\n",
            "|20.874294009405684|   30|\n",
            "|  20.6329567385502|   15|\n",
            "| 18.95993226867232|   25|\n",
            "|22.534819220835175|   30|\n",
            "|23.521672515916148|   20|\n",
            "|25.682496292803684|   25|\n",
            "|21.285552877917713|   20|\n",
            "| 21.80610902228316|   25|\n",
            "+------------------+-----+\n",
            "only showing top 20 rows\n",
            "\n"
          ]
        }
      ]
    },
    {
      "cell_type": "code",
      "source": [
        "preds.select(\"linea\",\"estacion\",\"tipo_incidente\",\"hora\",\"label\",\"prediction\").show(10, truncate=False)"
      ],
      "metadata": {
        "id": "NLfRpu75pQLg",
        "colab": {
          "base_uri": "https://localhost:8080/"
        },
        "outputId": "93bdca8a-701c-4c7b-bfc4-bd786e3caff8"
      },
      "execution_count": 14,
      "outputs": [
        {
          "output_type": "stream",
          "name": "stdout",
          "text": [
            "+-----+--------------+------------------------+-------------------+-----+------------------+\n",
            "|linea|estacion      |tipo_incidente          |hora               |label|prediction        |\n",
            "+-----+--------------+------------------------+-------------------+-----+------------------+\n",
            "|L3   |Plaza de Armas|Evacuación              |2025-09-01 14:45:00|10   |27.846107922754676|\n",
            "|L4A  |Ñuñoa         |Mantenimiento           |2025-09-01 06:45:00|20   |22.806726274901614|\n",
            "|L2   |Franklin      |Evacuación              |2025-09-01 13:30:00|15   |21.77001177212733 |\n",
            "|L3   |Irarrázaval   |Interrupción de servicio|2025-09-01 20:00:00|20   |17.853724331355835|\n",
            "|L1   |Plaza Egaña   |Evacuación              |2025-09-01 19:30:00|25   |23.777731259029828|\n",
            "|L2   |Los Dominicos |Mantenimiento           |2025-09-01 05:45:00|15   |20.91315543827809 |\n",
            "|L3   |Vicente Valdés|Falla eléctrica         |2025-09-01 21:15:00|20   |23.622305449009236|\n",
            "|L1   |Santa Ana     |Falla eléctrica         |2025-09-01 16:15:00|20   |24.044594971436442|\n",
            "|L3   |Franklin      |Interrupción de servicio|2025-09-01 09:45:00|25   |20.857454369923836|\n",
            "|L5   |Plaza de Maipú|Mantenimiento           |2025-09-01 06:30:00|30   |23.386416248674504|\n",
            "+-----+--------------+------------------------+-------------------+-----+------------------+\n",
            "only showing top 10 rows\n",
            "\n"
          ]
        }
      ]
    },
    {
      "cell_type": "markdown",
      "source": [
        "## Creación del otro modelo - Árbol de Regresión MLA"
      ],
      "metadata": {
        "id": "YbdMcqff6yRw"
      }
    },
    {
      "cell_type": "code",
      "source": [
        "from pyspark.ml.regression import DecisionTreeRegressor\n",
        "from pyspark.ml.evaluation import RegressionEvaluator\n",
        "\n",
        "# 1) Preprocesamiento de nuevo para este modelo de arbol de regresión\n",
        "hora_sql_tree = SQLTransformer(statement=\"\"\"\n",
        "  SELECT *, HOUR(hora) AS hora_num_feat FROM __THIS__\n",
        "\"\"\")\n",
        "\n",
        "# 2) Indexar categoricos\n",
        "\n",
        "idx_linea_tree = StringIndexer(inputCol=\"linea\", outputCol=\"linea_index\", handleInvalid=\"keep\")\n",
        "idx_estacion_tree = StringIndexer(inputCol=\"estacion\", outputCol=\"estacion_index\", handleInvalid=\"keep\")\n",
        "idx_tipo_tree = StringIndexer(inputCol=\"tipo_incidente\", outputCol=\"tipo_index\", handleInvalid=\"keep\")\n",
        "\n",
        "ohe_tree = OneHotEncoder(inputCols=[idx_linea_tree.getOutputCol(), idx_estacion_tree.getOutputCol(), idx_tipo_tree.getOutputCol()],\n",
        "                         outputCols=[\"linea_vec\",\"estacion_vec\",\"tipo_vec\"],\n",
        "                         handleInvalid=\"keep\")\n",
        "\n",
        "assembler_tree = VectorAssembler(\n",
        "    inputCols=[\"linea_vec\",\"estacion_vec\",\"tipo_vec\",\"hora_num_feat\"],\n",
        "    outputCol=\"features\"\n",
        ")\n",
        "\n",
        "dtr = DecisionTreeRegressor(\n",
        "    featuresCol=\"features\",\n",
        "    labelCol=\"label\",\n",
        "    maxDepth=6,\n",
        "    minInstancesPerNode=2\n",
        ")\n",
        "\n",
        "pipeline_tree = Pipeline(stages=[hora_sql_tree, idx_linea_tree, idx_estacion_tree, idx_tipo_tree, ohe_tree, assembler_tree, dtr])\n",
        "\n",
        "# Entrenamiento y predicción\n",
        "dtr_entrenado = pipeline_tree.fit(train_df)\n",
        "preds_tree = dtr_entrenado.transform(test_df)\n",
        "\n",
        "# Métricas de evaluación\n",
        "dtr_rmse = RegressionEvaluator(metricName = \"rmse\", labelCol= \"label\", predictionCol=\"prediction\").evaluate(preds_tree)\n",
        "dtr_mae = RegressionEvaluator(metricName = \"mae\", labelCol= \"label\", predictionCol=\"prediction\").evaluate(preds_tree)\n",
        "dtr_r2 = RegressionEvaluator(metricName = \"r2\", labelCol= \"label\", predictionCol=\"prediction\").evaluate(preds_tree)\n",
        "\n",
        "print(f\"RMSE = {dtr_rmse:.2f}\")\n",
        "print(f\"MAE = {dtr_mae:.2f}\")\n",
        "print(f\"R2 = {dtr_r2:.2f}\")"
      ],
      "metadata": {
        "colab": {
          "base_uri": "https://localhost:8080/"
        },
        "id": "LWImGlw-1tOz",
        "outputId": "17285848-3385-41d8-ca3f-640595622b09"
      },
      "execution_count": 19,
      "outputs": [
        {
          "output_type": "stream",
          "name": "stdout",
          "text": [
            "RMSE = 6.28\n",
            "MAE = 5.10\n",
            "R2 = -0.18\n"
          ]
        }
      ]
    },
    {
      "cell_type": "code",
      "source": [
        "import matplotlib.pyplot as plt\n",
        "\n",
        "metricas = [\"R2 Lineal\", \"R2 Arbol\"]\n",
        "valores = [r2, dtr_r2]\n",
        "\n",
        "plt.bar(metricas, valores)\n",
        "plt.ylabel(\"Valor\")\n",
        "plt.title(\"Comparación de R2\")\n",
        "plt.show()"
      ],
      "metadata": {
        "colab": {
          "base_uri": "https://localhost:8080/",
          "height": 453
        },
        "id": "cPp7TmuqGJWA",
        "outputId": "5d84408c-8151-4fd1-ad57-6993a176cd70"
      },
      "execution_count": 22,
      "outputs": [
        {
          "output_type": "display_data",
          "data": {
            "text/plain": [
              "<Figure size 640x480 with 1 Axes>"
            ],
            "image/png": "[encoded data removed]"
          },
          "metadata": {}
        }
      ]
    },
    {
      "cell_type": "markdown",
      "source": [
        "#### Al comparar ambos $r^2$, ninguno de los dos es significativo para el análisis, ya que son negativos, es mejor ajustar los datos de otra manera"
      ],
      "metadata": {
        "id": "CJZU2W3lG7yw"
      }
    },
    {
      "cell_type": "code",
      "source": [
        "preds.select(\"linea\",\"estacion\",\"tipo_incidente\",\"hora\",\"label\",\"prediction\").show(10, truncate=False)\n",
        "preds_tree.select(\"linea\",\"estacion\",\"tipo_incidente\",\"hora\",\"label\",\"prediction\").show(10, truncate=False)"
      ],
      "metadata": {
        "colab": {
          "base_uri": "https://localhost:8080/"
        },
        "id": "tcQjahsKGqsJ",
        "outputId": "22b89512-b1c8-47df-a5d2-1b99229e11ea"
      },
      "execution_count": 23,
      "outputs": [
        {
          "output_type": "stream",
          "name": "stdout",
          "text": [
            "+-----+--------------+------------------------+-------------------+-----+------------------+\n",
            "|linea|estacion      |tipo_incidente          |hora               |label|prediction        |\n",
            "+-----+--------------+------------------------+-------------------+-----+------------------+\n",
            "|L3   |Plaza de Armas|Evacuación              |2025-09-01 14:45:00|10   |27.846107922754676|\n",
            "|L4A  |Ñuñoa         |Mantenimiento           |2025-09-01 06:45:00|20   |22.806726274901614|\n",
            "|L2   |Franklin      |Evacuación              |2025-09-01 13:30:00|15   |21.77001177212733 |\n",
            "|L3   |Irarrázaval   |Interrupción de servicio|2025-09-01 20:00:00|20   |17.853724331355835|\n",
            "|L1   |Plaza Egaña   |Evacuación              |2025-09-01 19:30:00|25   |23.777731259029828|\n",
            "|L2   |Los Dominicos |Mantenimiento           |2025-09-01 05:45:00|15   |20.91315543827809 |\n",
            "|L3   |Vicente Valdés|Falla eléctrica         |2025-09-01 21:15:00|20   |23.622305449009236|\n",
            "|L1   |Santa Ana     |Falla eléctrica         |2025-09-01 16:15:00|20   |24.044594971436442|\n",
            "|L3   |Franklin      |Interrupción de servicio|2025-09-01 09:45:00|25   |20.857454369923836|\n",
            "|L5   |Plaza de Maipú|Mantenimiento           |2025-09-01 06:30:00|30   |23.386416248674504|\n",
            "+-----+--------------+------------------------+-------------------+-----+------------------+\n",
            "only showing top 10 rows\n",
            "\n",
            "+-----+--------------+------------------------+-------------------+-----+------------------+\n",
            "|linea|estacion      |tipo_incidente          |hora               |label|prediction        |\n",
            "+-----+--------------+------------------------+-------------------+-----+------------------+\n",
            "|L3   |Plaza de Armas|Evacuación              |2025-09-01 14:45:00|10   |22.32758620689655 |\n",
            "|L4A  |Ñuñoa         |Mantenimiento           |2025-09-01 06:45:00|20   |23.6              |\n",
            "|L2   |Franklin      |Evacuación              |2025-09-01 13:30:00|15   |22.32758620689655 |\n",
            "|L3   |Irarrázaval   |Interrupción de servicio|2025-09-01 20:00:00|20   |15.0              |\n",
            "|L1   |Plaza Egaña   |Evacuación              |2025-09-01 19:30:00|25   |22.32758620689655 |\n",
            "|L2   |Los Dominicos |Mantenimiento           |2025-09-01 05:45:00|15   |23.6              |\n",
            "|L3   |Vicente Valdés|Falla eléctrica         |2025-09-01 21:15:00|20   |22.32758620689655 |\n",
            "|L1   |Santa Ana     |Falla eléctrica         |2025-09-01 16:15:00|20   |22.32758620689655 |\n",
            "|L3   |Franklin      |Interrupción de servicio|2025-09-01 09:45:00|25   |16.666666666666668|\n",
            "|L5   |Plaza de Maipú|Mantenimiento           |2025-09-01 06:30:00|30   |23.6              |\n",
            "+-----+--------------+------------------------+-------------------+-----+------------------+\n",
            "only showing top 10 rows\n",
            "\n"
          ]
        }
      ]
    },
    {
      "cell_type": "code",
      "source": [
        "df_duracion = df.select(\"duracion_minutos\").toPandas()\n",
        "df_duracion"
      ],
      "metadata": {
        "colab": {
          "base_uri": "https://localhost:8080/",
          "height": 424
        },
        "id": "o7ulDe4SKypk",
        "outputId": "203e4641-a2cd-432f-84af-02bbd55afd13"
      },
      "execution_count": 41,
      "outputs": [
        {
          "output_type": "execute_result",
          "data": {
            "text/plain": [
              "     duracion_minutos\n",
              "0                  20\n",
              "1                  15\n",
              "2                  10\n",
              "3                  25\n",
              "4                  30\n",
              "..                ...\n",
              "195                30\n",
              "196                20\n",
              "197                15\n",
              "198                25\n",
              "199                20\n",
              "\n",
              "[200 rows x 1 columns]"
            ],
            "text/html": [
              "\n",
              "  <div id=\"df-38c05f32-9b1b-4e24-b667-77cb76f1dfca\" class=\"colab-df-container\">\n",
              "    <div>\n",
              "<style scoped>\n",
              "    .dataframe tbody tr th:only-of-type {\n",
              "        vertical-align: middle;\n",
              "    }\n",
              "\n",
              "    .dataframe tbody tr th {\n",
              "        vertical-align: top;\n",
              "    }\n",
              "\n",
              "    .dataframe thead th {\n",
              "        text-align: right;\n",
              "    }\n",
              "</style>\n",
              "<table border=\"1\" class=\"dataframe\">\n",
              "  <thead>\n",
              "    <tr style=\"text-align: right;\">\n",
              "      <th></th>\n",
              "      <th>duracion_minutos</th>\n",
              "    </tr>\n",
              "  </thead>\n",
              "  <tbody>\n",
              "    <tr>\n",
              "      <th>0</th>\n",
              "      <td>20</td>\n",
              "    </tr>\n",
              "    <tr>\n",
              "      <th>1</th>\n",
              "      <td>15</td>\n",
              "    </tr>\n",
              "    <tr>\n",
              "      <th>2</th>\n",
              "      <td>10</td>\n",
              "    </tr>\n",
              "    <tr>\n",
              "      <th>3</th>\n",
              "      <td>25</td>\n",
              "    </tr>\n",
              "    <tr>\n",
              "      <th>4</th>\n",
              "      <td>30</td>\n",
              "    </tr>\n",
              "    <tr>\n",
              "      <th>...</th>\n",
              "      <td>...</td>\n",
              "    </tr>\n",
              "    <tr>\n",
              "      <th>195</th>\n",
              "      <td>30</td>\n",
              "    </tr>\n",
              "    <tr>\n",
              "      <th>196</th>\n",
              "      <td>20</td>\n",
              "    </tr>\n",
              "    <tr>\n",
              "      <th>197</th>\n",
              "      <td>15</td>\n",
              "    </tr>\n",
              "    <tr>\n",
              "      <th>198</th>\n",
              "      <td>25</td>\n",
              "    </tr>\n",
              "    <tr>\n",
              "      <th>199</th>\n",
              "      <td>20</td>\n",
              "    </tr>\n",
              "  </tbody>\n",
              "</table>\n",
              "<p>200 rows × 1 columns</p>\n",
              "</div>\n",
              "    <div class=\"colab-df-buttons\">\n",
              "\n",
              "  <div class=\"colab-df-container\">\n",
              "    <button class=\"colab-df-convert\" onclick=\"convertToInteractive('df-38c05f32-9b1b-4e24-b667-77cb76f1dfca')\"\n",
              "            title=\"Convert this dataframe to an interactive table.\"\n",
              "            style=\"display:none;\">\n",
              "\n",
              "  <svg xmlns=\"http://www.w3.org/2000/svg\" height=\"24px\" viewBox=\"0 -960 960 960\">\n",
              "    <path d=\"M120-120v-720h720v720H120Zm60-500h600v-160H180v160Zm220 220h160v-160H400v160Zm0 220h160v-160H400v160ZM180-400h160v-160H180v160Zm440 0h160v-160H620v160ZM180-180h160v-160H180v160Zm440 0h160v-160H620v160Z\"/>\n",
              "  </svg>\n",
              "    </button>\n",
              "\n",
              "  <style>\n",
              "    .colab-df-container {\n",
              "      display:flex;\n",
              "      gap: 12px;\n",
              "    }\n",
              "\n",
              "    .colab-df-convert {\n",
              "      background-color: #E8F0FE;\n",
              "      border: none;\n",
              "      border-radius: 50%;\n",
              "      cursor: pointer;\n",
              "      display: none;\n",
              "      fill: #1967D2;\n",
              "      height: 32px;\n",
              "      padding: 0 0 0 0;\n",
              "      width: 32px;\n",
              "    }\n",
              "\n",
              "    .colab-df-convert:hover {\n",
              "      background-color: #E2EBFA;\n",
              "      box-shadow: 0px 1px 2px rgba(60, 64, 67, 0.3), 0px 1px 3px 1px rgba(60, 64, 67, 0.15);\n",
              "      fill: #174EA6;\n",
              "    }\n",
              "\n",
              "    .colab-df-buttons div {\n",
              "      margin-bottom: 4px;\n",
              "    }\n",
              "\n",
              "    [theme=dark] .colab-df-convert {\n",
              "      background-color: #3B4455;\n",
              "      fill: #D2E3FC;\n",
              "    }\n",
              "\n",
              "    [theme=dark] .colab-df-convert:hover {\n",
              "      background-color: #434B5C;\n",
              "      box-shadow: 0px 1px 3px 1px rgba(0, 0, 0, 0.15);\n",
              "      filter: drop-shadow(0px 1px 2px rgba(0, 0, 0, 0.3));\n",
              "      fill: #FFFFFF;\n",
              "    }\n",
              "  </style>\n",
              "\n",
              "    <script>\n",
              "      const buttonEl =\n",
              "        document.querySelector('#df-38c05f32-9b1b-4e24-b667-77cb76f1dfca button.colab-df-convert');\n",
              "      buttonEl.style.display =\n",
              "        google.colab.kernel.accessAllowed ? 'block' : 'none';\n",
              "\n",
              "      async function convertToInteractive(key) {\n",
              "        const element = document.querySelector('#df-38c05f32-9b1b-4e24-b667-77cb76f1dfca');\n",
              "        const dataTable =\n",
              "          await google.colab.kernel.invokeFunction('convertToInteractive',\n",
              "                                                    [key], {});\n",
              "        if (!dataTable) return;\n",
              "\n",
              "        const docLinkHtml = 'Like what you see? Visit the ' +\n",
              "          '<a target=\"_blank\" href=https://colab.research.google.com/notebooks/data_table.ipynb>data table notebook</a>'\n",
              "          + ' to learn more about interactive tables.';\n",
              "        element.innerHTML = '';\n",
              "        dataTable['output_type'] = 'display_data';\n",
              "        await google.colab.output.renderOutput(dataTable, element);\n",
              "        const docLink = document.createElement('div');\n",
              "        docLink.innerHTML = docLinkHtml;\n",
              "        element.appendChild(docLink);\n",
              "      }\n",
              "    </script>\n",
              "  </div>\n",
              "\n",
              "\n",
              "    <div id=\"df-67dc0252-4b1e-4b3d-9232-c03bce821246\">\n",
              "      <button class=\"colab-df-quickchart\" onclick=\"quickchart('df-67dc0252-4b1e-4b3d-9232-c03bce821246')\"\n",
              "                title=\"Suggest charts\"\n",
              "                style=\"display:none;\">\n",
              "\n",
              "<svg xmlns=\"http://www.w3.org/2000/svg\" height=\"24px\"viewBox=\"0 0 24 24\"\n",
              "     width=\"24px\">\n",
              "    <g>\n",
              "        <path d=\"M19 3H5c-1.1 0-2 .9-2 2v14c0 1.1.9 2 2 2h14c1.1 0 2-.9 2-2V5c0-1.1-.9-2-2-2zM9 17H7v-7h2v7zm4 0h-2V7h2v10zm4 0h-2v-4h2v4z\"/>\n",
              "    </g>\n",
              "</svg>\n",
              "      </button>\n",
              "\n",
              "<style>\n",
              "  .colab-df-quickchart {\n",
              "      --bg-color: #E8F0FE;\n",
              "      --fill-color: #1967D2;\n",
              "      --hover-bg-color: #E2EBFA;\n",
              "      --hover-fill-color: #174EA6;\n",
              "      --disabled-fill-color: #AAA;\n",
              "      --disabled-bg-color: #DDD;\n",
              "  }\n",
              "\n",
              "  [theme=dark] .colab-df-quickchart {\n",
              "      --bg-color: #3B4455;\n",
              "      --fill-color: #D2E3FC;\n",
              "      --hover-bg-color: #434B5C;\n",
              "      --hover-fill-color: #FFFFFF;\n",
              "      --disabled-bg-color: #3B4455;\n",
              "      --disabled-fill-color: #666;\n",
              "  }\n",
              "\n",
              "  .colab-df-quickchart {\n",
              "    background-color: var(--bg-color);\n",
              "    border: none;\n",
              "    border-radius: 50%;\n",
              "    cursor: pointer;\n",
              "    display: none;\n",
              "    fill: var(--fill-color);\n",
              "    height: 32px;\n",
              "    padding: 0;\n",
              "    width: 32px;\n",
              "  }\n",
              "\n",
              "  .colab-df-quickchart:hover {\n",
              "    background-color: var(--hover-bg-color);\n",
              "    box-shadow: 0 1px 2px rgba(60, 64, 67, 0.3), 0 1px 3px 1px rgba(60, 64, 67, 0.15);\n",
              "    fill: var(--button-hover-fill-color);\n",
              "  }\n",
              "\n",
              "  .colab-df-quickchart-complete:disabled,\n",
              "  .colab-df-quickchart-complete:disabled:hover {\n",
              "    background-color: var(--disabled-bg-color);\n",
              "    fill: var(--disabled-fill-color);\n",
              "    box-shadow: none;\n",
              "  }\n",
              "\n",
              "  .colab-df-spinner {\n",
              "    border: 2px solid var(--fill-color);\n",
              "    border-color: transparent;\n",
              "    border-bottom-color: var(--fill-color);\n",
              "    animation:\n",
              "      spin 1s steps(1) infinite;\n",
              "  }\n",
              "\n",
              "  @keyframes spin {\n",
              "    0% {\n",
              "      border-color: transparent;\n",
              "      border-bottom-color: var(--fill-color);\n",
              "      border-left-color: var(--fill-color);\n",
              "    }\n",
              "    20% {\n",
              "      border-color: transparent;\n",
              "      border-left-color: var(--fill-color);\n",
              "      border-top-color: var(--fill-color);\n",
              "    }\n",
              "    30% {\n",
              "      border-color: transparent;\n",
              "      border-left-color: var(--fill-color);\n",
              "      border-top-color: var(--fill-color);\n",
              "      border-right-color: var(--fill-color);\n",
              "    }\n",
              "    40% {\n",
              "      border-color: transparent;\n",
              "      border-right-color: var(--fill-color);\n",
              "      border-top-color: var(--fill-color);\n",
              "    }\n",
              "    60% {\n",
              "      border-color: transparent;\n",
              "      border-right-color: var(--fill-color);\n",
              "    }\n",
              "    80% {\n",
              "      border-color: transparent;\n",
              "      border-right-color: var(--fill-color);\n",
              "      border-bottom-color: var(--fill-color);\n",
              "    }\n",
              "    90% {\n",
              "      border-color: transparent;\n",
              "      border-bottom-color: var(--fill-color);\n",
              "    }\n",
              "  }\n",
              "</style>\n",
              "\n",
              "      <script>\n",
              "        async function quickchart(key) {\n",
              "          const quickchartButtonEl =\n",
              "            document.querySelector('#' + key + ' button');\n",
              "          quickchartButtonEl.disabled = true;  // To prevent multiple clicks.\n",
              "          quickchartButtonEl.classList.add('colab-df-spinner');\n",
              "          try {\n",
              "            const charts = await google.colab.kernel.invokeFunction(\n",
              "                'suggestCharts', [key], {});\n",
              "          } catch (error) {\n",
              "            console.error('Error during call to suggestCharts:', error);\n",
              "          }\n",
              "          quickchartButtonEl.classList.remove('colab-df-spinner');\n",
              "          quickchartButtonEl.classList.add('colab-df-quickchart-complete');\n",
              "        }\n",
              "        (() => {\n",
              "          let quickchartButtonEl =\n",
              "            document.querySelector('#df-67dc0252-4b1e-4b3d-9232-c03bce821246 button');\n",
              "          quickchartButtonEl.style.display =\n",
              "            google.colab.kernel.accessAllowed ? 'block' : 'none';\n",
              "        })();\n",
              "      </script>\n",
              "    </div>\n",
              "\n",
              "  <div id=\"id_0d95b8c3-c349-4606-82dc-5a349a7f48b4\">\n",
              "    <style>\n",
              "      .colab-df-generate {\n",
              "        background-color: #E8F0FE;\n",
              "        border: none;\n",
              "        border-radius: 50%;\n",
              "        cursor: pointer;\n",
              "        display: none;\n",
              "        fill: #1967D2;\n",
              "        height: 32px;\n",
              "        padding: 0 0 0 0;\n",
              "        width: 32px;\n",
              "      }\n",
              "\n",
              "      .colab-df-generate:hover {\n",
              "        background-color: #E2EBFA;\n",
              "        box-shadow: 0px 1px 2px rgba(60, 64, 67, 0.3), 0px 1px 3px 1px rgba(60, 64, 67, 0.15);\n",
              "        fill: #174EA6;\n",
              "      }\n",
              "\n",
              "      [theme=dark] .colab-df-generate {\n",
              "        background-color: #3B4455;\n",
              "        fill: #D2E3FC;\n",
              "      }\n",
              "\n",
              "      [theme=dark] .colab-df-generate:hover {\n",
              "        background-color: #434B5C;\n",
              "        box-shadow: 0px 1px 3px 1px rgba(0, 0, 0, 0.15);\n",
              "        filter: drop-shadow(0px 1px 2px rgba(0, 0, 0, 0.3));\n",
              "        fill: #FFFFFF;\n",
              "      }\n",
              "    </style>\n",
              "    <button class=\"colab-df-generate\" onclick=\"generateWithVariable('df_duracion')\"\n",
              "            title=\"Generate code using this dataframe.\"\n",
              "            style=\"display:none;\">\n",
              "\n",
              "  <svg xmlns=\"http://www.w3.org/2000/svg\" height=\"24px\"viewBox=\"0 0 24 24\"\n",
              "       width=\"24px\">\n",
              "    <path d=\"M7,19H8.4L18.45,9,17,7.55,7,17.6ZM5,21V16.75L18.45,3.32a2,2,0,0,1,2.83,0l1.4,1.43a1.91,1.91,0,0,1,.58,1.4,1.91,1.91,0,0,1-.58,1.4L9.25,21ZM18.45,9,17,7.55Zm-12,3A5.31,5.31,0,0,0,4.9,8.1,5.31,5.31,0,0,0,1,6.5,5.31,5.31,0,0,0,4.9,4.9,5.31,5.31,0,0,0,6.5,1,5.31,5.31,0,0,0,8.1,4.9,5.31,5.31,0,0,0,12,6.5,5.46,5.46,0,0,0,6.5,12Z\"/>\n",
              "  </svg>\n",
              "    </button>\n",
              "    <script>\n",
              "      (() => {\n",
              "      const buttonEl =\n",
              "        document.querySelector('#id_0d95b8c3-c349-4606-82dc-5a349a7f48b4 button.colab-df-generate');\n",
              "      buttonEl.style.display =\n",
              "        google.colab.kernel.accessAllowed ? 'block' : 'none';\n",
              "\n",
              "      buttonEl.onclick = () => {\n",
              "        google.colab.notebook.generateWithVariable('df_duracion');\n",
              "      }\n",
              "      })();\n",
              "    </script>\n",
              "  </div>\n",
              "\n",
              "    </div>\n",
              "  </div>\n"
            ],
            "application/vnd.google.colaboratory.intrinsic+json": {
              "type": "dataframe",
              "variable_name": "df_duracion",
              "summary": "{\n  \"name\": \"df_duracion\",\n  \"rows\": 200,\n  \"fields\": [\n    {\n      \"column\": \"duracion_minutos\",\n      \"properties\": {\n        \"dtype\": \"int32\",\n        \"num_unique_values\": 6,\n        \"samples\": [\n          20,\n          15,\n          35\n        ],\n        \"semantic_type\": \"\",\n        \"description\": \"\"\n      }\n    }\n  ]\n}"
            }
          },
          "metadata": {},
          "execution_count": 41
        }
      ]
    },
    {
      "cell_type": "code",
      "source": [
        "plt.scatter(range(len(df_duracion)),df_duracion[\"duracion_minutos\"])\n",
        "plt.xlabel(\"Label\")\n",
        "plt.ylabel(\"Prediction\")"
      ],
      "metadata": {
        "colab": {
          "base_uri": "https://localhost:8080/",
          "height": 466
        },
        "id": "71COYKsTHtjs",
        "outputId": "653f6a27-c286-4907-9168-ccd87d1555df"
      },
      "execution_count": 43,
      "outputs": [
        {
          "output_type": "execute_result",
          "data": {
            "text/plain": [
              "Text(0, 0.5, 'Prediction')"
            ]
          },
          "metadata": {},
          "execution_count": 43
        },
        {
          "output_type": "display_data",
          "data": {
            "text/plain": [
              "<Figure size 640x480 with 1 Axes>"
            ],
            "image/png": "[encoded data removed]"
          },
          "metadata": {}
        }
      ]
    },
    {
      "cell_type": "markdown",
      "source": [
        "#### Acá se ve claramente que los datos al no ser continuos, no tienen una forma determinada de distribución, de hecho no se ajusta a ninguna distribución conocida a simple vista"
      ],
      "metadata": {
        "id": "04lyyiYVMm1u"
      }
    },
    {
      "cell_type": "code",
      "source": [],
      "metadata": {
        "id": "I_0pwoSJJmZP"
      },
      "execution_count": null,
      "outputs": []
    }
  ]
}