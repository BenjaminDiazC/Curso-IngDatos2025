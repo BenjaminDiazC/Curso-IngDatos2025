{
 "cells": [
  {
   "cell_type": "markdown",
   "id": "d708adad",
   "metadata": {},
   "source": [
    "\n",
    "# Clasificación con Random Forest Classifier — **Producción Alta vs Baja**\n",
    "\n",
    "En este cuaderno convertimos el problema agrícola en **clasificación binaria**:  \n",
    "- **1 = Producción Alta**  \n",
    "- **0 = Producción Baja**  \n",
    "\n",
    "Se usa un **Random Forest Classifier** con preprocesamiento de variables numéricas y categóricas.\n"
   ]
  },
  {
   "cell_type": "markdown",
   "id": "72722bde",
   "metadata": {},
   "source": [
    "\n",
    "## Paso 0 · Requisitos\n",
    "- Archivo: `1. datos_agricolas.xlsx`, hoja `Inicio`\n",
    "- Librerías: `pandas`, `scikit-learn`, `matplotlib`\n",
    "- Target binario creado a partir de la **mediana de Producción_Ton**\n"
   ]
  },
  {
   "cell_type": "code",
   "execution_count": null,
   "id": "14d9abd1",
   "metadata": {},
   "outputs": [],
   "source": [
    "\n",
    "import pandas as pd\n",
    "import numpy as np\n",
    "\n",
    "from sklearn.model_selection import train_test_split\n",
    "from sklearn.compose import ColumnTransformer\n",
    "from sklearn.preprocessing import OneHotEncoder, StandardScaler\n",
    "from sklearn.impute import SimpleImputer\n",
    "from sklearn.pipeline import Pipeline\n",
    "from sklearn.ensemble import RandomForestClassifier\n",
    "from sklearn.metrics import accuracy_score, classification_report, confusion_matrix\n",
    "import matplotlib.pyplot as plt\n",
    "import seaborn as sns\n"
   ]
  },
  {
   "cell_type": "markdown",
   "id": "47f1a070",
   "metadata": {},
   "source": [
    "\n",
    "## Paso 1 · Cargar datos y crear variable objetivo binaria\n",
    "Se define `Produccion_Alta` en base a la mediana de `Producción_Ton`.\n"
   ]
  },
  {
   "cell_type": "code",
   "execution_count": null,
   "id": "37a5ddc4",
   "metadata": {},
   "outputs": [],
   "source": [
    "\n",
    "file_path = \"1. datos_agricolas.xlsx\"  # Ajusta ruta si es necesario\n",
    "df = pd.read_excel(file_path, sheet_name=\"Inicio\")\n",
    "\n",
    "# Crear variable objetivo binaria\n",
    "threshold = df[\"Producción_Ton\"].median()\n",
    "df[\"Produccion_Alta\"] = (df[\"Producción_Ton\"] > threshold).astype(int)\n",
    "\n",
    "df[[\"Producción_Ton\", \"Produccion_Alta\"]].head()\n"
   ]
  },
  {
   "cell_type": "markdown",
   "id": "ea50ae18",
   "metadata": {},
   "source": [
    "\n",
    "## Paso 2 · Selección de variables predictoras y división Train/Test\n",
    "- Target: `Produccion_Alta`  \n",
    "- Features: `Año`, `Mes`, `Región`, `Cultivo`, `Superficie_Ha`, `Precio_Ton`, `Costos_Insumos`\n"
   ]
  },
  {
   "cell_type": "code",
   "execution_count": null,
   "id": "4fb9b105",
   "metadata": {},
   "outputs": [],
   "source": [
    "\n",
    "target_col = \"Produccion_Alta\"\n",
    "feature_cols = [\"Año\", \"Mes\", \"Región\", \"Cultivo\", \"Superficie_Ha\", \"Precio_Ton\", \"Costos_Insumos\"]\n",
    "\n",
    "X = df[feature_cols]\n",
    "y = df[target_col]\n",
    "\n",
    "X_train, X_test, y_train, y_test = train_test_split(\n",
    "    X, y, test_size=0.2, random_state=42, stratify=y\n",
    ")\n",
    "\n",
    "len(X_train), len(X_test), y.value_counts()\n"
   ]
  },
  {
   "cell_type": "markdown",
   "id": "86338600",
   "metadata": {},
   "source": [
    "\n",
    "## Paso 3 · Preprocesamiento\n",
    "Se aplican transformaciones según el tipo de variable:\n",
    "- Numéricas: imputación por mediana + escalado\n",
    "- Categóricas: imputación por moda + one-hot encoding\n"
   ]
  },
  {
   "cell_type": "code",
   "execution_count": null,
   "id": "8fdc4997",
   "metadata": {},
   "outputs": [],
   "source": [
    "\n",
    "numeric_features = [\"Año\", \"Mes\", \"Superficie_Ha\", \"Precio_Ton\", \"Costos_Insumos\"]\n",
    "categorical_features = [\"Región\", \"Cultivo\"]\n",
    "\n",
    "numeric_transformer = Pipeline(steps=[\n",
    "    (\"imputer\", SimpleImputer(strategy=\"median\")),\n",
    "    (\"scaler\", StandardScaler())\n",
    "])\n",
    "\n",
    "categorical_transformer = Pipeline(steps=[\n",
    "    (\"imputer\", SimpleImputer(strategy=\"most_frequent\")),\n",
    "    (\"onehot\", OneHotEncoder(handle_unknown=\"ignore\"))\n",
    "])\n",
    "\n",
    "preprocessor = ColumnTransformer(\n",
    "    transformers=[\n",
    "        (\"num\", numeric_transformer, numeric_features),\n",
    "        (\"cat\", categorical_transformer, categorical_features),\n",
    "    ]\n",
    ")\n"
   ]
  },
  {
   "cell_type": "markdown",
   "id": "174e56ff",
   "metadata": {},
   "source": [
    "\n",
    "## Paso 4 · Entrenamiento del **Random Forest Classifier**\n",
    "Se usa un bosque de 300 árboles.\n"
   ]
  },
  {
   "cell_type": "code",
   "execution_count": null,
   "id": "3ab822c5",
   "metadata": {},
   "outputs": [],
   "source": [
    "\n",
    "clf = Pipeline(steps=[\n",
    "    (\"preprocessor\", preprocessor),\n",
    "    (\"model\", RandomForestClassifier(n_estimators=300, random_state=42, n_jobs=-1))\n",
    "])\n",
    "\n",
    "clf.fit(X_train, y_train)\n",
    "y_pred = clf.predict(X_test)\n"
   ]
  },
  {
   "cell_type": "markdown",
   "id": "478a5dce",
   "metadata": {},
   "source": [
    "\n",
    "## Paso 5 · Evaluación del modelo\n",
    "- Métricas: Accuracy, reporte de clasificación, matriz de confusión.\n"
   ]
  },
  {
   "cell_type": "code",
   "execution_count": null,
   "id": "3be32af2",
   "metadata": {},
   "outputs": [],
   "source": [
    "\n",
    "acc = accuracy_score(y_test, y_pred)\n",
    "print(f\"Accuracy: {acc:.3f}\\n\")\n",
    "\n",
    "print(\"Reporte de Clasificación:\")\n",
    "print(classification_report(y_test, y_pred))\n",
    "\n",
    "cm = confusion_matrix(y_test, y_pred)\n",
    "sns.heatmap(cm, annot=True, fmt=\"d\", cmap=\"Blues\", xticklabels=[\"Baja\",\"Alta\"], yticklabels=[\"Baja\",\"Alta\"])\n",
    "plt.xlabel(\"Predicción\")\n",
    "plt.ylabel(\"Real\")\n",
    "plt.title(\"Matriz de Confusión\")\n",
    "plt.show()\n"
   ]
  },
  {
   "cell_type": "markdown",
   "id": "1c482798",
   "metadata": {},
   "source": [
    "\n",
    "## Paso 6 · Importancia de variables\n"
   ]
  },
  {
   "cell_type": "code",
   "execution_count": null,
   "id": "664264a1",
   "metadata": {},
   "outputs": [],
   "source": [
    "\n",
    "# Recuperar nombres de features tras el one-hot\n",
    "ohe = clf.named_steps[\"preprocessor\"].named_transformers_[\"cat\"].named_steps[\"onehot\"]\n",
    "cat_names = list(ohe.get_feature_names_out(categorical_features))\n",
    "num_names = numeric_features\n",
    "all_features = num_names + cat_names\n",
    "\n",
    "rf = clf.named_steps[\"model\"]\n",
    "importances = rf.feature_importances_\n",
    "\n",
    "imp_df = pd.DataFrame({\"feature\": all_features, \"importance\": importances})\\\n",
    "          .sort_values(\"importance\", ascending=False)\n",
    "\n",
    "imp_df.head(15)\n"
   ]
  },
  {
   "cell_type": "code",
   "execution_count": null,
   "id": "dc237089",
   "metadata": {},
   "outputs": [],
   "source": [
    "\n",
    "plt.figure(figsize=(8,6))\n",
    "plt.barh(imp_df[\"feature\"].head(15)[::-1], imp_df[\"importance\"].head(15)[::-1])\n",
    "plt.xlabel(\"Importancia\")\n",
    "plt.title(\"Importancias de características (Top 15)\")\n",
    "plt.tight_layout()\n",
    "plt.show()\n"
   ]
  },
  {
   "cell_type": "markdown",
   "id": "15cb73ae",
   "metadata": {},
   "source": [
    "\n",
    "## Paso 7 · Conclusiones\n",
    "- El problema se transformó en clasificación binaria (Alta vs Baja Producción).  \n",
    "- Random Forest entrega métricas de exactitud y muestra qué variables son más relevantes para predecir.  \n",
    "- Próximos pasos: ajustar hiperparámetros, probar clasificación multiclase (por cultivo o región), o balancear clases si son desiguales.\n"
   ]
  }
 ],
 "metadata": {
  "kernelspec": {
   "display_name": "Python 3",
   "language": "python",
   "name": "python3"
  },
  "language_info": {
   "name": "python",
   "version": "3.10.0"
  }
 },
 "nbformat": 4,
 "nbformat_minor": 5
}
