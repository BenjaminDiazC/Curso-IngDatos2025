{
  "nbformat": 4,
  "nbformat_minor": 0,
  "metadata": {
    "colab": {
      "provenance": []
    },
    "kernelspec": {
      "name": "python3",
      "display_name": "Python 3"
    },
    "language_info": {
      "name": "python"
    }
  },
  "cells": [
    {
      "cell_type": "code",
      "execution_count": 1,
      "metadata": {
        "id": "othSvx-xTGtR"
      },
      "outputs": [],
      "source": [
        "# 1 Paso - Instalar PySpark en el Contexto de Colab (si es que no está instalado)\n",
        "!pip install -q PySpark"
      ]
    },
    {
      "cell_type": "code",
      "source": [
        "# 2 Paso - Conectarme y crear la sesión en Apache Spark (SparkSession)\n",
        "from pyspark.sql import SparkSession\n",
        "# Crear la sesión\n",
        "spark = SparkSession.builder.appName(\"ProyectoMetroSantiago\").config(\"spark.executor.memory\",\"1g\").config(\"spark.driver.memory\",\"1g\").config(\"spark.sql.shuffle.partitions\",\"2\").getOrCreate()"
      ],
      "metadata": {
        "id": "kPZ-hyW7Tkqz"
      },
      "execution_count": 3,
      "outputs": []
    },
    {
      "cell_type": "code",
      "source": [
        "# Cargar el CSV en un DF (asegurarse de subir antes el archivo a la carpeta interna de recursos)\n",
        "df = spark.read.csv(\"metro_santiago.csv\",header=True,inferSchema=True)\n",
        "\n",
        "#Explrar este DF (Apache Spark) con show\n",
        "df.show()"
      ],
      "metadata": {
        "colab": {
          "base_uri": "https://localhost:8080/"
        },
        "id": "Tq17SqhHVbL8",
        "outputId": "c0655cba-4adf-4543-f663-707782047042"
      },
      "execution_count": 5,
      "outputs": [
        {
          "output_type": "stream",
          "name": "stdout",
          "text": [
            "+---------+-----+--------------+--------------------+----------------+-------------------+\n",
            "|id_evento|línea|      estación|      tipo_incidente|duración_minutos|               hora|\n",
            "+---------+-----+--------------+--------------------+----------------+-------------------+\n",
            "|        1|   L2|      Lo Prado|     Falla eléctrica|              15|2025-08-23 11:45:00|\n",
            "|        2|   L5|   Irarrázaval|          Evacuación|              15|2025-08-23 20:00:00|\n",
            "|        3|   L4|     San Pablo|     Falla eléctrica|              25|2025-08-23 19:00:00|\n",
            "|        4|   L1|      Lo Prado|     Falla eléctrica|              30|2025-08-23 05:45:00|\n",
            "|        5|   L3|   Irarrázaval|     Falla eléctrica|              20|2025-08-23 08:00:00|\n",
            "|        6|   L2|    Los Leones|       Mantenimiento|              30|2025-08-23 17:00:00|\n",
            "|        7|   L3|         Ñuñoa|       Mantenimiento|               5|2025-08-23 12:30:00|\n",
            "|        8|   L1|    Los Héroes|     Falla eléctrica|              30|2025-08-23 08:30:00|\n",
            "|        9|   L3|      Tobalaba|          Evacuación|              25|2025-08-23 16:15:00|\n",
            "|       10|  L4A| Los Dominicos|Interrupción de s...|              30|2025-08-23 16:45:00|\n",
            "|       11|   L2|   Plaza Egaña|          Evacuación|              10|2025-08-23 12:15:00|\n",
            "|       12|   L1|     Cerrillos|     Falla eléctrica|              30|2025-08-23 12:30:00|\n",
            "|       13|   L5|    Los Héroes|     Falla eléctrica|               5|2025-08-23 17:00:00|\n",
            "|       14|   L5|     Pajaritos|       Mantenimiento|              15|2025-08-23 13:30:00|\n",
            "|       15|   L4|    Los Héroes|          Evacuación|              30|2025-08-23 15:15:00|\n",
            "|       16|   L5|     Baquedano|       Mantenimiento|              10|2025-08-23 20:45:00|\n",
            "|       17|   L1|Vicente Valdés|     Falla eléctrica|              25|2025-08-23 20:15:00|\n",
            "|       18|   L3|   Irarrázaval|          Evacuación|              10|2025-08-23 05:30:00|\n",
            "|       19|   L5|     San Pablo|     Falla eléctrica|              10|2025-08-23 17:30:00|\n",
            "|       20|   L5|    Los Héroes|Interrupción de s...|              15|2025-08-23 11:30:00|\n",
            "+---------+-----+--------------+--------------------+----------------+-------------------+\n",
            "only showing top 20 rows\n",
            "\n"
          ]
        }
      ]
    },
    {
      "cell_type": "code",
      "source": [
        "# Transformar el df a RDD\n",
        "rdd = df.rdd\n",
        "\n",
        "# Mostrar algunos registros del RDD\n",
        "rdd.take(5)"
      ],
      "metadata": {
        "colab": {
          "base_uri": "https://localhost:8080/"
        },
        "id": "cUKsv3L4Wflq",
        "outputId": "1e6caf68-c7b2-4022-bcdd-cb02a2c281a4"
      },
      "execution_count": 7,
      "outputs": [
        {
          "output_type": "execute_result",
          "data": {
            "text/plain": [
              "[Row(id_evento=1, línea='L2', estación='Lo Prado', tipo_incidente='Falla eléctrica', duración_minutos=15, hora=datetime.datetime(2025, 8, 23, 11, 45)),\n",
              " Row(id_evento=2, línea='L5', estación='Irarrázaval', tipo_incidente='Evacuación', duración_minutos=15, hora=datetime.datetime(2025, 8, 23, 20, 0)),\n",
              " Row(id_evento=3, línea='L4', estación='San Pablo', tipo_incidente='Falla eléctrica', duración_minutos=25, hora=datetime.datetime(2025, 8, 23, 19, 0)),\n",
              " Row(id_evento=4, línea='L1', estación='Lo Prado', tipo_incidente='Falla eléctrica', duración_minutos=30, hora=datetime.datetime(2025, 8, 23, 5, 45)),\n",
              " Row(id_evento=5, línea='L3', estación='Irarrázaval', tipo_incidente='Falla eléctrica', duración_minutos=20, hora=datetime.datetime(2025, 8, 23, 8, 0))]"
            ]
          },
          "metadata": {},
          "execution_count": 7
        }
      ]
    },
    {
      "cell_type": "code",
      "source": [
        "# Almacenar \"in .memory\" (en memoria cache) nuestro RDD para utilizarlo varias veces\n",
        "rdd.cache()"
      ],
      "metadata": {
        "colab": {
          "base_uri": "https://localhost:8080/"
        },
        "id": "iYjGe_KZXbTB",
        "outputId": "44def5a7-e3a0-44e9-afc6-df4a604ca66b"
      },
      "execution_count": 8,
      "outputs": [
        {
          "output_type": "execute_result",
          "data": {
            "text/plain": [
              "MapPartitionsRDD[28] at javaToPython at NativeMethodAccessorImpl.java:0"
            ]
          },
          "metadata": {},
          "execution_count": 8
        }
      ]
    },
    {
      "cell_type": "code",
      "source": [
        "# Ver cuantas particiones tiene nuestro RDD\n",
        "rdd.getNumPartitions()"
      ],
      "metadata": {
        "colab": {
          "base_uri": "https://localhost:8080/"
        },
        "id": "eiVyw7tzXwPy",
        "outputId": "3b2bcf60-869e-42a7-987f-adeb55f7daea"
      },
      "execution_count": 9,
      "outputs": [
        {
          "output_type": "execute_result",
          "data": {
            "text/plain": [
              "1"
            ]
          },
          "metadata": {},
          "execution_count": 9
        }
      ]
    },
    {
      "cell_type": "code",
      "source": [
        "# Reparticionar nuestro RDD en 4 particiones\n",
        "rdd_repartido = rdd.repartition(4)\n",
        "\n",
        "rdd_repartido.getNumPartitions()"
      ],
      "metadata": {
        "colab": {
          "base_uri": "https://localhost:8080/"
        },
        "id": "n__EGnlUYf0d",
        "outputId": "29818185-0dda-4882-824a-13792e2d3ee6"
      },
      "execution_count": 10,
      "outputs": [
        {
          "output_type": "execute_result",
          "data": {
            "text/plain": [
              "4"
            ]
          },
          "metadata": {},
          "execution_count": 10
        }
      ]
    },
    {
      "cell_type": "code",
      "source": [
        "# Transformaciones - Son operaciones a realizar en el RDD que lo afectan, cerando un nuevo objeto RDD\n",
        "rdd_filtrado = rdd.filter(lambda row: int(row['duración_minutos']) > 20)\n",
        "\n",
        "rdd_filtrado.take(5)"
      ],
      "metadata": {
        "colab": {
          "base_uri": "https://localhost:8080/"
        },
        "id": "Qe9cJlOQY1LZ",
        "outputId": "88f208b1-7fe0-4547-882a-faa25da9d9e0"
      },
      "execution_count": 11,
      "outputs": [
        {
          "output_type": "execute_result",
          "data": {
            "text/plain": [
              "[Row(id_evento=3, línea='L4', estación='San Pablo', tipo_incidente='Falla eléctrica', duración_minutos=25, hora=datetime.datetime(2025, 8, 23, 19, 0)),\n",
              " Row(id_evento=4, línea='L1', estación='Lo Prado', tipo_incidente='Falla eléctrica', duración_minutos=30, hora=datetime.datetime(2025, 8, 23, 5, 45)),\n",
              " Row(id_evento=6, línea='L2', estación='Los Leones', tipo_incidente='Mantenimiento', duración_minutos=30, hora=datetime.datetime(2025, 8, 23, 17, 0)),\n",
              " Row(id_evento=8, línea='L1', estación='Los Héroes', tipo_incidente='Falla eléctrica', duración_minutos=30, hora=datetime.datetime(2025, 8, 23, 8, 30)),\n",
              " Row(id_evento=9, línea='L3', estación='Tobalaba', tipo_incidente='Evacuación', duración_minutos=25, hora=datetime.datetime(2025, 8, 23, 16, 15))]"
            ]
          },
          "metadata": {},
          "execution_count": 11
        }
      ]
    },
    {
      "cell_type": "code",
      "source": [
        "# TRANSFORMACIÓN - FILTER: aplica un filtro o modifica el RDD en base a un criterio lógico\n",
        "rdd_evacuaciones = rdd.filter(lambda row: row['tipo_incidente'] == 'Evacuación')\n",
        "rdd_evacuaciones.take(5)"
      ],
      "metadata": {
        "colab": {
          "base_uri": "https://localhost:8080/"
        },
        "id": "p1rlZ0hsaez2",
        "outputId": "0f8c7209-4718-4c89-92b7-30a0c0b82c24"
      },
      "execution_count": 12,
      "outputs": [
        {
          "output_type": "execute_result",
          "data": {
            "text/plain": [
              "[Row(id_evento=2, línea='L5', estación='Irarrázaval', tipo_incidente='Evacuación', duración_minutos=15, hora=datetime.datetime(2025, 8, 23, 20, 0)),\n",
              " Row(id_evento=9, línea='L3', estación='Tobalaba', tipo_incidente='Evacuación', duración_minutos=25, hora=datetime.datetime(2025, 8, 23, 16, 15)),\n",
              " Row(id_evento=11, línea='L2', estación='Plaza Egaña', tipo_incidente='Evacuación', duración_minutos=10, hora=datetime.datetime(2025, 8, 23, 12, 15)),\n",
              " Row(id_evento=15, línea='L4', estación='Los Héroes', tipo_incidente='Evacuación', duración_minutos=30, hora=datetime.datetime(2025, 8, 23, 15, 15)),\n",
              " Row(id_evento=18, línea='L3', estación='Irarrázaval', tipo_incidente='Evacuación', duración_minutos=10, hora=datetime.datetime(2025, 8, 23, 5, 30))]"
            ]
          },
          "metadata": {},
          "execution_count": 12
        }
      ]
    },
    {
      "cell_type": "code",
      "source": [
        "# TRANSFORMACIÓN - MAP: Función que aplica a cada elemento del RDD y devuelve uno nuevo transformado\n",
        "rdd_estaciones_mayusculas = rdd.map(lambda row: row['estación'].upper())\n",
        "rdd_estaciones_mayusculas.take(5)"
      ],
      "metadata": {
        "colab": {
          "base_uri": "https://localhost:8080/"
        },
        "id": "pYVi0kVIbwWL",
        "outputId": "c62d1932-7ea3-40ed-aa79-c4c2741ba164"
      },
      "execution_count": 13,
      "outputs": [
        {
          "output_type": "execute_result",
          "data": {
            "text/plain": [
              "['LO PRADO', 'IRARRÁZAVAL', 'SAN PABLO', 'LO PRADO', 'IRARRÁZAVAL']"
            ]
          },
          "metadata": {},
          "execution_count": 13
        }
      ]
    },
    {
      "cell_type": "code",
      "source": [
        "# TRANSFORMACIÓN - FLATMAP: Función que, como map(),permite devolver elementos transformados pero varios de una sola entrada\n",
        "rdd_estaciones = rdd.map(lambda row: row['estación'])\n",
        "palabras = rdd_estaciones.flatMap(lambda x: x.split(\" \"))\n",
        "palabras.take(5)"
      ],
      "metadata": {
        "colab": {
          "base_uri": "https://localhost:8080/"
        },
        "id": "XF7kSTc8cpVa",
        "outputId": "21c3fa25-59b5-42e0-d720-eedac70bc562"
      },
      "execution_count": 15,
      "outputs": [
        {
          "output_type": "execute_result",
          "data": {
            "text/plain": [
              "['Lo', 'Prado', 'Irarrázaval', 'San', 'Pablo']"
            ]
          },
          "metadata": {},
          "execution_count": 15
        }
      ]
    },
    {
      "cell_type": "code",
      "source": [
        "# TRANSFORMACIÓN - SAMPLE: Permite extraer una muestra aleatoria del RDD\n",
        "rdd_muestra = rdd.sample(seed=42,fraction=0.3,withReplacement=False)\n",
        "rdd_muestra.take(5)"
      ],
      "metadata": {
        "colab": {
          "base_uri": "https://localhost:8080/"
        },
        "id": "yvhUfzh2dJd9",
        "outputId": "3dd4ddb8-4446-41d9-d245-070ecf7cbdce"
      },
      "execution_count": 20,
      "outputs": [
        {
          "output_type": "execute_result",
          "data": {
            "text/plain": [
              "[Row(id_evento=10, línea='L4A', estación='Los Dominicos', tipo_incidente='Interrupción de servicio', duración_minutos=30, hora=datetime.datetime(2025, 8, 23, 16, 45)),\n",
              " Row(id_evento=11, línea='L2', estación='Plaza Egaña', tipo_incidente='Evacuación', duración_minutos=10, hora=datetime.datetime(2025, 8, 23, 12, 15)),\n",
              " Row(id_evento=14, línea='L5', estación='Pajaritos', tipo_incidente='Mantenimiento', duración_minutos=15, hora=datetime.datetime(2025, 8, 23, 13, 30)),\n",
              " Row(id_evento=17, línea='L1', estación='Vicente Valdés', tipo_incidente='Falla eléctrica', duración_minutos=25, hora=datetime.datetime(2025, 8, 23, 20, 15)),\n",
              " Row(id_evento=18, línea='L3', estación='Irarrázaval', tipo_incidente='Evacuación', duración_minutos=10, hora=datetime.datetime(2025, 8, 23, 5, 30))]"
            ]
          },
          "metadata": {},
          "execution_count": 20
        }
      ]
    },
    {
      "cell_type": "code",
      "source": [
        "# TRANSFORMACIÓN - UNION: Une 2 RDDs (sin eliminar duplicados)\n",
        "rdd_duplicado = rdd.filter(lambda row: row['tipo_incidente'] == \"Falla eléctrica\")\n",
        "rdd_unido = rdd_evacuaciones.union(rdd_duplicado)\n",
        "rdd_unido.take(5)"
      ],
      "metadata": {
        "colab": {
          "base_uri": "https://localhost:8080/"
        },
        "id": "qfdj9RhWdvEA",
        "outputId": "cb36754d-0677-4414-9d5f-61a2c41d0831"
      },
      "execution_count": 21,
      "outputs": [
        {
          "output_type": "execute_result",
          "data": {
            "text/plain": [
              "[Row(id_evento=2, línea='L5', estación='Irarrázaval', tipo_incidente='Evacuación', duración_minutos=15, hora=datetime.datetime(2025, 8, 23, 20, 0)),\n",
              " Row(id_evento=9, línea='L3', estación='Tobalaba', tipo_incidente='Evacuación', duración_minutos=25, hora=datetime.datetime(2025, 8, 23, 16, 15)),\n",
              " Row(id_evento=11, línea='L2', estación='Plaza Egaña', tipo_incidente='Evacuación', duración_minutos=10, hora=datetime.datetime(2025, 8, 23, 12, 15)),\n",
              " Row(id_evento=15, línea='L4', estación='Los Héroes', tipo_incidente='Evacuación', duración_minutos=30, hora=datetime.datetime(2025, 8, 23, 15, 15)),\n",
              " Row(id_evento=18, línea='L3', estación='Irarrázaval', tipo_incidente='Evacuación', duración_minutos=10, hora=datetime.datetime(2025, 8, 23, 5, 30))]"
            ]
          },
          "metadata": {},
          "execution_count": 21
        }
      ]
    },
    {
      "cell_type": "code",
      "source": [
        "# TRANSFORMACIÓN - DISTINCT: Elimina los duplicados (igual que SQL)\n",
        "rdd_estaciones_distintas = rdd.map(lambda row: row['estación']).distinct()\n",
        "rdd_estaciones_distintas.take(5)"
      ],
      "metadata": {
        "colab": {
          "base_uri": "https://localhost:8080/"
        },
        "id": "nthZXTkxfYLt",
        "outputId": "4b26a7a0-45da-45ed-be39-3dd8fe8b6278"
      },
      "execution_count": 22,
      "outputs": [
        {
          "output_type": "execute_result",
          "data": {
            "text/plain": [
              "['Lo Prado', 'Irarrázaval', 'San Pablo', 'Los Leones', 'Ñuñoa']"
            ]
          },
          "metadata": {},
          "execution_count": 22
        }
      ]
    },
    {
      "cell_type": "code",
      "source": [
        "# TRANSFORMACIÓN - SORTBY: Ordena los elementos segun criterio\n",
        "rdd_ordenado = rdd.sortBy(lambda row: int(row['duración_minutos']))\n",
        "rdd_ordenado.take(5)"
      ],
      "metadata": {
        "colab": {
          "base_uri": "https://localhost:8080/"
        },
        "id": "z6WDYO9sfrnD",
        "outputId": "1497cbb5-f34c-45f2-b21f-e6d61c580429"
      },
      "execution_count": 23,
      "outputs": [
        {
          "output_type": "execute_result",
          "data": {
            "text/plain": [
              "[Row(id_evento=7, línea='L3', estación='Ñuñoa', tipo_incidente='Mantenimiento', duración_minutos=5, hora=datetime.datetime(2025, 8, 23, 12, 30)),\n",
              " Row(id_evento=13, línea='L5', estación='Los Héroes', tipo_incidente='Falla eléctrica', duración_minutos=5, hora=datetime.datetime(2025, 8, 23, 17, 0)),\n",
              " Row(id_evento=24, línea='L5', estación='Pajaritos', tipo_incidente='Mantenimiento', duración_minutos=5, hora=datetime.datetime(2025, 8, 23, 9, 15)),\n",
              " Row(id_evento=25, línea='L2', estación='Tobalaba', tipo_incidente='Falla eléctrica', duración_minutos=5, hora=datetime.datetime(2025, 8, 23, 23, 15)),\n",
              " Row(id_evento=40, línea='L5', estación='Los Dominicos', tipo_incidente='Evacuación', duración_minutos=5, hora=datetime.datetime(2025, 8, 23, 18, 45))]"
            ]
          },
          "metadata": {},
          "execution_count": 23
        }
      ]
    },
    {
      "cell_type": "code",
      "source": [],
      "metadata": {
        "id": "7pInWo_9f4_I"
      },
      "execution_count": null,
      "outputs": []
    }
  ]
}