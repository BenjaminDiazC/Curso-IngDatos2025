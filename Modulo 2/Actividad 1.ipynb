{
 "cells": [
  {
   "cell_type": "markdown",
   "id": "03310321",
   "metadata": {},
   "source": [
    "### Actividad 1"
   ]
  },
  {
   "cell_type": "code",
   "execution_count": 2,
   "id": "2a3c80c5",
   "metadata": {},
   "outputs": [],
   "source": [
    "def resta(n1,n2):\n",
    "    total=n1-n2\n",
    "    return total\n",
    "def suma(n1,n2):\n",
    "    total=n1+n2\n",
    "    return total\n",
    "def multiplicacion(n1,n2):\n",
    "    total=n1*n2\n",
    "    return total\n",
    "def division(n1,n2):\n",
    "    total=n1/n2\n",
    "    return total\n",
    "\n",
    "\n",
    "def calculadora():\n",
    "    operaciones=[\"suma\",\"resta\",\"division\",\"multiplicacion\"]\n",
    "    operacion=input(\"Que operación desea hacer? (suma, multiplicacion, division, resta): \")\n",
    "    if operacion in operaciones:\n",
    "        n1=float(input(\"Ingrese el número 1: \"))\n",
    "        n2=float(input(\"Ingrese el número 2: \"))\n",
    "        if operacion==\"resta\":\n",
    "            total=resta(n1,n2)\n",
    "        elif operacion==\"suma\":\n",
    "            total=suma(n1,n2)\n",
    "        elif operacion==\"multiplicacion\":\n",
    "            total=multiplicacion(n1,n2)\n",
    "        elif operacion==\"division\":\n",
    "            if n2!=0:\n",
    "                total=division(n1,n2)\n",
    "            else:\n",
    "                total=print(\"No se puede dividir por 0\")\n",
    "    else:\n",
    "        total=print(\"Operación no valida\")\n",
    "    return total"
   ]
  },
  {
   "cell_type": "code",
   "execution_count": 50,
   "id": "794f1a15",
   "metadata": {},
   "outputs": [
    {
     "name": "stdout",
     "output_type": "stream",
     "text": [
      "Que operación desea hacer? (suma, multiplicacion, division, resta): aslkdjalksdjakldj\n",
      "Operación no valida\n"
     ]
    }
   ],
   "source": [
    "calculadora()"
   ]
  },
  {
   "cell_type": "markdown",
   "id": "baff52f9",
   "metadata": {},
   "source": [
    "### Actividad 2"
   ]
  },
  {
   "cell_type": "code",
   "execution_count": 42,
   "id": "d1eb9fb9",
   "metadata": {},
   "outputs": [
    {
     "name": "stdout",
     "output_type": "stream",
     "text": [
      "Nombre de la persona: asdasd\n",
      "Edad de la persona: 12\n",
      "Hola! asdasd , tienes 12 años, por tanto, eres menor de edad\n"
     ]
    }
   ],
   "source": [
    "def es_mayor(edad):\n",
    "    if edad>=18:\n",
    "        True\n",
    "    else:\n",
    "        False\n",
    "\n",
    "nombre=input(\"Nombre de la persona: \")\n",
    "edad=input(\"Edad de la persona: \")\n",
    "while not edad.isnumeric():\n",
    "    edad=input(\"Ha ingresado mal la edad: \")\n",
    "if es_mayor(int(edad)):\n",
    "    print(\"Hola!\",nombre, \", tienes\",str(edad),\"años, por tanto, eres mayor de edad\")\n",
    "else:\n",
    "    print(\"Hola!\",nombre, \", tienes\",str(edad),\"años, por tanto, eres menor de edad\")\n"
   ]
  },
  {
   "cell_type": "code",
   "execution_count": 33,
   "id": "7b4a588a",
   "metadata": {},
   "outputs": [
    {
     "ename": "KeyboardInterrupt",
     "evalue": "Interrupted by user",
     "output_type": "error",
     "traceback": [
      "\u001b[1;31m---------------------------------------------------------------------------\u001b[0m",
      "\u001b[1;31mKeyboardInterrupt\u001b[0m                         Traceback (most recent call last)",
      "Cell \u001b[1;32mIn[33], line 1\u001b[0m\n\u001b[1;32m----> 1\u001b[0m nombre \u001b[38;5;241m=\u001b[39m\u001b[38;5;28;43minput\u001b[39;49m\u001b[43m(\u001b[49m\u001b[38;5;124;43m\"\u001b[39;49m\u001b[38;5;124;43mingrese nombre\u001b[39;49m\u001b[38;5;124;43m\"\u001b[39;49m\u001b[43m)\u001b[49m\n\u001b[0;32m      2\u001b[0m edad \u001b[38;5;241m=\u001b[39m \u001b[38;5;28mfloat\u001b[39m(\u001b[38;5;28minput\u001b[39m(\u001b[38;5;124m\"\u001b[39m\u001b[38;5;124mingrese edad\u001b[39m\u001b[38;5;124m\"\u001b[39m))\n\u001b[0;32m      4\u001b[0m \u001b[38;5;28;01mif\u001b[39;00m edad \u001b[38;5;241m<\u001b[39m\u001b[38;5;241m=\u001b[39m\u001b[38;5;28mfloat\u001b[39m (\u001b[38;5;241m18\u001b[39m):\n",
      "File \u001b[1;32m~\\anaconda3\\lib\\site-packages\\ipykernel\\kernelbase.py:1175\u001b[0m, in \u001b[0;36mKernel.raw_input\u001b[1;34m(self, prompt)\u001b[0m\n\u001b[0;32m   1171\u001b[0m \u001b[38;5;28;01mif\u001b[39;00m \u001b[38;5;129;01mnot\u001b[39;00m \u001b[38;5;28mself\u001b[39m\u001b[38;5;241m.\u001b[39m_allow_stdin:\n\u001b[0;32m   1172\u001b[0m     \u001b[38;5;28;01mraise\u001b[39;00m StdinNotImplementedError(\n\u001b[0;32m   1173\u001b[0m         \u001b[38;5;124m\"\u001b[39m\u001b[38;5;124mraw_input was called, but this frontend does not support input requests.\u001b[39m\u001b[38;5;124m\"\u001b[39m\n\u001b[0;32m   1174\u001b[0m     )\n\u001b[1;32m-> 1175\u001b[0m \u001b[38;5;28;01mreturn\u001b[39;00m \u001b[38;5;28;43mself\u001b[39;49m\u001b[38;5;241;43m.\u001b[39;49m\u001b[43m_input_request\u001b[49m\u001b[43m(\u001b[49m\n\u001b[0;32m   1176\u001b[0m \u001b[43m    \u001b[49m\u001b[38;5;28;43mstr\u001b[39;49m\u001b[43m(\u001b[49m\u001b[43mprompt\u001b[49m\u001b[43m)\u001b[49m\u001b[43m,\u001b[49m\n\u001b[0;32m   1177\u001b[0m \u001b[43m    \u001b[49m\u001b[38;5;28;43mself\u001b[39;49m\u001b[38;5;241;43m.\u001b[39;49m\u001b[43m_parent_ident\u001b[49m\u001b[43m[\u001b[49m\u001b[38;5;124;43m\"\u001b[39;49m\u001b[38;5;124;43mshell\u001b[39;49m\u001b[38;5;124;43m\"\u001b[39;49m\u001b[43m]\u001b[49m\u001b[43m,\u001b[49m\n\u001b[0;32m   1178\u001b[0m \u001b[43m    \u001b[49m\u001b[38;5;28;43mself\u001b[39;49m\u001b[38;5;241;43m.\u001b[39;49m\u001b[43mget_parent\u001b[49m\u001b[43m(\u001b[49m\u001b[38;5;124;43m\"\u001b[39;49m\u001b[38;5;124;43mshell\u001b[39;49m\u001b[38;5;124;43m\"\u001b[39;49m\u001b[43m)\u001b[49m\u001b[43m,\u001b[49m\n\u001b[0;32m   1179\u001b[0m \u001b[43m    \u001b[49m\u001b[43mpassword\u001b[49m\u001b[38;5;241;43m=\u001b[39;49m\u001b[38;5;28;43;01mFalse\u001b[39;49;00m\u001b[43m,\u001b[49m\n\u001b[0;32m   1180\u001b[0m \u001b[43m\u001b[49m\u001b[43m)\u001b[49m\n",
      "File \u001b[1;32m~\\anaconda3\\lib\\site-packages\\ipykernel\\kernelbase.py:1217\u001b[0m, in \u001b[0;36mKernel._input_request\u001b[1;34m(self, prompt, ident, parent, password)\u001b[0m\n\u001b[0;32m   1214\u001b[0m             \u001b[38;5;28;01mbreak\u001b[39;00m\n\u001b[0;32m   1215\u001b[0m \u001b[38;5;28;01mexcept\u001b[39;00m \u001b[38;5;167;01mKeyboardInterrupt\u001b[39;00m:\n\u001b[0;32m   1216\u001b[0m     \u001b[38;5;66;03m# re-raise KeyboardInterrupt, to truncate traceback\u001b[39;00m\n\u001b[1;32m-> 1217\u001b[0m     \u001b[38;5;28;01mraise\u001b[39;00m \u001b[38;5;167;01mKeyboardInterrupt\u001b[39;00m(\u001b[38;5;124m\"\u001b[39m\u001b[38;5;124mInterrupted by user\u001b[39m\u001b[38;5;124m\"\u001b[39m) \u001b[38;5;28;01mfrom\u001b[39;00m \u001b[38;5;28mNone\u001b[39m\n\u001b[0;32m   1218\u001b[0m \u001b[38;5;28;01mexcept\u001b[39;00m \u001b[38;5;167;01mException\u001b[39;00m:\n\u001b[0;32m   1219\u001b[0m     \u001b[38;5;28mself\u001b[39m\u001b[38;5;241m.\u001b[39mlog\u001b[38;5;241m.\u001b[39mwarning(\u001b[38;5;124m\"\u001b[39m\u001b[38;5;124mInvalid Message:\u001b[39m\u001b[38;5;124m\"\u001b[39m, exc_info\u001b[38;5;241m=\u001b[39m\u001b[38;5;28;01mTrue\u001b[39;00m)\n",
      "\u001b[1;31mKeyboardInterrupt\u001b[0m: Interrupted by user"
     ]
    }
   ],
   "source": [
    "nombre =input(\"ingrese nombre\")\n",
    "edad = float(input(\"ingrese edad\"))\n",
    "\n",
    "if edad <=float (18):\n",
    "    print(\"tu nombre es\", nombre, \"Menor de EDAD\")\n",
    "else:\n",
    "    print(\"tu nombre es\", nombre,\"Mayor de EDAD\" )\n",
    "def es_mayor():\n",
    "    tipo = edad\n",
    "    if tipo >= 18:\n",
    "        return True\n",
    "    else:\n",
    "        return False\n",
    "\n",
    "es_mayor()\n"
   ]
  },
  {
   "cell_type": "code",
   "execution_count": null,
   "id": "feaf6e63",
   "metadata": {},
   "outputs": [],
   "source": []
  }
 ],
 "metadata": {
  "kernelspec": {
   "display_name": "Python 3",
   "language": "python",
   "name": "python3"
  },
  "language_info": {
   "codemirror_mode": {
    "name": "ipython",
    "version": 3
   },
   "file_extension": ".py",
   "mimetype": "text/x-python",
   "name": "python",
   "nbconvert_exporter": "python",
   "pygments_lexer": "ipython3",
   "version": "3.11.3"
  }
 },
 "nbformat": 4,
 "nbformat_minor": 5
}
