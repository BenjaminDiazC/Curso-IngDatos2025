{
 "cells": [
  {
   "cell_type": "code",
   "id": "e7dde7fc",
   "metadata": {
    "ExecuteTime": {
     "end_time": "2025-06-10T14:37:45.035143Z",
     "start_time": "2025-06-10T14:37:45.007137Z"
    }
   },
   "source": [
    "import random\n",
    "calificaciones=[random.randint(0,100) for i in range(8)]\n",
    "lista_aprobados=[]\n",
    "aprobados=0\n",
    "total=0\n",
    "\n",
    "for i in calificaciones:\n",
    "    total+=i\n",
    "    if i >= 60:\n",
    "        aprobados+=1\n",
    "        lista_aprobados.append(i)\n",
    "\n",
    "promedio= total/len(calificaciones)\n",
    "print(calificaciones)\n",
    "print(f\"El promedio general es: {promedio}\")\n",
    "print(f\"la cantidad de aprobados son: {aprobados}, y las notas son: {lista_aprobados}\")"
   ],
   "outputs": [
    {
     "name": "stdout",
     "output_type": "stream",
     "text": [
      "[40, 58, 60, 12, 80, 64, 8, 61]\n",
      "El promedio general es: 47.875\n",
      "la cantidad de aprobados son: 4, y las notas son: [60, 80, 64, 61]\n"
     ]
    }
   ],
   "execution_count": 1
  },
  {
   "cell_type": "code",
   "id": "f49d9eed",
   "metadata": {
    "ExecuteTime": {
     "end_time": "2025-06-10T14:37:45.679783Z",
     "start_time": "2025-06-10T14:37:45.665237Z"
    }
   },
   "source": [
    "empleados = {\n",
    "    'emp1': {'nombre': 'Benjamin', 'edad': 25},\n",
    "    'emp2': {'nombre': 'Adriana', 'edad': 32},\n",
    "    'emp3': {'nombre': 'Marco', 'edad': 32},\n",
    "    'emp4': {'nombre': 'Fabian', 'edad': 28},\n",
    "    'emp5': {'nombre': 'Rodrigo', 'edad': 24}\n",
    "}\n",
    "emp_menos_treinta=[]\n",
    "emp_mas_treinta=[]\n",
    "cont=0\n",
    "for i in empleados:\n",
    "    cont+=1\n",
    "    if empleados[i]['edad'] < 30:\n",
    "        emp_menos_treinta.append(empleados[i]['nombre'])\n",
    "    elif empleados[i]['edad'] > 30:\n",
    "        emp_mas_treinta.append(empleados[i]['nombre'])\n",
    "    \n",
    "print(f'los empleados con más de 30 años son: {emp_mas_treinta} y los empleados con menos de 30 años son: {emp_menos_treinta}, en total hay {cont} empleados')\n"
   ],
   "outputs": [
    {
     "name": "stdout",
     "output_type": "stream",
     "text": [
      "los empleados con más de 30 años son: ['Adriana', 'Marco'] y los empleados con menos de 30 años son: ['Benjamin', 'Fabian', 'Rodrigo'], en total hay 5 empleados\n"
     ]
    }
   ],
   "execution_count": 3
  },
  {
   "cell_type": "code",
   "id": "8c3193af",
   "metadata": {
    "ExecuteTime": {
     "end_time": "2025-06-11T23:12:49.568369Z",
     "start_time": "2025-06-11T23:12:49.558442Z"
    }
   },
   "source": [
    "import random\n",
    "empleados = {\n",
    "    'emp1': {'nombre': 'Benjamin', 'edad': 0},\n",
    "    'emp2': {'nombre': 'Adriana', 'edad':0},\n",
    "    'emp3': {'nombre': 'Marco', 'edad':0},\n",
    "    'emp4': {'nombre': 'Fabian', 'edad':0},\n",
    "    'emp5': {'nombre': 'Rodrigo', 'edad':0}\n",
    "}\n",
    "emp_menos_treinta=[]\n",
    "emp_mas_treinta=[]\n",
    "\n",
    "def diccionario_empleados(empleados):\n",
    "    for i in empleados:\n",
    "        empleados[i]['edad']= random.randint(22,65)\n",
    "    return empleados\n",
    "def mayores_treinta(empleados):\n",
    "    emp_mas_treinta=[empleados[i]['nombre'] for i in empleados if empleados[i]['edad']>30]\n",
    "    return emp_mas_treinta\n",
    "def menores_treina(empleados):\n",
    "    emp_menos_treinta=[empleados[i]['nombre'] for i in empleados if empleados[i]['edad']<30]\n",
    "    return emp_menos_treinta\n",
    "\n",
    "def calculo_empleados():\n",
    "    diccionario_empleados(empleados)\n",
    "    emp_mas_treinta=mayores_treinta(empleados)\n",
    "    emp_menos_treinta=menores_treina(empleados)\n",
    "    return print(f'los empleados con más de 30 años son: {emp_mas_treinta} y los empleados con menos de 30 años son: {emp_menos_treinta}, en total hay {len(empleados)} empleados')\n",
    "\n",
    "\n",
    "calculo_empleados()\n",
    "print(empleados.items())"
   ],
   "outputs": [
    {
     "name": "stdout",
     "output_type": "stream",
     "text": [
      "los empleados con más de 30 años son: ['Benjamin', 'Adriana', 'Marco', 'Fabian', 'Rodrigo'] y los empleados con menos de 30 años son: [], en total hay 5 empleados\n",
      "dict_items([('emp1', {'nombre': 'Benjamin', 'edad': 32}), ('emp2', {'nombre': 'Adriana', 'edad': 43}), ('emp3', {'nombre': 'Marco', 'edad': 31}), ('emp4', {'nombre': 'Fabian', 'edad': 47}), ('emp5', {'nombre': 'Rodrigo', 'edad': 54})])\n"
     ]
    }
   ],
   "execution_count": 2
  },
  {
   "metadata": {},
   "cell_type": "code",
   "outputs": [],
   "execution_count": null,
   "source": "",
   "id": "5cf6158b269abcc3"
  }
 ],
 "metadata": {
  "kernelspec": {
   "display_name": "Python 3",
   "language": "python",
   "name": "python3"
  },
  "language_info": {
   "codemirror_mode": {
    "name": "ipython",
    "version": 3
   },
   "file_extension": ".py",
   "mimetype": "text/x-python",
   "name": "python",
   "nbconvert_exporter": "python",
   "pygments_lexer": "ipython3",
   "version": "3.11.3"
  }
 },
 "nbformat": 4,
 "nbformat_minor": 5
}
