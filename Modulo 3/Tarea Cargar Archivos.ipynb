{
 "cells": [
  {
   "cell_type": "code",
   "id": "initial_id",
   "metadata": {
    "collapsed": true,
    "ExecuteTime": {
     "end_time": "2025-06-29T16:29:18.692351Z",
     "start_time": "2025-06-29T16:29:17.068302Z"
    }
   },
   "source": [
    "import pandas as pd\n",
    "import numpy as np\n",
    "\n",
    "# --- Crear un archivo CSV de ejemplo ---\n",
    "datos_csv = {\n",
    "    'ID_Venta': [101, 102, 103, 104, 105, 102],\n",
    "    'Producto': ['Teclado', 'Mouse', 'Monitor', 'Teclado', 'CPU', 'Mouse'],\n",
    "    'Cantidad': [10, 15, 5, 8, 3, 15],\n",
    "    'Precio_Unitario': [50, 25, 300, 55, 800, 25],\n",
    "    'Fecha': ['2023-01-10', '2023-01-11', '2023-01-11', '2023-01-12', '2023-01-13', '2023-01-11']\n",
    "}\n",
    "df_ventas_origen = pd.DataFrame(datos_csv)\n",
    "# Añadimos una fila con valores nulos para el paso de limpieza\n",
    "fila_nula = pd.DataFrame([{'ID_Venta': 106, 'Producto': 'Webcam', 'Cantidad': np.nan, 'Precio_Unitario': 120, 'Fecha': '2023-01-14'}])\n",
    "df_ventas_origen = pd.concat([df_ventas_origen, fila_nula], ignore_index=True)\n",
    "df_ventas_origen.to_csv('datos_ventas.csv', index=False)\n",
    "\n",
    "\n",
    "# --- Crear un archivo Excel de ejemplo ---\n",
    "datos_excel = {\n",
    "    'ID_Empleado': [1, 2, 3, 4],\n",
    "    'Nombre': ['Ana', 'Luis', 'Marta', 'Juan'],\n",
    "    'Departamento': ['Ventas', 'TI', 'Ventas', 'Marketing']\n",
    "}\n",
    "df_empleados_origen = pd.DataFrame(datos_excel)\n",
    "df_empleados_origen.to_excel('datos_empleados.xlsx', index=False)\n",
    "\n",
    "print(\"Archivos 'datos_ventas.csv' y 'datos_empleados.xlsx' creados con éxito.\")"
   ],
   "outputs": [
    {
     "name": "stdout",
     "output_type": "stream",
     "text": [
      "Archivos 'datos_ventas.csv' y 'datos_empleados.xlsx' creados con éxito.\n"
     ]
    }
   ],
   "execution_count": 1
  },
  {
   "metadata": {},
   "cell_type": "markdown",
   "source": "# 1. Carga de datos",
   "id": "3450c0a0d14d6bcd"
  },
  {
   "metadata": {
    "ExecuteTime": {
     "end_time": "2025-06-29T16:30:06.780023Z",
     "start_time": "2025-06-29T16:30:05.670800Z"
    }
   },
   "cell_type": "code",
   "source": [
    "# --- 1.a. Importar un archivo CSV en un DataFrame de Pandas ---\n",
    "print(\"\\n--- Cargando archivo CSV ---\")\n",
    "df_csv = pd.read_csv('datos_ventas.csv')\n",
    "print(\"Datos desde CSV:\")\n",
    "print(df_csv)\n",
    "\n",
    "# --- 1.b. Cargar un archivo Excel en otro DataFrame ---\n",
    "print(\"\\n--- Cargando archivo Excel ---\")\n",
    "df_excel = pd.read_excel('datos_empleados.xlsx')\n",
    "print(\"Datos desde Excel:\")\n",
    "print(df_excel)\n",
    "\n",
    "# --- 1.c. Extraer información de una tabla web utilizando read_html() ---\n",
    "# Usaremos una tabla de ejemplo de Wikipedia: Países por población.\n",
    "print(\"\\n--- Cargando datos desde una tabla web ---\")\n",
    "url = 'https://es.wikipedia.org/wiki/Anexo:Pa%C3%ADses_y_territorios_dependientes_por_poblaci%C3%B3n'\n",
    "# read_html() devuelve una LISTA de todos los DataFrames encontrados en la página.\n",
    "lista_de_tablas = pd.read_html(url)\n",
    "# Generalmente, la tabla que nos interesa es una de las primeras. La inspeccionamos y seleccionamos.\n",
    "# En este caso, es la segunda tabla de la página (índice 1).\n",
    "df_web = lista_de_tablas[1]\n",
    "print(\"Primeras 5 filas de la tabla extraída de la web:\")\n",
    "print(df_web.head())"
   ],
   "id": "e9209fe1ff7286d",
   "outputs": [
    {
     "name": "stdout",
     "output_type": "stream",
     "text": [
      "\n",
      "--- Cargando archivo CSV ---\n",
      "Datos desde CSV:\n",
      "   ID_Venta Producto  Cantidad  Precio_Unitario       Fecha\n",
      "0       101  Teclado      10.0               50  2023-01-10\n",
      "1       102    Mouse      15.0               25  2023-01-11\n",
      "2       103  Monitor       5.0              300  2023-01-11\n",
      "3       104  Teclado       8.0               55  2023-01-12\n",
      "4       105      CPU       3.0              800  2023-01-13\n",
      "5       102    Mouse      15.0               25  2023-01-11\n",
      "6       106   Webcam       NaN              120  2023-01-14\n",
      "\n",
      "--- Cargando archivo Excel ---\n",
      "Datos desde Excel:\n",
      "   ID_Empleado Nombre Departamento\n",
      "0            1    Ana       Ventas\n",
      "1            2   Luis           TI\n",
      "2            3  Marta       Ventas\n",
      "3            4   Juan    Marketing\n",
      "\n",
      "--- Cargando datos desde una tabla web ---\n",
      "Primeras 5 filas de la tabla extraída de la web:\n",
      "  Continente, subcontinente o región geográfica  \\\n",
      "0                                        África   \n",
      "1                                África Central   \n",
      "2                              África del Norte   \n",
      "3                                África del Sur   \n",
      "4                             África Occidental   \n",
      "\n",
      "  Proyección exponencial de la población al 1/7/2025 Total mun- dial (%)  \\\n",
      "0                                      1 489 548 000                1843   \n",
      "1                                        215 974 000                 267   \n",
      "2                                        263 999 000                 327   \n",
      "3                                         72 935 000                 090   \n",
      "4                                        460 170 000                 569   \n",
      "\n",
      "  Cambio medio anual (%) Cambio medio absoluto anual  \\\n",
      "0                    243                  36 370 000   \n",
      "1                    249                   5 380 000   \n",
      "2                    162                   4 294 000   \n",
      "3                    157                   1 146 000   \n",
      "4                    284                  13 085 000   \n",
      "\n",
      "  Cambio medio abs. total anual (%) Años para even- tual dupli- ca- ción  \n",
      "0                              4361                                   29  \n",
      "1                               645                                   28  \n",
      "2                               515                                   43  \n",
      "3                               137                                   44  \n",
      "4                              1569                                   25  \n"
     ]
    }
   ],
   "execution_count": 2
  },
  {
   "metadata": {},
   "cell_type": "markdown",
   "source": "# 2. Limpieza y Estructuración de Datos",
   "id": "2fb688f6d6bd4a88"
  },
  {
   "metadata": {
    "ExecuteTime": {
     "end_time": "2025-06-29T16:35:32.903815Z",
     "start_time": "2025-06-29T16:35:32.877854Z"
    }
   },
   "cell_type": "code",
   "source": [
    "df_a_limpiar = df_csv.copy() # Hacemos una copia para no modificar el original\n",
    "print(\"\\nDataFrame original antes de la limpieza:\")\n",
    "print(df_a_limpiar)\n",
    "\n",
    "# --- 2.a. Identificar valores nulos y decidir si deben ser imputados o eliminados ---\n",
    "print(\"\\nIdentificando valores nulos por columna:\")\n",
    "print(df_a_limpiar.isnull().sum())\n",
    "\n",
    "# Decisión: La columna 'Cantidad' tiene un valor nulo.\n",
    "# Como es una columna numérica, una buena estrategia es imputarlo con el promedio (mean).\n",
    "media_cantidad = df_a_limpiar['Cantidad'].mean()\n",
    "df_a_limpiar.fillna({'Cantidad':media_cantidad}, inplace=True)\n",
    "print(\"\\nDataFrame después de imputar valores nulos:\")\n",
    "print(df_a_limpiar)\n",
    "\n",
    "# --- 2.b. Eliminar filas duplicadas si es necesario ---\n",
    "print(f\"\\nNúmero de filas duplicadas encontradas: {df_a_limpiar.duplicated().sum()}\")\n",
    "# El metodo drop_duplicates() elimina estas filas.\n",
    "df_a_limpiar.drop_duplicates(inplace=True)\n",
    "print(\"\\nDataFrame después de eliminar duplicados:\")\n",
    "print(df_a_limpiar)\n",
    "\n",
    "# --- 2.c. Verificar y ajustar los tipos de datos ---\n",
    "print(\"\\nTipos de datos actuales (dtypes):\")\n",
    "print(df_a_limpiar.dtypes)\n",
    "\n",
    "# Ajuste: La columna 'Fecha' está como 'object' (texto). La convertiremos a tipo datetime.\n",
    "# La columna 'Cantidad' es float64 por la imputación, la pasaremos a entero (int).\n",
    "df_a_limpiar['Fecha'] = pd.to_datetime(df_a_limpiar['Fecha'])\n",
    "df_a_limpiar['Cantidad'] = df_a_limpiar['Cantidad'].astype(int)\n",
    "\n",
    "print(\"\\nTipos de datos ajustados:\")\n",
    "print(df_a_limpiar.dtypes)\n",
    "print(df_a_limpiar)"
   ],
   "id": "d8cfbcc413e8947c",
   "outputs": [
    {
     "name": "stdout",
     "output_type": "stream",
     "text": [
      "\n",
      "DataFrame original antes de la limpieza:\n",
      "   ID_Venta Producto  Cantidad  Precio_Unitario       Fecha\n",
      "0       101  Teclado      10.0               50  2023-01-10\n",
      "1       102    Mouse      15.0               25  2023-01-11\n",
      "2       103  Monitor       5.0              300  2023-01-11\n",
      "3       104  Teclado       8.0               55  2023-01-12\n",
      "4       105      CPU       3.0              800  2023-01-13\n",
      "5       102    Mouse      15.0               25  2023-01-11\n",
      "6       106   Webcam       NaN              120  2023-01-14\n",
      "\n",
      "Identificando valores nulos por columna:\n",
      "ID_Venta           0\n",
      "Producto           0\n",
      "Cantidad           1\n",
      "Precio_Unitario    0\n",
      "Fecha              0\n",
      "dtype: int64\n",
      "\n",
      "DataFrame después de imputar valores nulos:\n",
      "   ID_Venta Producto   Cantidad  Precio_Unitario       Fecha\n",
      "0       101  Teclado  10.000000               50  2023-01-10\n",
      "1       102    Mouse  15.000000               25  2023-01-11\n",
      "2       103  Monitor   5.000000              300  2023-01-11\n",
      "3       104  Teclado   8.000000               55  2023-01-12\n",
      "4       105      CPU   3.000000              800  2023-01-13\n",
      "5       102    Mouse  15.000000               25  2023-01-11\n",
      "6       106   Webcam   9.333333              120  2023-01-14\n",
      "\n",
      "Número de filas duplicadas encontradas: 1\n",
      "\n",
      "DataFrame después de eliminar duplicados:\n",
      "   ID_Venta Producto   Cantidad  Precio_Unitario       Fecha\n",
      "0       101  Teclado  10.000000               50  2023-01-10\n",
      "1       102    Mouse  15.000000               25  2023-01-11\n",
      "2       103  Monitor   5.000000              300  2023-01-11\n",
      "3       104  Teclado   8.000000               55  2023-01-12\n",
      "4       105      CPU   3.000000              800  2023-01-13\n",
      "6       106   Webcam   9.333333              120  2023-01-14\n",
      "\n",
      "Tipos de datos actuales (dtypes):\n",
      "ID_Venta             int64\n",
      "Producto            object\n",
      "Cantidad           float64\n",
      "Precio_Unitario      int64\n",
      "Fecha               object\n",
      "dtype: object\n",
      "\n",
      "Tipos de datos ajustados:\n",
      "ID_Venta                    int64\n",
      "Producto                   object\n",
      "Cantidad                    int64\n",
      "Precio_Unitario             int64\n",
      "Fecha              datetime64[ns]\n",
      "dtype: object\n",
      "   ID_Venta Producto  Cantidad  Precio_Unitario      Fecha\n",
      "0       101  Teclado        10               50 2023-01-10\n",
      "1       102    Mouse        15               25 2023-01-11\n",
      "2       103  Monitor         5              300 2023-01-11\n",
      "3       104  Teclado         8               55 2023-01-12\n",
      "4       105      CPU         3              800 2023-01-13\n",
      "6       106   Webcam         9              120 2023-01-14\n"
     ]
    }
   ],
   "execution_count": 5
  },
  {
   "metadata": {},
   "cell_type": "markdown",
   "source": "# 3. Transformación y Optimización",
   "id": "dc71c4d383746a46"
  },
  {
   "metadata": {
    "ExecuteTime": {
     "end_time": "2025-06-29T16:37:09.094743Z",
     "start_time": "2025-06-29T16:37:09.059198Z"
    }
   },
   "cell_type": "code",
   "source": [
    "df_transformado = df_a_limpiar.copy()\n",
    "\n",
    "# Agregamos una columna calculada para que el análisis sea más interesante.\n",
    "df_transformado['Ingreso_Total'] = df_transformado['Cantidad'] * df_transformado['Precio_Unitario']\n",
    "\n",
    "# --- 3.a. Seleccionar las columnas más relevantes para el análisis ---\n",
    "columnas_relevantes = ['Fecha', 'Producto', 'Cantidad', 'Ingreso_Total']\n",
    "df_final = df_transformado[columnas_relevantes]\n",
    "print(\"\\nDataFrame con columnas seleccionadas:\")\n",
    "print(df_final)\n",
    "\n",
    "# --- 3.b. Renombrar columnas para mejorar la legibilidad ---\n",
    "nuevos_nombres = {\n",
    "    'Fecha': 'Fecha de Venta',\n",
    "    'Producto': 'Nombre del Producto',\n",
    "    'Cantidad': 'Unidades Vendidas',\n",
    "    'Ingreso_Total': 'Ingresos ($)'\n",
    "}\n",
    "df_final = df_final.rename(columns=nuevos_nombres)\n",
    "print(\"\\nDataFrame con columnas renombradas:\")\n",
    "print(df_final)\n",
    "\n",
    "# --- 3.c. Ordenar los datos en función de una columna clave ---\n",
    "# Ordenaremos por ingresos, de mayor a menor.\n",
    "df_final = df_final.sort_values(by='Ingresos ($)', ascending=False)\n",
    "print(\"\\nDataFrame ordenado por Ingresos:\")\n",
    "print(df_final)"
   ],
   "id": "985dc547f628a1f4",
   "outputs": [
    {
     "name": "stdout",
     "output_type": "stream",
     "text": [
      "\n",
      "DataFrame con columnas seleccionadas:\n",
      "       Fecha Producto  Cantidad  Ingreso_Total\n",
      "0 2023-01-10  Teclado        10            500\n",
      "1 2023-01-11    Mouse        15            375\n",
      "2 2023-01-11  Monitor         5           1500\n",
      "3 2023-01-12  Teclado         8            440\n",
      "4 2023-01-13      CPU         3           2400\n",
      "6 2023-01-14   Webcam         9           1080\n",
      "\n",
      "DataFrame con columnas renombradas:\n",
      "  Fecha de Venta Nombre del Producto  Unidades Vendidas  Ingresos ($)\n",
      "0     2023-01-10             Teclado                 10           500\n",
      "1     2023-01-11               Mouse                 15           375\n",
      "2     2023-01-11             Monitor                  5          1500\n",
      "3     2023-01-12             Teclado                  8           440\n",
      "4     2023-01-13                 CPU                  3          2400\n",
      "6     2023-01-14              Webcam                  9          1080\n",
      "\n",
      "DataFrame ordenado por Ingresos:\n",
      "  Fecha de Venta Nombre del Producto  Unidades Vendidas  Ingresos ($)\n",
      "4     2023-01-13                 CPU                  3          2400\n",
      "2     2023-01-11             Monitor                  5          1500\n",
      "6     2023-01-14              Webcam                  9          1080\n",
      "0     2023-01-10             Teclado                 10           500\n",
      "3     2023-01-12             Teclado                  8           440\n",
      "1     2023-01-11               Mouse                 15           375\n"
     ]
    }
   ],
   "execution_count": 6
  },
  {
   "metadata": {},
   "cell_type": "markdown",
   "source": "# 4. Exportación de Datos",
   "id": "1c43f37ca9a2a9be"
  },
  {
   "metadata": {
    "ExecuteTime": {
     "end_time": "2025-06-29T16:38:09.623285Z",
     "start_time": "2025-06-29T16:38:09.579110Z"
    }
   },
   "cell_type": "code",
   "source": [
    "# --- 4.a. Guardar el DataFrame limpio en un archivo CSV sin incluir el índice ---\n",
    "df_final.to_csv('ventas_procesadas.csv', index=False)\n",
    "print(\"\\nDataFrame guardado exitosamente en 'ventas_procesadas.csv'\")\n",
    "\n",
    "\n",
    "# --- 4.b. Exportar los datos procesados a Excel para su visualización ---\n",
    "df_final.to_excel('ventas_procesadas.xlsx', index=False, sheet_name='Reporte de Ventas')\n",
    "print(\"DataFrame guardado exitosamente en 'ventas_procesadas.xlsx'\")"
   ],
   "id": "1d56c67f258ecf3f",
   "outputs": [
    {
     "name": "stdout",
     "output_type": "stream",
     "text": [
      "\n",
      "DataFrame guardado exitosamente en 'ventas_procesadas.csv'\n",
      "DataFrame guardado exitosamente en 'ventas_procesadas.xlsx'\n"
     ]
    }
   ],
   "execution_count": 7
  }
 ],
 "metadata": {
  "kernelspec": {
   "display_name": "Python 3",
   "language": "python",
   "name": "python3"
  },
  "language_info": {
   "codemirror_mode": {
    "name": "ipython",
    "version": 2
   },
   "file_extension": ".py",
   "mimetype": "text/x-python",
   "name": "python",
   "nbconvert_exporter": "python",
   "pygments_lexer": "ipython2",
   "version": "2.7.6"
  }
 },
 "nbformat": 4,
 "nbformat_minor": 5
}
