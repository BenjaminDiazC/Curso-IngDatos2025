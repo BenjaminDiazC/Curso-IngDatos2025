{
 "cells": [
  {
   "cell_type": "markdown",
   "id": "d9f0298b",
   "metadata": {},
   "source": [
    "\n",
    "# Ejercicio: **Clasificación** con Random Forest — Producción *Alta* vs *Baja*\n",
    "\n",
    "Usando el mismo archivo de datos `1. datos_agricolas.xlsx` (hoja **Inicio**), transforma el problema en **clasificación binaria** y entrena un **RandomForestClassifier** para predecir si la producción de un registro será **Alta** (=1) o **Baja** (=0).  \n",
    "Este notebook es **para alumnos**: contiene consignas y celdas para completar (no resuelto).\n"
   ]
  },
  {
   "cell_type": "markdown",
   "id": "78881981",
   "metadata": {},
   "source": [
    "\n",
    "## Objetivos\n",
    "1. Cargar y explorar los datos (EDA breve).  \n",
    "2. Crear una **variable objetivo binaria** (Alta vs Baja producción).  \n",
    "3. Preparar un **pipeline** de preprocesamiento (numéricas/categóricas) + **RandomForestClassifier**.  \n",
    "4. Entrenar, evaluar y analizar métricas (accuracy, reporte de clasificación, matriz de confusión).  \n",
    "5. (Opcional) Validación cruzada y curva ROC-AUC.\n"
   ]
  },
  {
   "cell_type": "markdown",
   "id": "171708f2",
   "metadata": {},
   "source": [
    "## 1) Importar librerías"
   ]
  },
  {
   "cell_type": "code",
   "execution_count": 1,
   "id": "a6166c5f",
   "metadata": {},
   "outputs": [],
   "source": [
    "\n",
    "# IMPORTA las librerías necesarias\n",
    "# Sugeridas:\n",
    "# - pandas, numpy\n",
    "# - matplotlib.pyplot\n",
    "# - sklearn.model_selection: train_test_split, StratifiedKFold, cross_val_score\n",
    "# - sklearn.compose: ColumnTransformer\n",
    "# - sklearn.preprocessing: OneHotEncoder, StandardScaler\n",
    "# - sklearn.impute: SimpleImputer\n",
    "# - sklearn.pipeline: Pipeline\n",
    "# - sklearn.ensemble: RandomForestClassifier\n",
    "# - sklearn.metrics: accuracy_score, classification_report, confusion_matrix, roc_auc_score, RocCurveDisplay\n"
   ]
  },
  {
   "cell_type": "markdown",
   "id": "53fab885",
   "metadata": {},
   "source": [
    "## 2) Cargar datos"
   ]
  },
  {
   "cell_type": "code",
   "execution_count": null,
   "id": "ae8147fb",
   "metadata": {},
   "outputs": [],
   "source": [
    "\n",
    "# LEE el archivo Excel 'ejercicio_1_datos_regresion_lineal_agricola', hoja 'Inicio'\n",
    "# Asigna el DataFrame a la variable df y muestra df.head()\n",
    "# PISTA: usa pd.read_excel(ruta, sheet_name=\"Datos\")\n"
   ]
  },
  {
   "cell_type": "markdown",
   "id": "e1ab3e69",
   "metadata": {},
   "source": [
    "## 3) EDA breve"
   ]
  },
  {
   "cell_type": "code",
   "execution_count": 3,
   "id": "152471f9",
   "metadata": {},
   "outputs": [],
   "source": [
    "\n",
    "# MUESTRA tipos de datos y valores nulos con df.info()\n",
    "# CALCULA estadísticas con df.describe(include='all').T\n"
   ]
  },
  {
   "cell_type": "code",
   "execution_count": 4,
   "id": "211ac9ba",
   "metadata": {},
   "outputs": [],
   "source": [
    "\n",
    "# (Opcional) CREA al menos un gráfico rápido (ej.: histograma de Producción_Ton)\n",
    "# Recuerda usar matplotlib\n"
   ]
  },
  {
   "cell_type": "markdown",
   "id": "825f9674",
   "metadata": {},
   "source": [
    "## 4) Crear variable objetivo binaria: Producción **Alta** vs **Baja**"
   ]
  },
  {
   "cell_type": "code",
   "execution_count": 5,
   "id": "2f4fa37c",
   "metadata": {},
   "outputs": [],
   "source": [
    "\n",
    "# CREA una nueva columna binaria 'Produccion_Alta' usando la MEDIANA de 'Producción_Ton' como umbral\n",
    "# 1 = Producción_Ton mayor a la mediana, 0 = caso contrario\n",
    "# MUESTRA el umbral calculado y la distribución de clases (value_counts())\n"
   ]
  },
  {
   "cell_type": "markdown",
   "id": "f6e4f162",
   "metadata": {},
   "source": [
    "## 5) Definir variables y separar en Train/Test"
   ]
  },
  {
   "cell_type": "code",
   "execution_count": 6,
   "id": "8ccf14da",
   "metadata": {},
   "outputs": [],
   "source": [
    "\n",
    "# DEFINE y = 'Produccion_Alta'\n",
    "# DEFINE X con: Año, Mes, Región, Cultivo, Superficie_Ha, Precio_Ton, Costos_Insumos\n",
    "# DIVIDE en entrenamiento y prueba con test_size=0.2, random_state=42, y estratificación por y\n"
   ]
  },
  {
   "cell_type": "markdown",
   "id": "741d69ca",
   "metadata": {},
   "source": [
    "## 6) Preprocesamiento con ColumnTransformer"
   ]
  },
  {
   "cell_type": "code",
   "execution_count": 7,
   "id": "1524aaf9",
   "metadata": {},
   "outputs": [],
   "source": [
    "\n",
    "# DEFINE:\n",
    "# - numeric_features = [\"Año\", \"Mes\", \"Superficie_Ha\", \"Precio_Ton\", \"Costos_Insumos\"]\n",
    "# - categorical_features = [\"Región\", \"Cultivo\"]\n",
    "# CREA pipelines:\n",
    "#   num: SimpleImputer(strategy=\"median\") + StandardScaler()\n",
    "#   cat: SimpleImputer(strategy=\"most_frequent\") + OneHotEncoder(handle_unknown=\"ignore\")\n",
    "# UNE ambos en un ColumnTransformer llamado 'preprocessor'\n"
   ]
  },
  {
   "cell_type": "markdown",
   "id": "9c91b632",
   "metadata": {},
   "source": [
    "## 7) Entrenar **RandomForestClassifier** dentro de un Pipeline"
   ]
  },
  {
   "cell_type": "code",
   "execution_count": 8,
   "id": "124a50ee",
   "metadata": {},
   "outputs": [],
   "source": [
    "\n",
    "# CREA un Pipeline: [(\"preprocessor\", preprocessor), (\"model\", RandomForestClassifier(...))]\n",
    "# SUGERENCIA de hiperparámetros iniciales: n_estimators=300, random_state=42, n_jobs=-1\n",
    "# AJUSTA el pipeline con .fit(X_train, y_train)\n",
    "# OBTÉN predicciones y_pred = pipeline.predict(X_test)\n"
   ]
  },
  {
   "cell_type": "markdown",
   "id": "e7969688",
   "metadata": {},
   "source": [
    "## 8) Evaluación del modelo"
   ]
  },
  {
   "cell_type": "code",
   "execution_count": 9,
   "id": "04233cdb",
   "metadata": {},
   "outputs": [],
   "source": [
    "\n",
    "# CALCULA accuracy y muestra classification_report\n",
    "# CONSTRUYE y grafica la matriz de confusión con matplotlib (valores, títulos y ejes claros)\n"
   ]
  },
  {
   "cell_type": "code",
   "execution_count": 10,
   "id": "7d013182",
   "metadata": {},
   "outputs": [],
   "source": [
    "\n",
    "# (Opcional) Calcula ROC-AUC (para binario) y muestra la curva ROC usando RocCurveDisplay.from_estimator\n"
   ]
  },
  {
   "cell_type": "markdown",
   "id": "0991c927",
   "metadata": {},
   "source": [
    "## 9) Importancia de variables"
   ]
  },
  {
   "cell_type": "code",
   "execution_count": 11,
   "id": "8cb60b4e",
   "metadata": {},
   "outputs": [],
   "source": [
    "\n",
    "# RECUPERA las columnas finales después del One-Hot:\n",
    "#   usa: ohe = pipeline.named_steps[\"preprocessor\"].named_transformers_[\"cat\"].named_steps[\"onehot\"]\n",
    "#   cat_feature_names = list(ohe.get_feature_names_out(categorical_features))\n",
    "#   all_features = numeric_features + cat_feature_names\n",
    "# EXTRAe importances = pipeline.named_steps[\"model\"].feature_importances_\n",
    "# CREA un DataFrame ordenado y grafica el Top 15 en barras horizontales\n"
   ]
  },
  {
   "cell_type": "markdown",
   "id": "b9f72edc",
   "metadata": {},
   "source": [
    "## 10) (Opcional) Validación cruzada"
   ]
  },
  {
   "cell_type": "code",
   "execution_count": 12,
   "id": "4c5a4281",
   "metadata": {},
   "outputs": [],
   "source": [
    "\n",
    "# USA StratifiedKFold(n_splits=5, shuffle=True, random_state=42)\n",
    "# EVALÚA con cross_val_score(pipeline, X, y, cv=skf, scoring=\"accuracy\")\n",
    "# REPORTA la media y desviación estándar\n"
   ]
  },
  {
   "cell_type": "markdown",
   "id": "f4a748eb",
   "metadata": {},
   "source": [
    "\n",
    "## 11) Conclusiones (texto libre)\n",
    "- ¿Qué tan bien clasifica el modelo?  \n",
    "- ¿Qué variables resultaron más importantes?  \n",
    "- ¿Qué mejoras propones (nuevas features, tuning, balanceo de clases, etc.)?\n"
   ]
  }
 ],
 "metadata": {
  "kernelspec": {
   "display_name": "Python 3",
   "language": "python",
   "name": "python3"
  },
  "language_info": {
   "codemirror_mode": {
    "name": "ipython",
    "version": 3
   },
   "file_extension": ".py",
   "mimetype": "text/x-python",
   "name": "python",
   "nbconvert_exporter": "python",
   "pygments_lexer": "ipython3",
   "version": "3.10.0"
  }
 },
 "nbformat": 4,
 "nbformat_minor": 5
}
