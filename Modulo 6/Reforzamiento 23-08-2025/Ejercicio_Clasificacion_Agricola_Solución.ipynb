{
 "cells": [
  {
   "cell_type": "markdown",
   "id": "d53d21ce",
   "metadata": {},
   "source": [
    "\n",
    "# Clasificación **resuelta**: Random Forest — Producción *Alta* vs *Baja*\n",
    "\n",
    "Este cuaderno usa `1. datos_agricolas.xlsx` (hoja **Inicio**) para clasificar cada registro en **Producción Alta (1)** o **Baja (0)** según la mediana de `Producción_Ton`.  \n",
    "Incluye carga de datos, EDA breve, creación del objetivo binario, *pipeline* de preprocesamiento + **RandomForestClassifier**, métricas, matriz de confusión, **ROC-AUC**, e **importancia de variables**. \n"
   ]
  },
  {
   "cell_type": "markdown",
   "id": "e4ac2a1a",
   "metadata": {},
   "source": [
    "## 1) Importar librerías"
   ]
  },
  {
   "cell_type": "code",
   "execution_count": 3,
   "id": "27df7b74",
   "metadata": {},
   "outputs": [],
   "source": [
    "import pandas as pd\n",
    "import numpy as np\n",
    "\n",
    "from sklearn.model_selection import train_test_split, StratifiedKFold, cross_val_score\n",
    "from sklearn.compose import ColumnTransformer\n",
    "from sklearn.preprocessing import OneHotEncoder, StandardScaler\n",
    "from sklearn.impute import SimpleImputer\n",
    "from sklearn.pipeline import Pipeline\n",
    "from sklearn.ensemble import RandomForestClassifier\n",
    "from sklearn.metrics import (\n",
    "    accuracy_score, classification_report, confusion_matrix,\n",
    "    roc_auc_score, RocCurveDisplay\n",
    ")\n",
    "\n",
    "import matplotlib.pyplot as plt\n"
   ]
  },
  {
   "cell_type": "markdown",
   "id": "fdaeb15a",
   "metadata": {},
   "source": [
    "## 2) Cargar datos"
   ]
  },
  {
   "cell_type": "code",
   "execution_count": 4,
   "id": "8181a18f",
   "metadata": {},
   "outputs": [
    {
     "name": "stdout",
     "output_type": "stream",
     "text": [
      "(480, 10)\n"
     ]
    },
    {
     "data": {
      "text/html": [
       "<div>\n",
       "<style scoped>\n",
       "    .dataframe tbody tr th:only-of-type {\n",
       "        vertical-align: middle;\n",
       "    }\n",
       "\n",
       "    .dataframe tbody tr th {\n",
       "        vertical-align: top;\n",
       "    }\n",
       "\n",
       "    .dataframe thead th {\n",
       "        text-align: right;\n",
       "    }\n",
       "</style>\n",
       "<table border=\"1\" class=\"dataframe\">\n",
       "  <thead>\n",
       "    <tr style=\"text-align: right;\">\n",
       "      <th></th>\n",
       "      <th>Año</th>\n",
       "      <th>Mes</th>\n",
       "      <th>Región</th>\n",
       "      <th>Cultivo</th>\n",
       "      <th>Superficie_Ha</th>\n",
       "      <th>Producción_Ton</th>\n",
       "      <th>Precio_Ton</th>\n",
       "      <th>Costos_Insumos</th>\n",
       "      <th>Ingresos</th>\n",
       "      <th>Utilidad</th>\n",
       "    </tr>\n",
       "  </thead>\n",
       "  <tbody>\n",
       "    <tr>\n",
       "      <th>0</th>\n",
       "      <td>2023</td>\n",
       "      <td>1</td>\n",
       "      <td>Norte</td>\n",
       "      <td>Maíz</td>\n",
       "      <td>122</td>\n",
       "      <td>749</td>\n",
       "      <td>316.95</td>\n",
       "      <td>12541</td>\n",
       "      <td>237319.70</td>\n",
       "      <td>224778.70</td>\n",
       "    </tr>\n",
       "    <tr>\n",
       "      <th>1</th>\n",
       "      <td>2023</td>\n",
       "      <td>1</td>\n",
       "      <td>Norte</td>\n",
       "      <td>Soja</td>\n",
       "      <td>141</td>\n",
       "      <td>422</td>\n",
       "      <td>273.40</td>\n",
       "      <td>2574</td>\n",
       "      <td>115405.98</td>\n",
       "      <td>112831.98</td>\n",
       "    </tr>\n",
       "    <tr>\n",
       "      <th>2</th>\n",
       "      <td>2023</td>\n",
       "      <td>1</td>\n",
       "      <td>Norte</td>\n",
       "      <td>Trigo</td>\n",
       "      <td>107</td>\n",
       "      <td>328</td>\n",
       "      <td>311.12</td>\n",
       "      <td>2543</td>\n",
       "      <td>101962.95</td>\n",
       "      <td>99419.95</td>\n",
       "    </tr>\n",
       "    <tr>\n",
       "      <th>3</th>\n",
       "      <td>2023</td>\n",
       "      <td>1</td>\n",
       "      <td>Norte</td>\n",
       "      <td>Manzana</td>\n",
       "      <td>363</td>\n",
       "      <td>2874</td>\n",
       "      <td>274.87</td>\n",
       "      <td>5428</td>\n",
       "      <td>789881.63</td>\n",
       "      <td>784453.63</td>\n",
       "    </tr>\n",
       "    <tr>\n",
       "      <th>4</th>\n",
       "      <td>2023</td>\n",
       "      <td>1</td>\n",
       "      <td>Norte</td>\n",
       "      <td>Tomate</td>\n",
       "      <td>211</td>\n",
       "      <td>1446</td>\n",
       "      <td>131.99</td>\n",
       "      <td>2363</td>\n",
       "      <td>190802.69</td>\n",
       "      <td>188439.69</td>\n",
       "    </tr>\n",
       "  </tbody>\n",
       "</table>\n",
       "</div>"
      ],
      "text/plain": [
       "    Año  Mes Región  Cultivo  Superficie_Ha  Producción_Ton  Precio_Ton  \\\n",
       "0  2023    1  Norte     Maíz            122             749      316.95   \n",
       "1  2023    1  Norte     Soja            141             422      273.40   \n",
       "2  2023    1  Norte    Trigo            107             328      311.12   \n",
       "3  2023    1  Norte  Manzana            363            2874      274.87   \n",
       "4  2023    1  Norte   Tomate            211            1446      131.99   \n",
       "\n",
       "   Costos_Insumos   Ingresos   Utilidad  \n",
       "0           12541  237319.70  224778.70  \n",
       "1            2574  115405.98  112831.98  \n",
       "2            2543  101962.95   99419.95  \n",
       "3            5428  789881.63  784453.63  \n",
       "4            2363  190802.69  188439.69  "
      ]
     },
     "execution_count": 4,
     "metadata": {},
     "output_type": "execute_result"
    }
   ],
   "source": [
    "\n",
    "file_path = \"ejercicio_1_datos_regresion_lineal_agricola.xlsx\"  # Ajusta si ejecutas fuera de este entorno\n",
    "df = pd.read_excel(file_path, sheet_name=\"Datos\")\n",
    "print(df.shape)\n",
    "df.head()\n"
   ]
  },
  {
   "cell_type": "markdown",
   "id": "3a806f77",
   "metadata": {},
   "source": []
  },
  {
   "cell_type": "markdown",
   "id": "5b7cb391",
   "metadata": {},
   "source": [
    "## 3) EDA breve"
   ]
  },
  {
   "cell_type": "code",
   "execution_count": 5,
   "id": "7a22503d",
   "metadata": {},
   "outputs": [
    {
     "name": "stdout",
     "output_type": "stream",
     "text": [
      "<class 'pandas.core.frame.DataFrame'>\n",
      "RangeIndex: 480 entries, 0 to 479\n",
      "Data columns (total 10 columns):\n",
      " #   Column          Non-Null Count  Dtype  \n",
      "---  ------          --------------  -----  \n",
      " 0   Año             480 non-null    int64  \n",
      " 1   Mes             480 non-null    int64  \n",
      " 2   Región          480 non-null    object \n",
      " 3   Cultivo         480 non-null    object \n",
      " 4   Superficie_Ha   480 non-null    int64  \n",
      " 5   Producción_Ton  480 non-null    int64  \n",
      " 6   Precio_Ton      480 non-null    float64\n",
      " 7   Costos_Insumos  480 non-null    int64  \n",
      " 8   Ingresos        480 non-null    float64\n",
      " 9   Utilidad        480 non-null    float64\n",
      "dtypes: float64(3), int64(5), object(2)\n",
      "memory usage: 37.6+ KB\n"
     ]
    }
   ],
   "source": [
    "\n",
    "df.info()\n"
   ]
  },
  {
   "cell_type": "code",
   "execution_count": 6,
   "id": "ff037ee9",
   "metadata": {},
   "outputs": [
    {
     "data": {
      "text/html": [
       "<div>\n",
       "<style scoped>\n",
       "    .dataframe tbody tr th:only-of-type {\n",
       "        vertical-align: middle;\n",
       "    }\n",
       "\n",
       "    .dataframe tbody tr th {\n",
       "        vertical-align: top;\n",
       "    }\n",
       "\n",
       "    .dataframe thead th {\n",
       "        text-align: right;\n",
       "    }\n",
       "</style>\n",
       "<table border=\"1\" class=\"dataframe\">\n",
       "  <thead>\n",
       "    <tr style=\"text-align: right;\">\n",
       "      <th></th>\n",
       "      <th>count</th>\n",
       "      <th>unique</th>\n",
       "      <th>top</th>\n",
       "      <th>freq</th>\n",
       "      <th>mean</th>\n",
       "      <th>std</th>\n",
       "      <th>min</th>\n",
       "      <th>25%</th>\n",
       "      <th>50%</th>\n",
       "      <th>75%</th>\n",
       "      <th>max</th>\n",
       "    </tr>\n",
       "  </thead>\n",
       "  <tbody>\n",
       "    <tr>\n",
       "      <th>Año</th>\n",
       "      <td>480.0</td>\n",
       "      <td>NaN</td>\n",
       "      <td>NaN</td>\n",
       "      <td>NaN</td>\n",
       "      <td>2023.5</td>\n",
       "      <td>0.500522</td>\n",
       "      <td>2023.0</td>\n",
       "      <td>2023.0</td>\n",
       "      <td>2023.5</td>\n",
       "      <td>2024.0</td>\n",
       "      <td>2024.0</td>\n",
       "    </tr>\n",
       "    <tr>\n",
       "      <th>Mes</th>\n",
       "      <td>480.0</td>\n",
       "      <td>NaN</td>\n",
       "      <td>NaN</td>\n",
       "      <td>NaN</td>\n",
       "      <td>6.5</td>\n",
       "      <td>3.455654</td>\n",
       "      <td>1.0</td>\n",
       "      <td>3.75</td>\n",
       "      <td>6.5</td>\n",
       "      <td>9.25</td>\n",
       "      <td>12.0</td>\n",
       "    </tr>\n",
       "    <tr>\n",
       "      <th>Región</th>\n",
       "      <td>480</td>\n",
       "      <td>4</td>\n",
       "      <td>Norte</td>\n",
       "      <td>120</td>\n",
       "      <td>NaN</td>\n",
       "      <td>NaN</td>\n",
       "      <td>NaN</td>\n",
       "      <td>NaN</td>\n",
       "      <td>NaN</td>\n",
       "      <td>NaN</td>\n",
       "      <td>NaN</td>\n",
       "    </tr>\n",
       "    <tr>\n",
       "      <th>Cultivo</th>\n",
       "      <td>480</td>\n",
       "      <td>5</td>\n",
       "      <td>Maíz</td>\n",
       "      <td>96</td>\n",
       "      <td>NaN</td>\n",
       "      <td>NaN</td>\n",
       "      <td>NaN</td>\n",
       "      <td>NaN</td>\n",
       "      <td>NaN</td>\n",
       "      <td>NaN</td>\n",
       "      <td>NaN</td>\n",
       "    </tr>\n",
       "    <tr>\n",
       "      <th>Superficie_Ha</th>\n",
       "      <td>480.0</td>\n",
       "      <td>NaN</td>\n",
       "      <td>NaN</td>\n",
       "      <td>NaN</td>\n",
       "      <td>253.041667</td>\n",
       "      <td>141.376776</td>\n",
       "      <td>20.0</td>\n",
       "      <td>137.0</td>\n",
       "      <td>245.0</td>\n",
       "      <td>378.25</td>\n",
       "      <td>499.0</td>\n",
       "    </tr>\n",
       "    <tr>\n",
       "      <th>Producción_Ton</th>\n",
       "      <td>480.0</td>\n",
       "      <td>NaN</td>\n",
       "      <td>NaN</td>\n",
       "      <td>NaN</td>\n",
       "      <td>1613.71875</td>\n",
       "      <td>1157.53085</td>\n",
       "      <td>48.0</td>\n",
       "      <td>677.25</td>\n",
       "      <td>1314.5</td>\n",
       "      <td>2412.5</td>\n",
       "      <td>5403.0</td>\n",
       "    </tr>\n",
       "    <tr>\n",
       "      <th>Precio_Ton</th>\n",
       "      <td>480.0</td>\n",
       "      <td>NaN</td>\n",
       "      <td>NaN</td>\n",
       "      <td>NaN</td>\n",
       "      <td>254.586896</td>\n",
       "      <td>74.45154</td>\n",
       "      <td>100.09</td>\n",
       "      <td>193.8125</td>\n",
       "      <td>265.365</td>\n",
       "      <td>312.11</td>\n",
       "      <td>397.48</td>\n",
       "    </tr>\n",
       "    <tr>\n",
       "      <th>Costos_Insumos</th>\n",
       "      <td>480.0</td>\n",
       "      <td>NaN</td>\n",
       "      <td>NaN</td>\n",
       "      <td>NaN</td>\n",
       "      <td>10438.29375</td>\n",
       "      <td>5545.255615</td>\n",
       "      <td>1543.0</td>\n",
       "      <td>5399.5</td>\n",
       "      <td>10356.5</td>\n",
       "      <td>15137.25</td>\n",
       "      <td>19957.0</td>\n",
       "    </tr>\n",
       "    <tr>\n",
       "      <th>Ingresos</th>\n",
       "      <td>480.0</td>\n",
       "      <td>NaN</td>\n",
       "      <td>NaN</td>\n",
       "      <td>NaN</td>\n",
       "      <td>379991.904521</td>\n",
       "      <td>263489.847762</td>\n",
       "      <td>17546.34</td>\n",
       "      <td>179413.99</td>\n",
       "      <td>334503.955</td>\n",
       "      <td>515130.73</td>\n",
       "      <td>1451367.44</td>\n",
       "    </tr>\n",
       "    <tr>\n",
       "      <th>Utilidad</th>\n",
       "      <td>480.0</td>\n",
       "      <td>NaN</td>\n",
       "      <td>NaN</td>\n",
       "      <td>NaN</td>\n",
       "      <td>369553.610771</td>\n",
       "      <td>263795.833364</td>\n",
       "      <td>240.34</td>\n",
       "      <td>167052.425</td>\n",
       "      <td>322863.2</td>\n",
       "      <td>504072.8175</td>\n",
       "      <td>1442403.44</td>\n",
       "    </tr>\n",
       "  </tbody>\n",
       "</table>\n",
       "</div>"
      ],
      "text/plain": [
       "                count unique    top freq           mean            std  \\\n",
       "Año             480.0    NaN    NaN  NaN         2023.5       0.500522   \n",
       "Mes             480.0    NaN    NaN  NaN            6.5       3.455654   \n",
       "Región            480      4  Norte  120            NaN            NaN   \n",
       "Cultivo           480      5   Maíz   96            NaN            NaN   \n",
       "Superficie_Ha   480.0    NaN    NaN  NaN     253.041667     141.376776   \n",
       "Producción_Ton  480.0    NaN    NaN  NaN     1613.71875     1157.53085   \n",
       "Precio_Ton      480.0    NaN    NaN  NaN     254.586896       74.45154   \n",
       "Costos_Insumos  480.0    NaN    NaN  NaN    10438.29375    5545.255615   \n",
       "Ingresos        480.0    NaN    NaN  NaN  379991.904521  263489.847762   \n",
       "Utilidad        480.0    NaN    NaN  NaN  369553.610771  263795.833364   \n",
       "\n",
       "                     min         25%         50%          75%         max  \n",
       "Año               2023.0      2023.0      2023.5       2024.0      2024.0  \n",
       "Mes                  1.0        3.75         6.5         9.25        12.0  \n",
       "Región               NaN         NaN         NaN          NaN         NaN  \n",
       "Cultivo              NaN         NaN         NaN          NaN         NaN  \n",
       "Superficie_Ha       20.0       137.0       245.0       378.25       499.0  \n",
       "Producción_Ton      48.0      677.25      1314.5       2412.5      5403.0  \n",
       "Precio_Ton        100.09    193.8125     265.365       312.11      397.48  \n",
       "Costos_Insumos    1543.0      5399.5     10356.5     15137.25     19957.0  \n",
       "Ingresos        17546.34   179413.99  334503.955    515130.73  1451367.44  \n",
       "Utilidad          240.34  167052.425    322863.2  504072.8175  1442403.44  "
      ]
     },
     "execution_count": 6,
     "metadata": {},
     "output_type": "execute_result"
    }
   ],
   "source": [
    "\n",
    "df.describe(include=\"all\").T\n"
   ]
  },
  {
   "cell_type": "markdown",
   "id": "5e289f87",
   "metadata": {},
   "source": [
    "## 4) Crear variable objetivo binaria: Producción Alta vs Baja (umbral = mediana)"
   ]
  },
  {
   "cell_type": "code",
   "execution_count": 7,
   "id": "ea4bcc58",
   "metadata": {},
   "outputs": [
    {
     "name": "stdout",
     "output_type": "stream",
     "text": [
      "Umbral (mediana) de Producción_Ton: 1314.5\n"
     ]
    },
    {
     "data": {
      "text/plain": [
       "Produccion_Alta\n",
       "0    240\n",
       "1    240\n",
       "Name: count, dtype: int64"
      ]
     },
     "execution_count": 7,
     "metadata": {},
     "output_type": "execute_result"
    }
   ],
   "source": [
    "\n",
    "threshold = df[\"Producción_Ton\"].median()\n",
    "df[\"Produccion_Alta\"] = (df[\"Producción_Ton\"] > threshold).astype(int)\n",
    "\n",
    "print(\"Umbral (mediana) de Producción_Ton:\", threshold)\n",
    "df[\"Produccion_Alta\"].value_counts(dropna=False)\n"
   ]
  },
  {
   "cell_type": "markdown",
   "id": "5cbafa96",
   "metadata": {},
   "source": [
    "## 5) Definir variables y Train/Test"
   ]
  },
  {
   "cell_type": "code",
   "execution_count": 8,
   "id": "a615a953",
   "metadata": {},
   "outputs": [
    {
     "data": {
      "text/plain": [
       "(384, 96, 0.5, 0.5)"
      ]
     },
     "execution_count": 8,
     "metadata": {},
     "output_type": "execute_result"
    }
   ],
   "source": [
    "\n",
    "target_col = \"Produccion_Alta\"\n",
    "feature_cols = [\"Año\", \"Mes\", \"Región\", \"Cultivo\", \"Superficie_Ha\", \"Precio_Ton\", \"Costos_Insumos\"]\n",
    "\n",
    "X = df[feature_cols].copy()\n",
    "y = df[target_col].copy()\n",
    "\n",
    "X_train, X_test, y_train, y_test = train_test_split(\n",
    "    X, y, test_size=0.2, random_state=42, stratify=y\n",
    ")\n",
    "\n",
    "len(X_train), len(X_test), y_train.mean().round(3), y_test.mean().round(3)\n"
   ]
  },
  {
   "cell_type": "markdown",
   "id": "3a918069",
   "metadata": {},
   "source": [
    "## 6) Preprocesamiento (numéricas y categóricas)"
   ]
  },
  {
   "cell_type": "code",
   "execution_count": 9,
   "id": "aebef16a",
   "metadata": {},
   "outputs": [],
   "source": [
    "\n",
    "numeric_features = [\"Año\", \"Mes\", \"Superficie_Ha\", \"Precio_Ton\", \"Costos_Insumos\"]\n",
    "categorical_features = [\"Región\", \"Cultivo\"]\n",
    "\n",
    "numeric_transformer = Pipeline(steps=[\n",
    "    (\"imputer\", SimpleImputer(strategy=\"median\")),\n",
    "    (\"scaler\", StandardScaler())\n",
    "])\n",
    "\n",
    "categorical_transformer = Pipeline(steps=[\n",
    "    (\"imputer\", SimpleImputer(strategy=\"most_frequent\")),\n",
    "    (\"onehot\", OneHotEncoder(handle_unknown=\"ignore\"))\n",
    "])\n",
    "\n",
    "preprocessor = ColumnTransformer(\n",
    "    transformers=[\n",
    "        (\"num\", numeric_transformer, numeric_features),\n",
    "        (\"cat\", categorical_transformer, categorical_features),\n",
    "    ]\n",
    ")\n"
   ]
  },
  {
   "cell_type": "markdown",
   "id": "14e6bafe",
   "metadata": {},
   "source": [
    "## 7) Entrenamiento del **RandomForestClassifier**"
   ]
  },
  {
   "cell_type": "code",
   "execution_count": 10,
   "id": "2adeb46d",
   "metadata": {},
   "outputs": [
    {
     "name": "stdout",
     "output_type": "stream",
     "text": [
      "Modelo entrenado.\n"
     ]
    }
   ],
   "source": [
    "\n",
    "clf = Pipeline(steps=[\n",
    "    (\"preprocessor\", preprocessor),\n",
    "    (\"model\", RandomForestClassifier(n_estimators=300, random_state=42, n_jobs=-1))\n",
    "])\n",
    "\n",
    "clf.fit(X_train, y_train)\n",
    "y_pred = clf.predict(X_test)\n",
    "y_proba = clf.predict_proba(X_test)[:, 1]\n",
    "print(\"Modelo entrenado.\")\n"
   ]
  },
  {
   "cell_type": "markdown",
   "id": "162dc3ab",
   "metadata": {},
   "source": [
    "## 8) Métricas de evaluación"
   ]
  },
  {
   "cell_type": "code",
   "execution_count": 11,
   "id": "71b197a4",
   "metadata": {},
   "outputs": [
    {
     "name": "stdout",
     "output_type": "stream",
     "text": [
      "Accuracy: 0.938\n",
      "\n",
      "Reporte de Clasificación:\n",
      "              precision    recall  f1-score   support\n",
      "\n",
      "           0      0.938     0.938     0.938        48\n",
      "           1      0.938     0.938     0.938        48\n",
      "\n",
      "    accuracy                          0.938        96\n",
      "   macro avg      0.938     0.938     0.938        96\n",
      "weighted avg      0.938     0.938     0.938        96\n",
      "\n"
     ]
    }
   ],
   "source": [
    "\n",
    "acc = accuracy_score(y_test, y_pred)\n",
    "print(f\"Accuracy: {acc:.3f}\\n\")\n",
    "\n",
    "print(\"Reporte de Clasificación:\")\n",
    "print(classification_report(y_test, y_pred, digits=3))\n"
   ]
  },
  {
   "cell_type": "markdown",
   "id": "bfef4ca2",
   "metadata": {},
   "source": [
    "## 9) Matriz de confusión"
   ]
  },
  {
   "cell_type": "code",
   "execution_count": 12,
   "id": "eb1e2f8d",
   "metadata": {},
   "outputs": [
    {
     "data": {
      "image/png": "[encoded data removed]",
      "text/plain": [
       "<Figure size 400x400 with 1 Axes>"
      ]
     },
     "metadata": {},
     "output_type": "display_data"
    }
   ],
   "source": [
    "\n",
    "cm = confusion_matrix(y_test, y_pred)\n",
    "\n",
    "fig, ax = plt.subplots(figsize=(4,4))\n",
    "im = ax.imshow(cm, interpolation='nearest')\n",
    "ax.set_title(\"Matriz de Confusión\")\n",
    "ax.set_xlabel(\"Predicción\")\n",
    "ax.set_ylabel(\"Real\")\n",
    "ax.set_xticks([0,1])\n",
    "ax.set_yticks([0,1])\n",
    "ax.set_xticklabels([\"Baja\",\"Alta\"])\n",
    "ax.set_yticklabels([\"Baja\",\"Alta\"])\n",
    "\n",
    "# Anotar valores\n",
    "for i in range(cm.shape[0]):\n",
    "    for j in range(cm.shape[1]):\n",
    "        ax.text(j, i, cm[i, j], ha=\"center\", va=\"center\")\n",
    "\n",
    "plt.tight_layout()\n",
    "plt.show()\n"
   ]
  },
  {
   "cell_type": "markdown",
   "id": "fecc0200",
   "metadata": {},
   "source": [
    "## 10) ROC-AUC y curva ROC"
   ]
  },
  {
   "cell_type": "code",
   "execution_count": 13,
   "id": "4a9691e9",
   "metadata": {},
   "outputs": [
    {
     "name": "stdout",
     "output_type": "stream",
     "text": [
      "ROC-AUC: 0.984\n"
     ]
    },
    {
     "data": {
      "image/png": "[encoded data removed]",
      "text/plain": [
       "<Figure size 640x480 with 1 Axes>"
      ]
     },
     "metadata": {},
     "output_type": "display_data"
    }
   ],
   "source": [
    "\n",
    "roc_auc = roc_auc_score(y_test, y_proba)\n",
    "print(f\"ROC-AUC: {roc_auc:.3f}\")\n",
    "\n",
    "RocCurveDisplay.from_estimator(clf, X_test, y_test)\n",
    "plt.title(\"Curva ROC — Random Forest\")\n",
    "plt.tight_layout()\n",
    "plt.show()\n"
   ]
  },
  {
   "cell_type": "markdown",
   "id": "a84c4758",
   "metadata": {},
   "source": [
    "## 11) Importancia de variables (Top 15)"
   ]
  },
  {
   "cell_type": "code",
   "execution_count": 14,
   "id": "0b053a5b",
   "metadata": {},
   "outputs": [
    {
     "data": {
      "text/html": [
       "<div>\n",
       "<style scoped>\n",
       "    .dataframe tbody tr th:only-of-type {\n",
       "        vertical-align: middle;\n",
       "    }\n",
       "\n",
       "    .dataframe tbody tr th {\n",
       "        vertical-align: top;\n",
       "    }\n",
       "\n",
       "    .dataframe thead th {\n",
       "        text-align: right;\n",
       "    }\n",
       "</style>\n",
       "<table border=\"1\" class=\"dataframe\">\n",
       "  <thead>\n",
       "    <tr style=\"text-align: right;\">\n",
       "      <th></th>\n",
       "      <th>feature</th>\n",
       "      <th>importance</th>\n",
       "    </tr>\n",
       "  </thead>\n",
       "  <tbody>\n",
       "    <tr>\n",
       "      <th>2</th>\n",
       "      <td>Superficie_Ha</td>\n",
       "      <td>0.513235</td>\n",
       "    </tr>\n",
       "    <tr>\n",
       "      <th>3</th>\n",
       "      <td>Precio_Ton</td>\n",
       "      <td>0.127057</td>\n",
       "    </tr>\n",
       "    <tr>\n",
       "      <th>4</th>\n",
       "      <td>Costos_Insumos</td>\n",
       "      <td>0.077439</td>\n",
       "    </tr>\n",
       "    <tr>\n",
       "      <th>1</th>\n",
       "      <td>Mes</td>\n",
       "      <td>0.060153</td>\n",
       "    </tr>\n",
       "    <tr>\n",
       "      <th>11</th>\n",
       "      <td>Cultivo_Soja</td>\n",
       "      <td>0.059565</td>\n",
       "    </tr>\n",
       "    <tr>\n",
       "      <th>13</th>\n",
       "      <td>Cultivo_Trigo</td>\n",
       "      <td>0.033442</td>\n",
       "    </tr>\n",
       "    <tr>\n",
       "      <th>9</th>\n",
       "      <td>Cultivo_Manzana</td>\n",
       "      <td>0.031141</td>\n",
       "    </tr>\n",
       "    <tr>\n",
       "      <th>12</th>\n",
       "      <td>Cultivo_Tomate</td>\n",
       "      <td>0.017775</td>\n",
       "    </tr>\n",
       "    <tr>\n",
       "      <th>10</th>\n",
       "      <td>Cultivo_Maíz</td>\n",
       "      <td>0.016864</td>\n",
       "    </tr>\n",
       "    <tr>\n",
       "      <th>0</th>\n",
       "      <td>Año</td>\n",
       "      <td>0.015403</td>\n",
       "    </tr>\n",
       "    <tr>\n",
       "      <th>5</th>\n",
       "      <td>Región_Austral</td>\n",
       "      <td>0.014462</td>\n",
       "    </tr>\n",
       "    <tr>\n",
       "      <th>8</th>\n",
       "      <td>Región_Sur</td>\n",
       "      <td>0.012576</td>\n",
       "    </tr>\n",
       "    <tr>\n",
       "      <th>7</th>\n",
       "      <td>Región_Norte</td>\n",
       "      <td>0.010483</td>\n",
       "    </tr>\n",
       "    <tr>\n",
       "      <th>6</th>\n",
       "      <td>Región_Centro</td>\n",
       "      <td>0.010407</td>\n",
       "    </tr>\n",
       "  </tbody>\n",
       "</table>\n",
       "</div>"
      ],
      "text/plain": [
       "            feature  importance\n",
       "2     Superficie_Ha    0.513235\n",
       "3        Precio_Ton    0.127057\n",
       "4    Costos_Insumos    0.077439\n",
       "1               Mes    0.060153\n",
       "11     Cultivo_Soja    0.059565\n",
       "13    Cultivo_Trigo    0.033442\n",
       "9   Cultivo_Manzana    0.031141\n",
       "12   Cultivo_Tomate    0.017775\n",
       "10     Cultivo_Maíz    0.016864\n",
       "0               Año    0.015403\n",
       "5    Región_Austral    0.014462\n",
       "8        Región_Sur    0.012576\n",
       "7      Región_Norte    0.010483\n",
       "6     Región_Centro    0.010407"
      ]
     },
     "execution_count": 14,
     "metadata": {},
     "output_type": "execute_result"
    }
   ],
   "source": [
    "\n",
    "# Recuperar nombres tras One-Hot\n",
    "ohe = clf.named_steps[\"preprocessor\"].named_transformers_[\"cat\"].named_steps[\"onehot\"]\n",
    "cat_feature_names = list(ohe.get_feature_names_out(categorical_features))\n",
    "all_features = numeric_features + cat_feature_names\n",
    "\n",
    "rf = clf.named_steps[\"model\"]\n",
    "importances = rf.feature_importances_\n",
    "\n",
    "imp_df = pd.DataFrame({\"feature\": all_features, \"importance\": importances})\\\n",
    "          .sort_values(\"importance\", ascending=False)\n",
    "\n",
    "imp_df.head(15)\n"
   ]
  },
  {
   "cell_type": "code",
   "execution_count": 15,
   "id": "37742147",
   "metadata": {},
   "outputs": [
    {
     "data": {
      "image/png": "[encoded data removed]",
      "text/plain": [
       "<Figure size 800x600 with 1 Axes>"
      ]
     },
     "metadata": {},
     "output_type": "display_data"
    }
   ],
   "source": [
    "\n",
    "top = imp_df.head(15)\n",
    "plt.figure(figsize=(8,6))\n",
    "plt.barh(top[\"feature\"][::-1], top[\"importance\"][::-1])\n",
    "plt.xlabel(\"Importancia\")\n",
    "plt.ylabel(\"Característica\")\n",
    "plt.title(\"Importancias de características (Top 15)\")\n",
    "plt.tight_layout()\n",
    "plt.show()\n"
   ]
  },
  {
   "cell_type": "markdown",
   "id": "f2c5b43d",
   "metadata": {},
   "source": [
    "## 12) (Opcional) Validación cruzada (accuracy y ROC-AUC)"
   ]
  },
  {
   "cell_type": "code",
   "execution_count": 16,
   "id": "1d55d911",
   "metadata": {},
   "outputs": [
    {
     "name": "stdout",
     "output_type": "stream",
     "text": [
      "=== Validación Cruzada (5-fold) ===\n",
      "Accuracy folds : [0.906 0.927 0.917 0.927 0.958]  ->  media±std: 0.927 ± 0.017\n",
      "ROC-AUC  folds : [0.969 0.992 0.972 0.974 0.976]  ->  media±std: 0.977 ± 0.008\n"
     ]
    }
   ],
   "source": [
    "\n",
    "skf = StratifiedKFold(n_splits=5, shuffle=True, random_state=42)\n",
    "\n",
    "cv_acc = cross_val_score(clf, X, y, cv=skf, scoring=\"accuracy\")\n",
    "cv_roc = cross_val_score(clf, X, y, cv=skf, scoring=\"roc_auc\")\n",
    "\n",
    "print(\"=== Validación Cruzada (5-fold) ===\")\n",
    "print(f\"Accuracy folds : {np.round(cv_acc, 3)}  ->  media±std: {cv_acc.mean():.3f} ± {cv_acc.std():.3f}\")\n",
    "print(f\"ROC-AUC  folds : {np.round(cv_roc, 3)}  ->  media±std: {cv_roc.mean():.3f} ± {cv_roc.std():.3f}\")\n"
   ]
  }
 ],
 "metadata": {
  "kernelspec": {
   "display_name": "Python 3",
   "language": "python",
   "name": "python3"
  },
  "language_info": {
   "codemirror_mode": {
    "name": "ipython",
    "version": 3
   },
   "file_extension": ".py",
   "mimetype": "text/x-python",
   "name": "python",
   "nbconvert_exporter": "python",
   "pygments_lexer": "ipython3",
   "version": "3.10.0"
  }
 },
 "nbformat": 4,
 "nbformat_minor": 5
}
