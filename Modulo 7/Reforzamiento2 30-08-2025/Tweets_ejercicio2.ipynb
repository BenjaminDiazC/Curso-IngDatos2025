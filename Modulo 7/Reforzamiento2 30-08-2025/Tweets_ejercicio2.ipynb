{
 "cells": [
  {
   "cell_type": "markdown",
   "metadata": {},
   "source": [
    "# Solución sencilla — Tweets con Spark SQL\n",
    "\n",
    "Este notebook:\n",
    "1. Carga `tweets.csv` en un DataFrame de Spark.\n",
    "2. Agrega `num_palabras` (conteo simple de palabras).\n",
    "3. Crea la vista temporal `tweets`.\n",
    "4. Ejecuta consultas SQL: total de tweets, promedio de palabras, top 5 usuarios.\n",
    "5. Dibuja un gráfico de barras con el top 5 de usuarios más activos."
   ]
  },
  {
   "cell_type": "markdown",
   "metadata": {},
   "source": [
    "## 1) Crear SparkSession"
   ]
  },
  {
   "cell_type": "code",
   "execution_count": 1,
   "metadata": {},
   "outputs": [
    {
     "data": {
      "text/html": [
       "\n",
       "            <div>\n",
       "                <p><b>SparkSession - in-memory</b></p>\n",
       "                \n",
       "        <div>\n",
       "            <p><b>SparkContext</b></p>\n",
       "\n",
       "            <p><a href=\"http://host.docker.internal:4046\">Spark UI</a></p>\n",
       "\n",
       "            <dl>\n",
       "              <dt>Version</dt>\n",
       "                <dd><code>v3.5.1</code></dd>\n",
       "              <dt>Master</dt>\n",
       "                <dd><code>local[*]</code></dd>\n",
       "              <dt>AppName</dt>\n",
       "                <dd><code>Tweets_Ejercicio_Solucion</code></dd>\n",
       "            </dl>\n",
       "        </div>\n",
       "        \n",
       "            </div>\n",
       "        "
      ],
      "text/plain": [
       "<pyspark.sql.session.SparkSession at 0x169f2b8d480>"
      ]
     },
     "execution_count": 1,
     "metadata": {},
     "output_type": "execute_result"
    }
   ],
   "source": [
    "import os, sys\n",
    "from pyspark.sql import SparkSession\n",
    "\n",
    "# Recomendado (Windows/Colab): usar el mismo Python para driver y workers\n",
    "os.environ[\"PYSPARK_PYTHON\"] = sys.executable\n",
    "os.environ[\"PYSPARK_DRIVER_PYTHON\"] = sys.executable\n",
    "\n",
    "spark = (SparkSession.builder\n",
    "         .appName(\"Tweets_Ejercicio_Solucion\")\n",
    "         .config(\"spark.python.use.daemon\",\"false\")\n",
    "         .config(\"spark.python.worker.reuse\",\"false\")\n",
    "         .getOrCreate())\n",
    "\n",
    "spark"
   ]
  },
  {
   "cell_type": "markdown",
   "metadata": {},
   "source": [
    "## 2) Cargar `tweets.csv`"
   ]
  },
  {
   "cell_type": "code",
   "execution_count": 2,
   "metadata": {},
   "outputs": [
    {
     "name": "stdout",
     "output_type": "stream",
     "text": [
      "+--------+---------+-------------------+--------------------------------------------------+--------------------------+\n",
      "|post_id |user     |ts                 |text                                              |hashtags                  |\n",
      "+--------+---------+-------------------+--------------------------------------------------+--------------------------+\n",
      "|p0_00000|user_0138|2025-08-25 08:57:11|Tips de optimización en PySpark y particionado    |#kafka #spark             |\n",
      "|p0_00001|user_0195|2025-08-25 08:41:40|Delta y formatos columnares mejoran el rendimiento|#nlp                      |\n",
      "|p0_00002|user_0070|2025-08-25 10:54:23|Arquitecturas de datos modernas en la nube        |#cloud #bigdata           |\n",
      "|p0_00003|user_0194|2025-08-25 09:35:41|Tips de optimización en PySpark y particionado    |#opensource #spark        |\n",
      "|p0_00004|user_0073|2025-08-25 09:41:19|¿Cuál es tu librería favorita para ETL?           |#datascience #deeplearning|\n",
      "+--------+---------+-------------------+--------------------------------------------------+--------------------------+\n",
      "only showing top 5 rows\n",
      "\n",
      "root\n",
      " |-- post_id: string (nullable = true)\n",
      " |-- user: string (nullable = true)\n",
      " |-- ts: timestamp (nullable = true)\n",
      " |-- text: string (nullable = true)\n",
      " |-- hashtags: string (nullable = true)\n",
      "\n"
     ]
    }
   ],
   "source": [
    "csv_path = \"tweets.csv\"\n",
    "\n",
    "df = (spark.read\n",
    "      .option(\"header\", True)\n",
    "      .option(\"inferSchema\", True)\n",
    "      .csv(csv_path))\n",
    "\n",
    "df.show(5, truncate=False)\n",
    "df.printSchema()"
   ]
  },
  {
   "cell_type": "markdown",
   "metadata": {},
   "source": [
    "## 3) Preparar datos y vista temporal"
   ]
  },
  {
   "cell_type": "code",
   "execution_count": 3,
   "metadata": {},
   "outputs": [],
   "source": [
    "from pyspark.sql.functions import size, split, col\n",
    "\n",
    "# Conteo simple de palabras separadas por espacio\n",
    "df = df.withColumn(\"num_palabras\", size(split(col(\"text\"), \" \")))\n",
    "\n",
    "# Crear vista temporal\n",
    "df.createOrReplaceTempView(\"tweets\")"
   ]
  },
  {
   "cell_type": "markdown",
   "metadata": {},
   "source": [
    "## 4) Consultas Spark SQL"
   ]
  },
  {
   "cell_type": "code",
   "execution_count": 4,
   "metadata": {},
   "outputs": [
    {
     "name": "stdout",
     "output_type": "stream",
     "text": [
      "+------------+\n",
      "|total_tweets|\n",
      "+------------+\n",
      "|       16000|\n",
      "+------------+\n",
      "\n"
     ]
    }
   ],
   "source": [
    "# 4a) Total de tweets\n",
    "spark.sql(\"SELECT COUNT(*) AS total_tweets FROM tweets\").show()"
   ]
  },
  {
   "cell_type": "code",
   "execution_count": 5,
   "metadata": {},
   "outputs": [
    {
     "name": "stdout",
     "output_type": "stream",
     "text": [
      "+-----------------+\n",
      "|promedio_palabras|\n",
      "+-----------------+\n",
      "|          6.46625|\n",
      "+-----------------+\n",
      "\n"
     ]
    }
   ],
   "source": [
    "# 4b) Promedio de palabras por tweet\n",
    "spark.sql(\"SELECT AVG(num_palabras) AS promedio_palabras FROM tweets\").show()"
   ]
  },
  {
   "cell_type": "code",
   "execution_count": 6,
   "metadata": {},
   "outputs": [
    {
     "name": "stdout",
     "output_type": "stream",
     "text": [
      "+---------+-----+\n",
      "|user     |total|\n",
      "+---------+-----+\n",
      "|user_0159|74   |\n",
      "|user_0165|73   |\n",
      "|user_0288|71   |\n",
      "|user_0192|70   |\n",
      "|user_0199|70   |\n",
      "+---------+-----+\n",
      "\n"
     ]
    }
   ],
   "source": [
    "# 4c) Top 5 usuarios más activos\n",
    "top_users = spark.sql('''\n",
    "SELECT user, COUNT(*) AS total\n",
    "FROM tweets\n",
    "GROUP BY user\n",
    "ORDER BY total DESC\n",
    "LIMIT 5\n",
    "''')\n",
    "top_users.show(truncate=False)"
   ]
  },
  {
   "cell_type": "markdown",
   "metadata": {},
   "source": [
    "## 5) Gráfico — Top 5 usuarios por número de tweets"
   ]
  },
  {
   "cell_type": "code",
   "execution_count": 7,
   "metadata": {},
   "outputs": [
    {
     "data": {
      "image/png": "[encoded data removed]",
      "text/plain": [
       "<Figure size 640x480 with 1 Axes>"
      ]
     },
     "metadata": {},
     "output_type": "display_data"
    }
   ],
   "source": [
    "import matplotlib.pyplot as plt\n",
    "\n",
    "pdf = top_users.toPandas()\n",
    "\n",
    "plt.figure()\n",
    "plt.bar(pdf[\"user\"], pdf[\"total\"])\n",
    "plt.title(\"Top 5 usuarios más activos\")\n",
    "plt.xlabel(\"Usuario\")\n",
    "plt.ylabel(\"Número de tweets\")\n",
    "plt.show()"
   ]
  }
 ],
 "metadata": {
  "kernelspec": {
   "display_name": "Python 3",
   "language": "python",
   "name": "python3"
  },
  "language_info": {
   "codemirror_mode": {
    "name": "ipython",
    "version": 3
   },
   "file_extension": ".py",
   "mimetype": "text/x-python",
   "name": "python",
   "nbconvert_exporter": "python",
   "pygments_lexer": "ipython3",
   "version": "3.10.0"
  }
 },
 "nbformat": 4,
 "nbformat_minor": 2
}
